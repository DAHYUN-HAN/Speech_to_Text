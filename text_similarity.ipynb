{
 "cells": [
  {
   "cell_type": "code",
   "execution_count": 3,
   "metadata": {},
   "outputs": [],
   "source": [
    "from difflib import SequenceMatcher\n",
    "import numpy as np\n",
    "from matplotlib import pyplot as plt"
   ]
  },
  {
   "cell_type": "code",
   "execution_count": 19,
   "metadata": {},
   "outputs": [],
   "source": [
    "# result_list = []\n",
    "init = [3]*11   \n",
    "result_list.append(init)"
   ]
  },
  {
   "cell_type": "code",
   "execution_count": 20,
   "metadata": {},
   "outputs": [
    {
     "data": {
      "text/plain": [
       "[[1, 1, 1, 1, 1, 1, 1, 1, 1, 1, 1],\n",
       " [0, 0, 0, 0, 0, 0, 0, 0, 0, 0, 0],\n",
       " [3, 3, 3, 3, 3, 3, 3, 3, 3, 3, 3]]"
      ]
     },
     "execution_count": 20,
     "metadata": {},
     "output_type": "execute_result"
    }
   ],
   "source": [
    "result_list"
   ]
  },
  {
   "cell_type": "code",
   "execution_count": 21,
   "metadata": {},
   "outputs": [
    {
     "data": {
      "text/plain": [
       "[[0, 0, 0, 0, 0, 0, 0, 0, 0, 0, 0], [3, 3, 3, 3, 3, 3, 3, 3, 3, 3, 3]]"
      ]
     },
     "execution_count": 21,
     "metadata": {},
     "output_type": "execute_result"
    }
   ],
   "source": [
    "result_list[-2:]"
   ]
  },
  {
   "cell_type": "code",
   "execution_count": 2,
   "metadata": {},
   "outputs": [
    {
     "name": "stdout",
     "output_type": "stream",
     "text": [
      "1\n"
     ]
    }
   ],
   "source": [
    "if(len(temp_ratio)):\n",
    "    print('0')\n",
    "else:\n",
    "    print('1')"
   ]
  },
  {
   "cell_type": "code",
   "execution_count": 339,
   "metadata": {},
   "outputs": [],
   "source": [
    "original = '안녕하세요 현준입니다 반가워요 오늘 제가 읽어 드릴 책은요 얼어 죽어도 아이스 아메리카노라는 책입니다. 얼죽아라고 하죠 얼죽아 읽는 동안 어 위로를 많이 받았습니다. 저와 같은 위로를 여러분들도 같이 느낄 수 있었으면 좋겠다 라는 마음에 이 책을 읽게 됐어요 읽어드릴게요 만족하지 못하면 외롭다 불만이 많은 사람들은 대부분의 잘못 들을 타인에게 돌리고 걱정이 많은 사람들은 쓸모없는 것까지 굳이 싸잡아 자신에게 돌린다 전자의 경우엔 화가 많고 후자의 경우엔 슬픔이 많다 그리고 둘 다 외롭다'\n",
    "new_original = original.replace(\" \", \"\")\n",
    "\n",
    "google = '안녕하세요 현실입니다 반가워요 오늘 제가 읽어 드릴게요 그뇨 얼어죽어도 아이스 아메리카노 하는 소립니다 얼죽 아라고 가정을 주가 있는 동안 위로를 많이 받았습니다 저와 같은 일을 여러분들도 같이 느낄 수 있었으면 좋겠다 나는 마음에이 책을 읽기 됐어요 이거 드릴게요 만족하지 못하면 외롭다 불만이 많은 사람들은 대부분의 잘못들을 타인에게 돌리고 걱정이 많은 사람들은 쓸모 없는 것까지 그 대상자가 자 신에게 돌린다 전자의 경우 엔화가 많고 부자의 경우엔 제품이 많다 그리고 둘 다 알았다'\n",
    "new_google = google.replace(\" \", \"\")\n",
    "\n",
    "naver = '안녕하세요 현준입니다. 반가워요 오늘 제가 읽어드릴 책은요. 얼어죽어도 아이스 아메리카노라는 책입니다. 얼주가라고 하죠. 얼주가 읽는 동안 위로를 많이 받았습니다. 저와 같은 위로를 여러분들도 같이 느낄 수 있었으면 좋겠다. 라는 마음에 이 책을 읽게 됐어요. 읽어드릴게요 만족하지 못하면 외롭다. 불만이 많은 사람들은 대부분의 잘못들을 타인에게 돌리고. 걱정이 많은 사람들은 쓸모없는 것까지 그들이 싸잡아 자신에게 돌린다. 전자의 경우에는 화가 많고. 부자의 경우에는 슬픔이 많다. 그리고 둘 다 외롭다'\n",
    "new_naver = naver.replace(\" \", \"\")"
   ]
  },
  {
   "cell_type": "code",
   "execution_count": 181,
   "metadata": {},
   "outputs": [
    {
     "name": "stdout",
     "output_type": "stream",
     "text": [
      "0.7875457875457875\n"
     ]
    }
   ],
   "source": [
    "ratio = SequenceMatcher(None, original, google).ratio()\n",
    "print(ratio)"
   ]
  },
  {
   "cell_type": "code",
   "execution_count": 340,
   "metadata": {},
   "outputs": [
    {
     "name": "stdout",
     "output_type": "stream",
     "text": [
      "0.9289099526066351\n"
     ]
    }
   ],
   "source": [
    "ratio = SequenceMatcher(None, new_original, new_naver).ratio()\n",
    "print(ratio)"
   ]
  },
  {
   "cell_type": "code",
   "execution_count": 203,
   "metadata": {},
   "outputs": [],
   "source": [
    "original2 = '나는 마음을 돌리고 다시 주저앉았다. 묵직한 발소리가 계단 열일곱 개를 올라 차츰 가까이에 왔다. 마침 내 방 문 앞에서 발소리가 딱 멈추고 곧이어 노크 소리가 났다. 예 들어오십시오 홈즈의 대답에 벌컥 문을 열고 방안으로 들어선 사람은 그리스 신화에 나오는 헤라클레스처럼 건장한 몸집에 위엄 있는 얼굴을 한 남자였다. 입은 옷 또한 무척이나 화려했다. 윗옷 소매와 깃 가장자리에 값진 아스트라칸 모피가 달려 있었으며 어깨에 걸친 청색 망토의 안감은 눈에 확 띄는 노란 비단이었다. 그리고 아름다운 에메랄드로 장식'\n",
    "new_original2 = original2.replace(\" \", \"\")\n",
    "\n",
    "google2 = '나는 마음을 돌리고 다시 주저앉았다 묵직한 발소리가 계단 요리법 개를 올라 차츰 가까이에 왔다 마침 내 방 문 앞에서 발 소리가 딱 멈추고 오디오 노크 소리가났다 예 들어오십시오 홍제 대답해 벌컥 문을 열고 방 안으로 들어 쓴 사람은 그리스 신화에 나오는 헤라클레스처럼 건전한 먹을 집에 위엄있는 얼굴 한 남자였다 어떠한 무척이나 화려했다 withmania 깃 가장자리의 값진 아스트라 칸무비가 달려 있었으며 어깨에 걸친 청색 망토의 안감은 눈에 확 띄는 노란빛 아니었다 그리고 아름다운 에메랄드를'\n",
    "new_google2 = google2.replace(\" \", \"\")\n",
    "\n",
    "naver2 = '나는 마음을 돌리고 다시 주저앉았다. 묵직한 발소리가 계단 17개를 올라차츰 가까이에 왔다. 마침 내 방문 앞에서 발소리가 딱 멈추고. 곧이어 노크 소리가 났다. 들어오십시오 홍제의 대답에 벌컥 문을 열고 방 안으로 들어선 사람은. 그릇의 신화에 나오는 헤라클래스처럼 건장한 몸집에 위험이 있는 얼굴을 한 남자였다. 입은 옷 또한 무척이나 화려했다. 위도 소매와 기 가장자리에 값진 아스트라칸 모피가 달려 있었으며. 어깨에 걸친 청색 망토의 안감은 눈에 확 띄는 노란 비단이었다. 그리고 아름다운 에메랄드로 자식. 등'\n",
    "new_naver2 = naver2.replace(\" \", \"\")"
   ]
  },
  {
   "cell_type": "code",
   "execution_count": 204,
   "metadata": {},
   "outputs": [
    {
     "name": "stdout",
     "output_type": "stream",
     "text": [
      "0.8353808353808354\n"
     ]
    }
   ],
   "source": [
    "ratio = SequenceMatcher(None, new_original, new_google).ratio()\n",
    "print(ratio)"
   ]
  },
  {
   "cell_type": "code",
   "execution_count": 205,
   "metadata": {},
   "outputs": [
    {
     "name": "stdout",
     "output_type": "stream",
     "text": [
      "0.8305489260143198\n"
     ]
    }
   ],
   "source": [
    "ratio = SequenceMatcher(None, new_original2, new_google2).ratio()\n",
    "print(ratio)"
   ]
  },
  {
   "cell_type": "code",
   "execution_count": 206,
   "metadata": {},
   "outputs": [
    {
     "name": "stdout",
     "output_type": "stream",
     "text": [
      "0.8037825059101655\n"
     ]
    }
   ],
   "source": [
    "ratio = SequenceMatcher(None, new_naver2, new_google2).ratio()\n",
    "print(ratio)"
   ]
  },
  {
   "cell_type": "code",
   "execution_count": 207,
   "metadata": {},
   "outputs": [
    {
     "name": "stdout",
     "output_type": "stream",
     "text": [
      "0.7337807606263982\n",
      "0.710691823899371\n"
     ]
    }
   ],
   "source": [
    "original3 = '가족이라며 아프면 아프다 힘들면 힘들다 말할 수 있는 게 가족 아니야? 어.. 뭘 어떻게 해야 할지 잘 모르겠는데 내가 포기한 거 아니야 나도 어떻게든 끝까지 하고 싶어 그럼 하면 되잖아 오빠 야 하고 싶은 마음만 있으면 우리 언제든 다시 시작할 수 있어 우리 젊어 오빠 내가 어디서 들었는데 어떻게 해야 될지 모를 때는 그냥 하는 거래 그냥 막 하다 보면 거기 끝에 답이 보인다고 하더라고 어? 무대뽀 정신 알겠지 진아 무대뽀는 일본 잔재어잖아 우리 표준어 써야지 표준어'\n",
    "new_original3 = original3.replace(\" \", \"\")\n",
    "\n",
    "google3 = '할 수 있는게 가져가냐 어떻게 하는지 잘 모르겠어 포기한 거 아니야 나도 어떻게든 끝까지 하고 싶어 하고 싶은 말 있으면 우리 언제든 다시 시작할 수 있어 우리 젊어 내가 어디서 들었는데 어떻게 해야 될지 모르겠네 그냥 하는 거래 그냥 막 하다 보면 거기 근데 다들 보인다고 하 더라고 알겠지 싫어 일본잔재 오잖아 써야지 표준어'\n",
    "new_google3 = google3.replace(\" \", \"\")\n",
    "\n",
    "naver3 = '가족이라며 아프면 아프다. 힘들면 말할 수 있는게 가족 아니야. 어떻게 해야 할지 잘 모르겠어요. 내가 포기한 거 아니야. 나도 어떻게든 끝까지 하고 싶어. 하고 싶은 마음만 있으면 우리 언제든 다시 시작할 수 있어. 우리 젊어. 내가 어디서 들었는데 어떻게 해야 될지 모를 때는 그냥 하는 거래. 그냥. 막 하다 보면 거기 끝에 답이 보인다고 하더라고. 어 운전보다. 알겠지 신랑 모델 보는 일본 잔재 오잖아.우리 혁신 왔어요.'\n",
    "new_naver3 = naver3.replace(\" \", \"\")\n",
    "\n",
    "ratio = SequenceMatcher(None, original3, google3).ratio()\n",
    "print(ratio)\n",
    "\n",
    "ratio = SequenceMatcher(None, new_original3, new_google3).ratio()\n",
    "print(ratio)"
   ]
  },
  {
   "cell_type": "code",
   "execution_count": 220,
   "metadata": {},
   "outputs": [],
   "source": [
    "s1 = '전자의 경우엔 화가 많고 후자의 경우엔 슬픔이 많다 그리고 둘 다 외롭다'\n",
    "s2 = '전자의 경우 엔화가 많고 부자의 경우엔 제품이 많다 그리고 둘 다 알았다'\n",
    "\n",
    "new_s1 = s1.replace(\" \", \"\")\n",
    "new_s2 = s2.replace(\" \", \"\")"
   ]
  },
  {
   "cell_type": "code",
   "execution_count": 221,
   "metadata": {},
   "outputs": [
    {
     "name": "stdout",
     "output_type": "stream",
     "text": [
      "0.55\n"
     ]
    }
   ],
   "source": [
    "ratio = SequenceMatcher(None, s1, s2).ratio()\n",
    "print(ratio)"
   ]
  },
  {
   "cell_type": "code",
   "execution_count": 212,
   "metadata": {},
   "outputs": [
    {
     "name": "stdout",
     "output_type": "stream",
     "text": [
      "0.8275862068965517\n"
     ]
    }
   ],
   "source": [
    "ratio = SequenceMatcher(None, new_s1, new_s2).ratio()\n",
    "print(ratio)"
   ]
  },
  {
   "cell_type": "code",
   "execution_count": 213,
   "metadata": {},
   "outputs": [
    {
     "name": "stdout",
     "output_type": "stream",
     "text": [
      "0.8923076923076924\n",
      "0.8571428571428571\n"
     ]
    }
   ],
   "source": [
    "s1 = '묵직한 발소리가 계단 열일곱 개를 올라 차츰 가까이에 왔다.'\n",
    "s2 = '묵직한 발소리가 계단 요리법 개를 올라 차츰 가까이에 왔다'\n",
    "\n",
    "new_s1 = s1.replace(\" \", \"\")\n",
    "new_s2 = s2.replace(\" \", \"\")\n",
    "\n",
    "ratio = SequenceMatcher(None, s1, s2).ratio()\n",
    "print(ratio)\n",
    "\n",
    "ratio = SequenceMatcher(None, new_s1, new_s2).ratio()\n",
    "print(ratio)"
   ]
  },
  {
   "cell_type": "code",
   "execution_count": 338,
   "metadata": {},
   "outputs": [
    {
     "name": "stdout",
     "output_type": "stream",
     "text": [
      "0.7783783783783784\n",
      "0.9361702127659575\n"
     ]
    }
   ],
   "source": [
    "s1 = '헤라클레스처럼 건장한 몸집에 위엄 있는 얼굴을 한 남자였다. 입은 옷 또한 무척이나 화려했다. 윗옷 소매와 깃 가장자리에 값진 아스트라칸 모피가 달려 있었으며 어깨에 걸친 청색 망토의 안감은 눈에 확 띄는 노란 비단이었다.'\n",
    "s2 = '헤라클레스처럼 건전한 먹을 집에 위엄있는 얼굴 한 남자였다 어떠한 무척이나 화려했다 withmania 깃 가장자리의 값진 아스트라 칸무비가 달려 있었으며 어깨에 걸친 청색 망토의 안감은 눈에 확 띄는 노란빛 아니었다'\n",
    "s3 = '헤라클래스처럼 건장한 몸집에 위험이 있는 얼굴을 한 남자였다. 입은 옷 또한 무척이나 화려했다. 위도 소매와 기 가장자리에 값진 아스트라칸 모피가 달려 있었으며. 어깨에 걸친 청색 망토의 안감은 눈에 확 띄는 노란 비단이었다.'\n",
    "\n",
    "new_s1 = s1.replace(\" \", \"\")\n",
    "new_s2 = s2.replace(\" \", \"\")\n",
    "new_s3 = s3.replace(\" \", \"\")\n",
    "\n",
    "\n",
    "ratio = SequenceMatcher(None, new_s1, new_s2).ratio()\n",
    "print(ratio)\n",
    "\n",
    "\n",
    "ratio = SequenceMatcher(None, new_s1, new_s3).ratio()\n",
    "print(ratio)"
   ]
  },
  {
   "cell_type": "code",
   "execution_count": 217,
   "metadata": {},
   "outputs": [
    {
     "name": "stdout",
     "output_type": "stream",
     "text": [
      "0.5565749235474006\n",
      "0.5450733752620545\n",
      "0.6798603026775321\n",
      "0.6645669291338583\n"
     ]
    }
   ],
   "source": [
    "s1 = '갖다주러 온 것뿐이예요 니가 어제 여기 제 발로 찾아왔잖아 아니 내가 모르는 의상 반출이 있었어? (데려와) 아 어제 여기 와서 페인트칠 일단 아 잠깐만 잠깐만 변명하지 마 ... 말을 했어야 할거 아냐 어떻게 연구소를 니 멋대로..? 장부를 적어야지 저기요! 어쨌든 저는 제 할 일 다 했고요 이만 가보겠습니다. 잠깐잠깐사람 팔을 이렇게 만들고 가긴 어딜 간다 그래 신입부원 등록해야지 정말 일관되게 무례하시네요 아아아아아 ``씨 일단 여기 앉으시고 죄송합니다 실례가 안된다면 제가 잠시 개입을 해도 될까요? 상황을 대충 들어보니까 이제 어 대충 알 거 같네요 영업부를 대신해서 제가 대신 사과드리겠습니다. 차렷 경례 ... 반드시 연극부에 들어올 필요는 없지만 그래도 자세한 설명을 한번 들어보시고 생각해보시면 어떨까요? 여기는 지난 몇  년 동안 한번도 공연을 올리지 않은'\n",
    "s2 = '네가 어제 여기 이제 바로 찾았잖아 내가 모든 음성 관심이 있었어 어제 여기 와서 어쨌든 저는 제 할 일 다 했고요 보겠습니다 그래 노력해야지 실례가 안 된다면 제가 잠시 개입을 해도 될까요 대충 들어 보니까 이제 봤네요 영업 을 대신해서 전에 반드시 영등포에 들어 올 수는 없지만 그래도 자세한 설명 한번 들어 보시고 생각해 보시면 어떨까요 여기는  지난 몇 년 동안 한 번도 구매 돌리자는'\n",
    "s3 = '이제 보여주고 해주러 온 거 뿐이에요. 니가 어제 여기 제 발로 찾아왔잖아. 아니 내가 모르는 미사가 집에 있었어. 어제 여기 와서 아니 아니야 아니야. 야. 어떻게 여기서부터 니 멋대로 흘러도 너무 많이 나와요. 우리가 지나가는 거 봐야죠. 장군 저기요. 어쨌든 저는 제 할 일 다 했고요. 이만 가보겠습니다. 오빠 잠깐만 잠깐만. 사람 팔을 이렇게 만들고 가긴 어딜 간다 그래. 힘이 빠져서 어떻게 해야지 정말. 실례가 안 된다면 제가 잠시 개입을 해도 될까요. 어. 저 상황을 대충 들어보니까 이제 됐지만 알 것 같네요. 영업부를 대신해서 저희가 사과드리겠습니다. 차렷 경례. 같이 해야 한다. 반드시 연극부에 들어올 필요는 없지만 그래도 자세한 설명을 한번 들어보시고 생각해보시면 어떨까요. 여기는 지난 몇 년 동안 한번도 공연을 올리자는. 아. 나.'\n",
    "\n",
    "new_s1 = s1.replace(\" \", \"\")\n",
    "new_s2 = s2.replace(\" \", \"\")\n",
    "new_s3 = s3.replace(\" \", \"\")\n",
    "\n",
    "ratio = SequenceMatcher(None, s1, s2).ratio()\n",
    "print(ratio)\n",
    "\n",
    "ratio = SequenceMatcher(None, new_s1, new_s2).ratio()\n",
    "print(ratio)\n",
    "\n",
    "ratio = SequenceMatcher(None, s1, s3).ratio()\n",
    "print(ratio)\n",
    "\n",
    "ratio = SequenceMatcher(None, new_s1, new_s3).ratio()\n",
    "print(ratio)"
   ]
  },
  {
   "cell_type": "code",
   "execution_count": 219,
   "metadata": {},
   "outputs": [
    {
     "name": "stdout",
     "output_type": "stream",
     "text": [
      "0.5945945945945946\n",
      "0.5\n",
      "0.7142857142857143\n",
      "0.625\n"
     ]
    }
   ],
   "source": [
    "s1 = '아니 내가 모르는 의상 반출이 있었어?'\n",
    "s2 = '내가 모든 음성 관심이 있었어'\n",
    "s3 = '아니 내가 모르는 미사가 집에 있었어.'\n",
    "\n",
    "new_s1 = s1.replace(\" \", \"\")\n",
    "new_s2 = s2.replace(\" \", \"\")\n",
    "new_s3 = s3.replace(\" \", \"\")\n",
    "\n",
    "ratio = SequenceMatcher(None, s1, s2).ratio()\n",
    "print(ratio)\n",
    "\n",
    "ratio = SequenceMatcher(None, new_s1, new_s2).ratio()\n",
    "print(ratio)\n",
    "\n",
    "ratio = SequenceMatcher(None, s1, s3).ratio()\n",
    "print(ratio)\n",
    "\n",
    "ratio = SequenceMatcher(None, new_s1, new_s3).ratio()\n",
    "print(ratio)"
   ]
  },
  {
   "cell_type": "code",
   "execution_count": 365,
   "metadata": {},
   "outputs": [
    {
     "name": "stdout",
     "output_type": "stream",
     "text": [
      "0.6\n",
      "0.6\n"
     ]
    }
   ],
   "source": [
    "s1 = '얼죽아라고하죠얼죽아'\n",
    "s2 = '얼주가라고하죠얼주가'\n",
    "\n",
    "new_s1 = s1.replace(\" \", \"\")\n",
    "new_s2 = s2.replace(\" \", \"\")\n",
    "\n",
    "ratio = SequenceMatcher(None, s1, s2).ratio()\n",
    "print(ratio)\n",
    "\n",
    "ratio = SequenceMatcher(None, new_s1, new_s2).ratio()\n",
    "print(ratio)"
   ]
  },
  {
   "cell_type": "code",
   "execution_count": null,
   "metadata": {},
   "outputs": [],
   "source": []
  },
  {
   "cell_type": "code",
   "execution_count": null,
   "metadata": {},
   "outputs": [],
   "source": []
  },
  {
   "cell_type": "code",
   "execution_count": null,
   "metadata": {},
   "outputs": [],
   "source": []
  },
  {
   "cell_type": "code",
   "execution_count": null,
   "metadata": {},
   "outputs": [],
   "source": []
  },
  {
   "cell_type": "code",
   "execution_count": null,
   "metadata": {},
   "outputs": [],
   "source": []
  },
  {
   "cell_type": "code",
   "execution_count": null,
   "metadata": {},
   "outputs": [],
   "source": []
  },
  {
   "cell_type": "code",
   "execution_count": 367,
   "metadata": {},
   "outputs": [],
   "source": [
    "s1 = ['안녕하세요 현준입니다 반가워요',\n",
    "'오늘 제가 읽어 드릴 책은요',\n",
    "'얼어 죽어도 아이스 아메리카노라는 책입니다.',\n",
    "'얼죽아라고 하죠 얼죽아',\n",
    "'읽는 동안 어 위로를 많이 받았습니다.',\n",
    "'저와 같은 위로를 여러분들도 같이 느낄 수 있었으면 좋겠다',\n",
    "'라는 마음에 이 책을 읽게 됐어요 읽어드릴게요',\n",
    "'만족하지 못하면 외롭다',\n",
    "'불만이 많은 사람들은 대부분의 잘못 들을 타인에게 돌리고',\n",
    "'걱정이 많은 사람들은 쓸모없는 것까지 굳이 싸잡아 자신에게 돌린다',\n",
    "'전자의 경우엔 화가 많고',\n",
    "'후자의 경우엔 슬픔이 많다',\n",
    "'그리고 둘 다 외롭다']\n",
    "\n",
    "s2 = ['안녕하세요 현준입니다. 반가워요',\n",
    "'오늘 제가 읽어드릴 책은요.',\n",
    "'얼어죽어도 아이스 아메리카노라는 책입니다.',\n",
    "'얼주가라고 하죠. 얼주가',\n",
    "'읽는 동안 위로를 많이 받았습니다.',\n",
    "'저와 같은 위로를 여러분들도 같이 느낄 수 있었으면 좋겠다.',\n",
    "'라는 마음에 이 책을 읽게 됐어요. 읽어드릴게요',\n",
    "'만족하지 못하면 외롭다.',\n",
    "'불만이 많은 사람들은 대부분의 잘못들을 타인에게 돌리고.',\n",
    "'걱정이 많은 사람들은 쓸모없는 것까지 그들이 싸잡아 자신에게 돌린다.',\n",
    "'전자의 경우에는 화가 많고.',\n",
    "'부자의 경우에는 슬픔이 많다.',\n",
    "'그리고 둘 다 외롭다']"
   ]
  },
  {
   "cell_type": "code",
   "execution_count": 368,
   "metadata": {},
   "outputs": [
    {
     "data": {
      "text/plain": [
       "'안녕하세요 현준입니다 반가워요'"
      ]
     },
     "execution_count": 368,
     "metadata": {},
     "output_type": "execute_result"
    }
   ],
   "source": [
    "s1[0]"
   ]
  },
  {
   "cell_type": "code",
   "execution_count": 369,
   "metadata": {},
   "outputs": [
    {
     "data": {
      "text/plain": [
       "'안녕하세요 현준입니다. 반가워요'"
      ]
     },
     "execution_count": 369,
     "metadata": {},
     "output_type": "execute_result"
    }
   ],
   "source": [
    "s2[0]"
   ]
  },
  {
   "cell_type": "code",
   "execution_count": 394,
   "metadata": {},
   "outputs": [
    {
     "name": "stdout",
     "output_type": "stream",
     "text": [
      "STT 결과: \t 이제보여주고해주러온거뿐이에요\n",
      "대사에서 찾지 못함\n",
      "유사도: \t 0.00\n",
      "\n",
      "대사: \t\t 니가어제여기제발로찾아왔잖아\n",
      "STT 결과: \t 니가어제여기제발로찾아왔잖아\n",
      "유사도: \t 1.00\n",
      "\n",
      "대사: \t\t 아니내가모르는의상반출이있었어\n",
      "STT 결과: \t 아니내가모르는미사가집에있었어\n",
      "유사도: \t 0.67\n",
      "\n",
      "STT 결과: \t 어제여기와서아니아니야아니야\n",
      "대사에서 찾지 못함\n",
      "유사도: \t 1.00\n",
      "\n",
      "대사: \t\t 어떻게연구소를니멋대로\n",
      "STT 결과: \t 야어떻게여기서부터니멋대로\n",
      "유사도: \t 0.58\n",
      "\n",
      "STT 결과: \t 흘러도너무많이나와요\n",
      "대사에서 찾지 못함\n",
      "유사도: \t 0.00\n",
      "\n",
      "STT 결과: \t 우리가지나가는거봐야죠\n",
      "대사에서 찾지 못함\n",
      "유사도: \t 2.00\n",
      "\n",
      "STT 결과: \t 장군\n",
      "대사에서 찾지 못함\n",
      "유사도: \t 7.00\n",
      "\n"
     ]
    }
   ],
   "source": [
    "\n",
    "for i in range(len(s2)):\n",
    "    detect = 0\n",
    "    all_ratio = []\n",
    "    for j in range(len(s1)):\n",
    "        new_s1 = s1[j].replace(\" \", \"\")\n",
    "        new_s2 = s2[i].replace(\" \", \"\")\n",
    "        new_s1 = new_s1.replace(\".\", \"\")\n",
    "        new_s2 = new_s2.replace(\".\", \"\")\n",
    "        ratio = SequenceMatcher(None, new_s1, new_s2).ratio()\n",
    "        all_ratio.append(ratio)\n",
    "        if(ratio > 0.5):\n",
    "            detect = 1\n",
    "            print('대사: \\t\\t', new_s1)\n",
    "            print('STT 결과: \\t', new_s2)\n",
    "            print('유사도: \\t %.2f' % ratio)\n",
    "            print()\n",
    "            \n",
    "    if(not detect):\n",
    "        print('STT 결과: \\t', new_s2)\n",
    "        print('대사에서 찾지 못함')\n",
    "        print('유사도: \\t %.2f' % np.argmax(all_ratio))\n",
    "        print()"
   ]
  },
  {
   "cell_type": "code",
   "execution_count": 398,
   "metadata": {},
   "outputs": [
    {
     "data": {
      "text/plain": [
       "'장부를 적어야지 '"
      ]
     },
     "execution_count": 398,
     "metadata": {},
     "output_type": "execute_result"
    }
   ],
   "source": [
    "s1[7]"
   ]
  },
  {
   "cell_type": "code",
   "execution_count": 405,
   "metadata": {},
   "outputs": [
    {
     "name": "stdout",
     "output_type": "stream",
     "text": [
      "원본: 일단 아 잠깐만 잠깐만 변명하지 마 \n",
      "\n",
      "비교: 이제보여주고해주러온거뿐이에요\n",
      "0.00\n",
      "비교: 니가어제여기제발로찾아왔잖아\n",
      "0.07\n",
      "비교: 아니내가모르는미사가집에있었어\n",
      "0.07\n",
      "비교: 어제여기와서아니아니야아니야\n",
      "0.07\n",
      "비교: 야어떻게여기서부터니멋대로\n",
      "0.00\n",
      "비교: 흘러도너무많이나와요\n",
      "0.00\n",
      "비교: 우리가지나가는거봐야죠\n",
      "0.08\n",
      "비교: 장군\n",
      "0.00\n"
     ]
    }
   ],
   "source": [
    "print('원본:', s1[4], '\\n')\n",
    "for i in range(len(s1)):    \n",
    "    new_s1 = s1[4].replace(\" \", \"\")\n",
    "    new_s2 = s2[i].replace(\" \", \"\")\n",
    "    new_s1 = new_s1.replace(\".\", \"\")\n",
    "    new_s2 = new_s2.replace(\".\", \"\")\n",
    "    \n",
    "    print('비교:', new_s2)\n",
    "\n",
    "    ratio = SequenceMatcher(None, new_s1, new_s2).ratio()\n",
    "    print('%.2f' % ratio)"
   ]
  },
  {
   "cell_type": "code",
   "execution_count": 276,
   "metadata": {},
   "outputs": [
    {
     "name": "stdout",
     "output_type": "stream",
     "text": [
      "\n",
      "정답: 1\n",
      "예측: 1\n",
      "\n",
      "정답: 2\n",
      "예측: 2\n",
      "\n",
      "정답: 3\n",
      "예측: 3\n",
      "\n",
      "정답: 4\n",
      "예측: 4\n",
      "\n",
      "정답: 5\n",
      "예측: 5\n",
      "\n",
      "정답: 6\n",
      "예측: 6\n",
      "\n",
      "정답: 7\n",
      "예측: 7\n",
      "\n",
      "정답: 8\n",
      "예측: 8\n",
      "\n",
      "정답: 9\n",
      "예측: 9\n",
      "\n",
      "정답: 10\n",
      "예측: 10\n",
      "\n",
      "정답: 11\n",
      "예측: 11\n",
      "\n",
      "정답: 12\n",
      "예측: 12\n",
      "\n",
      "정답: 13\n",
      "예측: 13\n"
     ]
    }
   ],
   "source": [
    "\n",
    "for i in range(len(s1)): \n",
    "    all_ratio = []\n",
    "    print('\\n정답:', i+1)\n",
    "    for j in range(len(s2)):\n",
    "        new_s1 = s1[i].replace(\" \", \"\")\n",
    "        new_s2 = s2[j].replace(\" \", \"\")\n",
    "\n",
    "        ratio = SequenceMatcher(None, new_s1, new_s2).ratio()\n",
    "        all_ratio.append(ratio)\n",
    "        #print(j+1, ': %.2f' % ratio)\n",
    "    print('예측:', np.argmax(all_ratio)+1)"
   ]
  },
  {
   "cell_type": "code",
   "execution_count": null,
   "metadata": {},
   "outputs": [],
   "source": []
  },
  {
   "cell_type": "code",
   "execution_count": 378,
   "metadata": {},
   "outputs": [],
   "source": [
    "s1=['나는 마음을 돌리고 다시 주저앉았다.',\n",
    "'묵직한 발소리가 계단 열일곱 개를 올라 차츰 가까이에 왔다.',\n",
    "'마침 내 방 문 앞에서 발소리가 딱 멈추고 곧이어 노크 소리가 났다.',\n",
    "'예 들어오십시오','홈즈의 대답에 벌컥 문을 열고 방안으로 들어선 사람은 그리스 신화에 나오는 헤라클레스처럼 건장한 몸집에 위엄 있는 얼굴을 한 남자였다.',\n",
    "'입은 옷 또한 무척이나 화려했다.',\n",
    "'윗옷 소매와 깃 가장자리에 값진 아스트라칸 모피가 달려 있었으며',\n",
    "'어깨에 걸친 청색 망토의 안감은 눈에 확 띄는 노란 비단이었다.',\n",
    "'그리고 아름다운 에메랄드로 장식']\n",
    "\n",
    "s2 = ['나는 마음을 돌리고 다시 주저앉았다.',\n",
    "'묵직한 발소리가 계단 17개를 올라차츰 가까이에 왔다.',\n",
    "'마침 내 방문 앞에서 발소리가 딱 멈추고. 곧이어 노크 소리가 났다.',\n",
    "'들어오십시오','홍제의 대답에 벌컥 문을 열고 방 안으로 들어선 사람은. 그릇의 신화에 나오는 헤라클래스처럼 건장한 몸집에 위험이 있는 얼굴을 한 남자였다.',\n",
    "'입은 옷 또한 무척이나 화려했다.',\n",
    "'위도 소매와 기 가장자리에 값진 아스트라칸 모피가 달려 있었으며.',\n",
    "'어깨에 걸친 청색 망토의 안감은 눈에 확 띄는 노란 비단이었다.',\n",
    "'그리고 아름다운 에메랄드로 자식. 등']"
   ]
  },
  {
   "cell_type": "code",
   "execution_count": 278,
   "metadata": {},
   "outputs": [
    {
     "name": "stdout",
     "output_type": "stream",
     "text": [
      "\n",
      "정답: 1\n",
      "예측: 1\n",
      "\n",
      "정답: 2\n",
      "예측: 2\n",
      "\n",
      "정답: 3\n",
      "예측: 3\n",
      "\n",
      "정답: 4\n",
      "예측: 4\n",
      "\n",
      "정답: 5\n",
      "예측: 5\n",
      "\n",
      "정답: 6\n",
      "예측: 6\n",
      "\n",
      "정답: 7\n",
      "예측: 7\n",
      "\n",
      "정답: 8\n",
      "예측: 8\n"
     ]
    }
   ],
   "source": [
    "import numpy as np\n",
    "for i in range(len(s1)): \n",
    "    all_ratio = []\n",
    "    print('\\n정답:', i+1)\n",
    "    for j in range(len(s2)):\n",
    "        new_s1 = s1[i].replace(\" \", \"\")\n",
    "        new_s2 = s2[j].replace(\" \", \"\")\n",
    "\n",
    "        ratio = SequenceMatcher(None, new_s1, new_s2).ratio()\n",
    "        all_ratio.append(ratio)\n",
    "        #print(j+1, ': %.2f' % ratio)\n",
    "    print('예측:', np.argmax(all_ratio)+1)"
   ]
  },
  {
   "cell_type": "code",
   "execution_count": 382,
   "metadata": {},
   "outputs": [],
   "source": [
    "s1=['가족이라며 아프면 아프다 힘들면 힘들다 말할 수 있는 게 가족 아니야',\n",
    "'어.. 뭘 어떻게 해야 할지 잘 모르겠는데 내가 포기한 거 아니야',\n",
    "'나도 어떻게든 끝까지 하고 싶어',\n",
    "'그럼 하면 되잖아 오빠',\n",
    "'야 하고 싶은 마음만 있으면 우리 언제든 다시 시작할 수 있어 우리 젊어',\n",
    "'오빠 내가 어디서 들었는데 어떻게 해야 될지 모를 때는 그냥 하는 거래 그냥 막 하다 보면 거기 끝에 답이 보인다고 하더라고 어 무대뽀 정신 알겠지',\n",
    "'진아 무대뽀는 일본 잔재어잖아',\n",
    "'우리 표준어 써야지 표준어']\n",
    "\n",
    "s2=['가족이라며 아프면 아프다. 힘들면 말할 수 있는게 가족 아니야.',\n",
    "'어떻게 해야 할지 잘 모르겠어요. 내가 포기한 거 아니야.',\n",
    "'나도 어떻게든 끝까지 하고 싶어.',\n",
    "'하고 싶은 마음만 있으면 우리 언제든 다시 시작할 수 있어. 우리 젊어.',\n",
    "'내가 어디서 들었는데 어떻게 해야 될지 모를 때는 그냥 하는 거래. 그냥. 막 하다 보면 거기 끝에 답이 보인다고 하더라고. 어 운전보다. 알겠지',\n",
    "'신랑 모델 보는 일본 잔재 오잖아.',\n",
    "'우리 혁신 왔어요.']"
   ]
  },
  {
   "cell_type": "code",
   "execution_count": 284,
   "metadata": {},
   "outputs": [
    {
     "name": "stdout",
     "output_type": "stream",
     "text": [
      "\n",
      "정답: 1\n",
      "예측: 1\n",
      "\n",
      "정답: 2\n",
      "예측: 2\n",
      "\n",
      "정답: 3\n",
      "예측: 3\n",
      "\n",
      "정답: 4\n",
      "예측: 6\n",
      "\n",
      "정답: 5\n",
      "예측: 4\n",
      "\n",
      "정답: 6\n",
      "예측: 5\n",
      "\n",
      "정답: 7\n",
      "예측: 6\n",
      "\n",
      "정답: 8\n",
      "예측: 7\n"
     ]
    }
   ],
   "source": [
    "import numpy as np\n",
    "for i in range(len(s1)): \n",
    "    all_ratio = []\n",
    "    print('\\n정답:', i+1)\n",
    "    for j in range(len(s2)):\n",
    "        new_s1 = s1[i].replace(\" \", \"\")\n",
    "        new_s2 = s2[j].replace(\" \", \"\")\n",
    "\n",
    "        ratio = SequenceMatcher(None, new_s1, new_s2).ratio()\n",
    "        all_ratio.append(ratio)\n",
    "        #print(j+1, ': %.2f' % ratio)\n",
    "    print('예측:', np.argmax(all_ratio)+1)"
   ]
  },
  {
   "cell_type": "code",
   "execution_count": 389,
   "metadata": {},
   "outputs": [
    {
     "ename": "IndexError",
     "evalue": "list index out of range",
     "output_type": "error",
     "traceback": [
      "\u001b[1;31m---------------------------------------------------------------------------\u001b[0m",
      "\u001b[1;31mIndexError\u001b[0m                                Traceback (most recent call last)",
      "\u001b[1;32m<ipython-input-389-f5c14f17bf15>\u001b[0m in \u001b[0;36m<module>\u001b[1;34m\u001b[0m\n\u001b[1;32m----> 1\u001b[1;33m \u001b[0mprint\u001b[0m\u001b[1;33m(\u001b[0m\u001b[1;34m'원본:'\u001b[0m\u001b[1;33m,\u001b[0m \u001b[0ms1\u001b[0m\u001b[1;33m[\u001b[0m\u001b[1;36m5\u001b[0m\u001b[1;33m]\u001b[0m\u001b[1;33m,\u001b[0m \u001b[1;34m'\\n'\u001b[0m\u001b[1;33m)\u001b[0m\u001b[1;33m\u001b[0m\u001b[1;33m\u001b[0m\u001b[0m\n\u001b[0m\u001b[0;32m      2\u001b[0m \u001b[1;32mfor\u001b[0m \u001b[0mi\u001b[0m \u001b[1;32min\u001b[0m \u001b[0mrange\u001b[0m\u001b[1;33m(\u001b[0m\u001b[0mlen\u001b[0m\u001b[1;33m(\u001b[0m\u001b[0ms1\u001b[0m\u001b[1;33m)\u001b[0m\u001b[1;33m)\u001b[0m\u001b[1;33m:\u001b[0m\u001b[1;33m\u001b[0m\u001b[1;33m\u001b[0m\u001b[0m\n\u001b[0;32m      3\u001b[0m     \u001b[0mnew_s1\u001b[0m \u001b[1;33m=\u001b[0m \u001b[0ms1\u001b[0m\u001b[1;33m[\u001b[0m\u001b[1;36m5\u001b[0m\u001b[1;33m]\u001b[0m\u001b[1;33m.\u001b[0m\u001b[0mreplace\u001b[0m\u001b[1;33m(\u001b[0m\u001b[1;34m\" \"\u001b[0m\u001b[1;33m,\u001b[0m \u001b[1;34m\"\"\u001b[0m\u001b[1;33m)\u001b[0m\u001b[1;33m\u001b[0m\u001b[1;33m\u001b[0m\u001b[0m\n\u001b[0;32m      4\u001b[0m     \u001b[0mnew_s2\u001b[0m \u001b[1;33m=\u001b[0m \u001b[0ms2\u001b[0m\u001b[1;33m[\u001b[0m\u001b[0mi\u001b[0m\u001b[1;33m]\u001b[0m\u001b[1;33m.\u001b[0m\u001b[0mreplace\u001b[0m\u001b[1;33m(\u001b[0m\u001b[1;34m\" \"\u001b[0m\u001b[1;33m,\u001b[0m \u001b[1;34m\"\"\u001b[0m\u001b[1;33m)\u001b[0m\u001b[1;33m\u001b[0m\u001b[1;33m\u001b[0m\u001b[0m\n\u001b[0;32m      5\u001b[0m \u001b[1;33m\u001b[0m\u001b[0m\n",
      "\u001b[1;31mIndexError\u001b[0m: list index out of range"
     ]
    }
   ],
   "source": [
    "print('원본:', s1[5], '\\n')\n",
    "for i in range(len(s1)):    \n",
    "    new_s1 = s1[5].replace(\" \", \"\")\n",
    "    new_s2 = s2[i].replace(\" \", \"\")\n",
    "    \n",
    "    print('비교:', s2[i])\n",
    "\n",
    "    ratio = SequenceMatcher(None, new_s1, new_s2).ratio()\n",
    "    print('%.2f' % ratio)"
   ]
  },
  {
   "cell_type": "code",
   "execution_count": 336,
   "metadata": {},
   "outputs": [
    {
     "name": "stdout",
     "output_type": "stream",
     "text": [
      "원본: 우리 표준어 써야지 표준어 \n",
      "\n",
      "비교: 가족이라며 아프면 아프다. 힘들면 말할 수 있는게 가족 아니야.\n",
      "0.05\n",
      "비교: 어떻게 해야 할지 잘 모르겠어요. 내가 포기한 거 아니야.\n",
      "0.23\n",
      "비교: 나도 어떻게든 끝까지 하고 싶어.\n",
      "0.24\n",
      "비교: 하고 싶은 마음만 있으면 우리 언제든 다시 시작할 수 있어. 우리 젊어.\n",
      "0.20\n",
      "비교: 내가 어디서 들었는데 어떻게 해야 될지 모를 때는 그냥 하는 거래. 그냥. 막 하다 보면 거기 끝에 답이 보인다고 하더라고. 어 운전보다. 알겠지\n",
      "0.11\n",
      "비교: 신랑 모델 보는 일본 잔재 오잖아.\n",
      "0.00\n",
      "비교: 우리 혁신 왔어요.\n",
      "0.32\n"
     ]
    },
    {
     "ename": "IndexError",
     "evalue": "list index out of range",
     "output_type": "error",
     "traceback": [
      "\u001b[1;31m---------------------------------------------------------------------------\u001b[0m",
      "\u001b[1;31mIndexError\u001b[0m                                Traceback (most recent call last)",
      "\u001b[1;32m<ipython-input-336-b2225837c0a8>\u001b[0m in \u001b[0;36m<module>\u001b[1;34m\u001b[0m\n\u001b[0;32m      2\u001b[0m \u001b[1;32mfor\u001b[0m \u001b[0mi\u001b[0m \u001b[1;32min\u001b[0m \u001b[0mrange\u001b[0m\u001b[1;33m(\u001b[0m\u001b[0mlen\u001b[0m\u001b[1;33m(\u001b[0m\u001b[0ms1\u001b[0m\u001b[1;33m)\u001b[0m\u001b[1;33m)\u001b[0m\u001b[1;33m:\u001b[0m\u001b[1;33m\u001b[0m\u001b[1;33m\u001b[0m\u001b[0m\n\u001b[0;32m      3\u001b[0m     \u001b[0mnew_s1\u001b[0m \u001b[1;33m=\u001b[0m \u001b[0ms1\u001b[0m\u001b[1;33m[\u001b[0m\u001b[1;36m7\u001b[0m\u001b[1;33m]\u001b[0m\u001b[1;33m.\u001b[0m\u001b[0mreplace\u001b[0m\u001b[1;33m(\u001b[0m\u001b[1;34m\" \"\u001b[0m\u001b[1;33m,\u001b[0m \u001b[1;34m\"\"\u001b[0m\u001b[1;33m)\u001b[0m\u001b[1;33m\u001b[0m\u001b[1;33m\u001b[0m\u001b[0m\n\u001b[1;32m----> 4\u001b[1;33m     \u001b[0mnew_s2\u001b[0m \u001b[1;33m=\u001b[0m \u001b[0ms2\u001b[0m\u001b[1;33m[\u001b[0m\u001b[0mi\u001b[0m\u001b[1;33m]\u001b[0m\u001b[1;33m.\u001b[0m\u001b[0mreplace\u001b[0m\u001b[1;33m(\u001b[0m\u001b[1;34m\" \"\u001b[0m\u001b[1;33m,\u001b[0m \u001b[1;34m\"\"\u001b[0m\u001b[1;33m)\u001b[0m\u001b[1;33m\u001b[0m\u001b[1;33m\u001b[0m\u001b[0m\n\u001b[0m\u001b[0;32m      5\u001b[0m \u001b[1;33m\u001b[0m\u001b[0m\n\u001b[0;32m      6\u001b[0m     \u001b[0mprint\u001b[0m\u001b[1;33m(\u001b[0m\u001b[1;34m'비교:'\u001b[0m\u001b[1;33m,\u001b[0m \u001b[0ms2\u001b[0m\u001b[1;33m[\u001b[0m\u001b[0mi\u001b[0m\u001b[1;33m]\u001b[0m\u001b[1;33m)\u001b[0m\u001b[1;33m\u001b[0m\u001b[1;33m\u001b[0m\u001b[0m\n",
      "\u001b[1;31mIndexError\u001b[0m: list index out of range"
     ]
    }
   ],
   "source": [
    "print('원본:', s1[7], '\\n')\n",
    "for i in range(len(s1)):    \n",
    "    new_s1 = s1[7].replace(\" \", \"\")\n",
    "    new_s2 = s2[i].replace(\" \", \"\")\n",
    "    \n",
    "    print('비교:', s2[i])\n",
    "\n",
    "    ratio = SequenceMatcher(None, new_s1, new_s2).ratio()\n",
    "    print('%.2f' % ratio)"
   ]
  },
  {
   "cell_type": "code",
   "execution_count": 335,
   "metadata": {},
   "outputs": [
    {
     "name": "stdout",
     "output_type": "stream",
     "text": [
      "\n",
      "정답: 가족이라며 아프면 아프다 힘들면 힘들다 말할 수 있는 게 가족 아니야? 0\n",
      "0 가족이라며 아프면 아프다. 힘들면 말할 수 있는게 가족 아니야.\n",
      "\n",
      "정답: 어.. 뭘 어떻게 해야 할지 잘 모르겠는데 내가 포기한 거 아니야 1\n",
      "1 어떻게 해야 할지 잘 모르겠어요. 내가 포기한 거 아니야.\n",
      "\n",
      "정답: 나도 어떻게든 끝까지 하고 싶어 2\n",
      "2 나도 어떻게든 끝까지 하고 싶어.\n",
      "\n",
      "정답: 그럼 하면 되잖아 오빠 3\n",
      "0.0\n",
      "STT 결과 없음\n",
      "\n",
      "정답: 야 하고 싶은 마음만 있으면 우리 언제든 다시 시작할 수 있어 우리 젊어 4\n",
      "4 하고 싶은 마음만 있으면 우리 언제든 다시 시작할 수 있어. 우리 젊어.\n",
      "\n",
      "정답: 오빠 내가 어디서 들었는데 어떻게 해야 될지 모를 때는 그냥 하는 거래 그냥 막 하다 보면 거기 끝에 답이 보인다고 하더라고 어? 무대뽀 정신 알겠지 5\n",
      "5 내가 어디서 들었는데 어떻게 해야 될지 모를 때는 그냥 하는 거래. 그냥. 막 하다 보면 거기 끝에 답이 보인다고 하더라고. 어 운전보다. 알겠지\n",
      "\n",
      "정답: 진아 무대뽀는 일본 잔재어잖아 6\n",
      "0.09523809523809523\n",
      "STT 결과 없음\n",
      "\n",
      "정답: 우리 표준어 써야지 표준어 7\n",
      "0.3157894736842105\n",
      "STT 결과 없음\n"
     ]
    }
   ],
   "source": [
    "import numpy as np\n",
    "for i in range(len(s1)): \n",
    "    detect = 0\n",
    "    all_ratio = []\n",
    "    print('\\n정답:', s1[i], i)\n",
    "    for j in range(len(s2)):\n",
    "        new_s1 = s1[i].replace(\" \", \"\")\n",
    "        new_s2 = s2[j].replace(\" \", \"\")\n",
    "\n",
    "        ratio = SequenceMatcher(None, new_s1, new_s2).ratio()\n",
    "        \n",
    "        if(ratio > 0.7):\n",
    "            detect = 1\n",
    "            \n",
    "            print(i, s2[j])\n",
    "    if(not detect):\n",
    "        print(ratio)\n",
    "        print('STT 결과 없음')\n",
    "   "
   ]
  },
  {
   "cell_type": "code",
   "execution_count": 286,
   "metadata": {},
   "outputs": [
    {
     "name": "stdout",
     "output_type": "stream",
     "text": [
      "원본: 가족이라며 아프면 아프다 힘들면 힘들다 말할 수 있는 게 가족 아니야? \n",
      "\n",
      "비교: 가족이라며 아프면 아프다. 힘들면 말할 수 있는게 가족 아니야.\n",
      "0.89\n",
      "비교: 어떻게 해야 할지 잘 모르겠어요. 내가 포기한 거 아니야.\n",
      "0.15\n",
      "비교: 나도 어떻게든 끝까지 하고 싶어.\n",
      "0.05\n",
      "비교: 하고 싶은 마음만 있으면 우리 언제든 다시 시작할 수 있어. 우리 젊어.\n",
      "0.17\n",
      "비교: 내가 어디서 들었는데 어떻게 해야 될지 모를 때는 그냥 하는 거래. 그냥. 막 하다 보면 거기 끝에 답이 보인다고 하더라고. 어 운전보다. 알겠지\n",
      "0.09\n",
      "비교: 신랑 모델 보는 일본 잔재 오잖아.\n",
      "0.05\n",
      "비교: 우리 혁신 왔어요.\n",
      "0.00\n"
     ]
    },
    {
     "ename": "IndexError",
     "evalue": "list index out of range",
     "output_type": "error",
     "traceback": [
      "\u001b[1;31m---------------------------------------------------------------------------\u001b[0m",
      "\u001b[1;31mIndexError\u001b[0m                                Traceback (most recent call last)",
      "\u001b[1;32m<ipython-input-286-840861bc9cc3>\u001b[0m in \u001b[0;36m<module>\u001b[1;34m\u001b[0m\n\u001b[0;32m      2\u001b[0m \u001b[1;32mfor\u001b[0m \u001b[0mi\u001b[0m \u001b[1;32min\u001b[0m \u001b[0mrange\u001b[0m\u001b[1;33m(\u001b[0m\u001b[0mlen\u001b[0m\u001b[1;33m(\u001b[0m\u001b[0ms1\u001b[0m\u001b[1;33m)\u001b[0m\u001b[1;33m)\u001b[0m\u001b[1;33m:\u001b[0m\u001b[1;33m\u001b[0m\u001b[1;33m\u001b[0m\u001b[0m\n\u001b[0;32m      3\u001b[0m     \u001b[0mnew_s1\u001b[0m \u001b[1;33m=\u001b[0m \u001b[0ms1\u001b[0m\u001b[1;33m[\u001b[0m\u001b[1;36m0\u001b[0m\u001b[1;33m]\u001b[0m\u001b[1;33m.\u001b[0m\u001b[0mreplace\u001b[0m\u001b[1;33m(\u001b[0m\u001b[1;34m\" \"\u001b[0m\u001b[1;33m,\u001b[0m \u001b[1;34m\"\"\u001b[0m\u001b[1;33m)\u001b[0m\u001b[1;33m\u001b[0m\u001b[1;33m\u001b[0m\u001b[0m\n\u001b[1;32m----> 4\u001b[1;33m     \u001b[0mnew_s2\u001b[0m \u001b[1;33m=\u001b[0m \u001b[0ms2\u001b[0m\u001b[1;33m[\u001b[0m\u001b[0mi\u001b[0m\u001b[1;33m]\u001b[0m\u001b[1;33m.\u001b[0m\u001b[0mreplace\u001b[0m\u001b[1;33m(\u001b[0m\u001b[1;34m\" \"\u001b[0m\u001b[1;33m,\u001b[0m \u001b[1;34m\"\"\u001b[0m\u001b[1;33m)\u001b[0m\u001b[1;33m\u001b[0m\u001b[1;33m\u001b[0m\u001b[0m\n\u001b[0m\u001b[0;32m      5\u001b[0m \u001b[1;33m\u001b[0m\u001b[0m\n\u001b[0;32m      6\u001b[0m     \u001b[0mprint\u001b[0m\u001b[1;33m(\u001b[0m\u001b[1;34m'비교:'\u001b[0m\u001b[1;33m,\u001b[0m \u001b[0ms2\u001b[0m\u001b[1;33m[\u001b[0m\u001b[0mi\u001b[0m\u001b[1;33m]\u001b[0m\u001b[1;33m)\u001b[0m\u001b[1;33m\u001b[0m\u001b[1;33m\u001b[0m\u001b[0m\n",
      "\u001b[1;31mIndexError\u001b[0m: list index out of range"
     ]
    }
   ],
   "source": [
    "print('원본:', s1[0], '\\n')\n",
    "for i in range(len(s1)):    \n",
    "    new_s1 = s1[0].replace(\" \", \"\")\n",
    "    new_s2 = s2[i].replace(\" \", \"\")\n",
    "    \n",
    "    print('비교:', s2[i])\n",
    "\n",
    "    ratio = SequenceMatcher(None, new_s1, new_s2).ratio()\n",
    "    print('%.2f' % ratio)"
   ]
  },
  {
   "cell_type": "code",
   "execution_count": 387,
   "metadata": {},
   "outputs": [
    {
     "name": "stdout",
     "output_type": "stream",
     "text": [
      "0.80\n"
     ]
    }
   ],
   "source": [
    "s1 = '헤라클래스'\n",
    "s2 = '헤라클레스'\n",
    "\n",
    "ratio = SequenceMatcher(None, s1, s2).ratio()\n",
    "print('%.2f' % ratio)"
   ]
  },
  {
   "cell_type": "code",
   "execution_count": 326,
   "metadata": {},
   "outputs": [
    {
     "data": {
      "text/plain": [
       "array([[0.]])"
      ]
     },
     "execution_count": 326,
     "metadata": {},
     "output_type": "execute_result"
    }
   ],
   "source": [
    "sent = ('아스트라칸모피', '아스트라칸무비')\n",
    "\n",
    "tfidf_vectorizer = TfidfVectorizer()\n",
    "tfidf_matrix = tfidf_vectorizer.fit_transform(sent) #문장 벡터화 진행\n",
    "cosine_similarity(tfidf_matrix[0:1], tfidf_matrix[1:2]) #첫번째와 두번째 문장 비교"
   ]
  },
  {
   "cell_type": "code",
   "execution_count": 391,
   "metadata": {},
   "outputs": [],
   "source": [
    "s1 = ['갖다주러 온 것뿐이예요',\n",
    "'니가 어제 여기 제 발로 찾아왔잖아',\n",
    "'아니 내가 모르는 의상 반출이 있었어',\n",
    "'데려와 아 어제 여기 와서 페인트칠',\n",
    "'일단 아 잠깐만 잠깐만 변명하지 마',\n",
    "'말을 했어야 할거 아냐',\n",
    "'어떻게 연구소를 니 멋대로',\n",
    "'장부를 적어야지 ']\n",
    "\n",
    "s2 = ['이제 보여주고 해주러 온 거 뿐이에요.',\n",
    "'니가 어제 여기 제 발로 찾아왔잖아.',\n",
    "'아니 내가 모르는 미사가 집에 있었어.',\n",
    "'어제 여기 와서 아니 아니야 아니야.',\n",
    "'야. 어떻게 여기서부터 니 멋대로',\n",
    "'흘러도 너무 많이 나와요.',\n",
    "'우리가 지나가는 거 봐야죠.',\n",
    "'장군' ]"
   ]
  },
  {
   "cell_type": "code",
   "execution_count": 1,
   "metadata": {},
   "outputs": [],
   "source": [
    "script = ['아주 멀리까지 가 보고 싶어',\n",
    "          '그곳에선 누구를 만날 수가 있을지',\n",
    "          '아주 높이까지 오르고 싶어',\n",
    "          '얼마나 더 먼 곳을 바라볼 수 있을지',\n",
    "          '작은 물병 하나, 먼지 낀 카메라',\n",
    "          '때 묻은 지도 가방 안에 넣고서',\n",
    "\n",
    "          '언덕을 넘어 숲길을 헤치고',\n",
    "          '가벼운 발걸음 닿는 대로',\n",
    "          '끝없이 이어진 길을 천천히 걸어가네',\n",
    "\n",
    "\n",
    "          '멍하니 앉아서 쉬기도 하고',\n",
    "          '가끔 길을 잃어도 서두르지 않는 법',\n",
    "          '언젠가는 나도 알게 되겠지',\n",
    "          '이 길이 곧 나에게 가르쳐 줄 테니까',\n",
    "\n",
    "          '촉촉한 땅바닥 앞서 간 발자국',\n",
    "          '처음 보는 하늘 그래도 낯익은 길',\n",
    "\n",
    "          '언덕을 넘어 숲길을 헤치고',\n",
    "          '가벼운 발걸음 닿는 대로',\n",
    "          '끝없이 이어진 길을 천천히 걸어가네',\n",
    "\n",
    "\n",
    "          '새로운 풍경에 가슴이 뛰고',\n",
    "          '별것 아닌 일에도 호들갑을 떨면서',\n",
    "          '나는 걸어가네 휘파람 불며',\n",
    "          '때로는 넘어져도 내 길을 걸어가네',\n",
    "\n",
    "          '작은 물병 하나 먼지 낀 카메라',\n",
    "          '때 묻은 지도 가방 안에 넣고서',\n",
    "\n",
    "          '언덕을 넘어 숲길을 헤치고',\n",
    "          '가벼운 발걸음 닿는 대로',\n",
    "          '끝없이 이어진 길을 천천히 걸어가네',\n",
    "\n",
    "          '내가 자라고 정든 이 거리를',\n",
    "          '난 가끔 그리워하겠지만',\n",
    "          '이렇게 나는 떠나네 더 넓은 세상으로']"
   ]
  },
  {
   "cell_type": "code",
   "execution_count": 509,
   "metadata": {},
   "outputs": [],
   "source": [
    "present_sentence = '카메라 사고 싶다'"
   ]
  },
  {
   "cell_type": "code",
   "execution_count": 510,
   "metadata": {},
   "outputs": [
    {
     "name": "stdout",
     "output_type": "stream",
     "text": [
      "현재 대본:  작은 물병 하나 먼지 낀 카메라 0.25\n"
     ]
    }
   ],
   "source": [
    "present_sentence = present_sentence.replace(\" \", \"\")\n",
    "present_sentence = present_sentence.replace(\".\", \"\")\n",
    "ratio = []\n",
    "for i in range(len(script)):\n",
    "    script_sentence = script[i].replace(\" \", \"\")\n",
    "    script_sentence = script[i].replace(\".\", \"\")\n",
    "    \n",
    "    ratio.append(SequenceMatcher(None, present_sentence, script_sentence).ratio())\n",
    "print('현재 대본: ', script[np.argmax(ratio)], np.max(ratio))"
   ]
  },
  {
   "cell_type": "code",
   "execution_count": 493,
   "metadata": {},
   "outputs": [],
   "source": [
    "x = list(reversed(script))"
   ]
  },
  {
   "cell_type": "code",
   "execution_count": 478,
   "metadata": {},
   "outputs": [
    {
     "name": "stdout",
     "output_type": "stream",
     "text": [
      "['얼마나 더 먼 곳을 바라볼 수 있을지', '아주 높이까지 오르고 싶어', '그곳에선 누구를 만날 수가 있을지', '아주 멀리까지 가 보고 싶어']\n"
     ]
    }
   ],
   "source": [
    "print(x)"
   ]
  },
  {
   "cell_type": "code",
   "execution_count": 491,
   "metadata": {},
   "outputs": [],
   "source": [
    "y = []"
   ]
  },
  {
   "cell_type": "code",
   "execution_count": 503,
   "metadata": {},
   "outputs": [],
   "source": [
    "y.append(x.pop())"
   ]
  },
  {
   "cell_type": "code",
   "execution_count": 504,
   "metadata": {},
   "outputs": [
    {
     "data": {
      "text/plain": [
       "['아주 멀리까지 가 보고 싶어',\n",
       " '그곳에선 누구를 만날 수가 있을지',\n",
       " '아주 높이까지 오르고 싶어',\n",
       " '얼마나 더 먼 곳을 바라볼 수 있을지']"
      ]
     },
     "execution_count": 504,
     "metadata": {},
     "output_type": "execute_result"
    }
   ],
   "source": [
    "y"
   ]
  },
  {
   "cell_type": "code",
   "execution_count": 505,
   "metadata": {},
   "outputs": [
    {
     "data": {
      "text/plain": [
       "[]"
      ]
     },
     "execution_count": 505,
     "metadata": {},
     "output_type": "execute_result"
    }
   ],
   "source": [
    "x"
   ]
  },
  {
   "cell_type": "code",
   "execution_count": 21,
   "metadata": {},
   "outputs": [
    {
     "name": "stdout",
     "output_type": "stream",
     "text": [
      "0.8461538461538461\n"
     ]
    }
   ],
   "source": [
    "ratio = SequenceMatcher(None, '아주멀리까지가보고싶어    ', '아주멀리까지가보고싶어').ratio()\n",
    "print(ratio)"
   ]
  },
  {
   "cell_type": "code",
   "execution_count": 43,
   "metadata": {},
   "outputs": [
    {
     "name": "stdout",
     "output_type": "stream",
     "text": [
      "0.875\n"
     ]
    }
   ],
   "source": [
    "ratio = SequenceMatcher(None, '그곳에선 누구를 만날 수가 있을지', '그곳에선누구를만날수가있을지').ratio()\n",
    "print(ratio)"
   ]
  },
  {
   "cell_type": "code",
   "execution_count": 10,
   "metadata": {},
   "outputs": [
    {
     "name": "stdout",
     "output_type": "stream",
     "text": [
      "0.85\n"
     ]
    }
   ],
   "source": [
    "ratio = SequenceMatcher(None, '얼마나 더 먹고 실 바라볼 수 있을지', '얼마나 더 먼 곳을 바라볼 수 있을지').ratio()\n",
    "print(ratio)"
   ]
  },
  {
   "cell_type": "code",
   "execution_count": 11,
   "metadata": {},
   "outputs": [
    {
     "data": {
      "text/plain": [
       "9"
      ]
     },
     "execution_count": 11,
     "metadata": {},
     "output_type": "execute_result"
    }
   ],
   "source": [
    "s1 = '123456789'\n",
    "len(s1)"
   ]
  },
  {
   "cell_type": "code",
   "execution_count": 18,
   "metadata": {},
   "outputs": [
    {
     "name": "stdout",
     "output_type": "stream",
     "text": [
      "0.8275862068965517\n"
     ]
    }
   ],
   "source": [
    "ratio = SequenceMatcher(None, '작은물병하나먼지낀카메라     ', '작은물병하나먼지낀카메라').ratio()\n",
    "print(ratio)"
   ]
  },
  {
   "cell_type": "code",
   "execution_count": 25,
   "metadata": {},
   "outputs": [],
   "source": [
    "import csv\n",
    " \n",
    "f = open('script.csv','r')\n",
    "script = csv.reader(f)\n",
    "script_list = []\n",
    "time_list = []\n",
    "for line in script:\n",
    "    time_list.append(line[0])\n",
    "    script_list.append(line[1])\n",
    "f.close()"
   ]
  },
  {
   "cell_type": "code",
   "execution_count": 34,
   "metadata": {},
   "outputs": [
    {
     "data": {
      "text/plain": [
       "['이렇게 나는 떠나네, 더 넓은 세상으로',\n",
       " '난 가끔 그리워하겠지만',\n",
       " '내가 자라고 정든 이 거리를',\n",
       " '끝없이 이어진 길을 천천히 걸어가네',\n",
       " '가벼운 발걸음 닿는 대로',\n",
       " '언덕을 넘어 숲길을 헤치고',\n",
       " '때 묻은 지도 가방 안에 넣고서',\n",
       " '작은 물병 하나, 먼지 낀 카메라,',\n",
       " '때로는 넘어져도 내 길을 걸어가네',\n",
       " '나는 걸어가네 휘파람 불며',\n",
       " '별것 아닌 일에도 호들갑을 떨면서',\n",
       " '새로운 풍경에 가슴이 뛰고',\n",
       " '끝없이 이어진 길을 천천히 걸어가네',\n",
       " '가벼운 발걸음 닿는 대로',\n",
       " '언덕을 넘어 숲길을 헤치고',\n",
       " '처음 보는 하늘, 그래도 낯익은 길',\n",
       " '촉촉한 땅바닥, 앞서 간 발자국,',\n",
       " '이 길이 곧 나에게 가르쳐 줄 테니까',\n",
       " '언젠가는 나도 알게 되겠지',\n",
       " '가끔 길을 잃어도 서두르지 않는 법',\n",
       " '멍하니 앉아서 쉬기도 하고',\n",
       " '끝없이 이어진 길을 천천히 걸어가네',\n",
       " '가벼운 발걸음 닿는 대로',\n",
       " '언덕을 넘어 숲길을 헤치고',\n",
       " '때 묻은 지도 가방 안에 넣고서',\n",
       " '작은 물병 하나, 먼지 낀 카메라,',\n",
       " '얼마나 더 먼 곳을 바라볼 수 있을지',\n",
       " '아주 높이까지 오르고 싶어',\n",
       " '그곳에선 누구를 만날 수가 있을지',\n",
       " '아주 멀리까지 가 보고 싶어']"
      ]
     },
     "execution_count": 34,
     "metadata": {},
     "output_type": "execute_result"
    }
   ],
   "source": [
    "script_list"
   ]
  },
  {
   "cell_type": "code",
   "execution_count": 33,
   "metadata": {},
   "outputs": [],
   "source": [
    "script_list.reverse()"
   ]
  },
  {
   "cell_type": "code",
   "execution_count": 39,
   "metadata": {},
   "outputs": [],
   "source": [
    "use_list = []"
   ]
  },
  {
   "cell_type": "code",
   "execution_count": 36,
   "metadata": {},
   "outputs": [
    {
     "name": "stdout",
     "output_type": "stream",
     "text": [
      "현재 대본:  작은 물병 하나, 먼지 낀 카메라, 8\n"
     ]
    }
   ],
   "source": [
    "present_sentence = '작은 물병 하나, 먼지 낀 카메라,'\n",
    "ratio = []\n",
    "for i in range(len(script_list)):\n",
    "    script_sentence = script_list[i].replace(\" \", \"\")\n",
    "    script_sentence = script_sentence.replace(\".\", \"\")\n",
    "\n",
    "    ratio.append(SequenceMatcher(None, present_sentence, script_sentence).ratio())\n",
    "\n",
    "if(np.max(ratio) > 0.5):\n",
    "    print('현재 대본: ', script_list[np.argmax(ratio)], time_list[np.argmax(ratio)])\n",
    "    use_list.append(script_list.pop)\n",
    "else:\n",
    "    print('대본에 없음')"
   ]
  },
  {
   "cell_type": "code",
   "execution_count": 40,
   "metadata": {},
   "outputs": [
    {
     "data": {
      "text/plain": [
       "[]"
      ]
     },
     "execution_count": 40,
     "metadata": {},
     "output_type": "execute_result"
    }
   ],
   "source": [
    "use_list"
   ]
  },
  {
   "cell_type": "code",
   "execution_count": 48,
   "metadata": {},
   "outputs": [
    {
     "data": {
      "text/plain": [
       "['이렇게 나는 떠나네, 더 넓은 세상으로',\n",
       " '난 가끔 그리워하겠지만',\n",
       " '내가 자라고 정든 이 거리를',\n",
       " '끝없이 이어진 길을 천천히 걸어가네',\n",
       " '가벼운 발걸음 닿는 대로',\n",
       " '언덕을 넘어 숲길을 헤치고',\n",
       " '때 묻은 지도 가방 안에 넣고서',\n",
       " '작은 물병 하나, 먼지 낀 카메라,',\n",
       " '때로는 넘어져도 내 길을 걸어가네',\n",
       " '나는 걸어가네 휘파람 불며',\n",
       " '별것 아닌 일에도 호들갑을 떨면서',\n",
       " '새로운 풍경에 가슴이 뛰고',\n",
       " '끝없이 이어진 길을 천천히 걸어가네',\n",
       " '가벼운 발걸음 닿는 대로',\n",
       " '언덕을 넘어 숲길을 헤치고',\n",
       " '처음 보는 하늘, 그래도 낯익은 길',\n",
       " '촉촉한 땅바닥, 앞서 간 발자국,',\n",
       " '이 길이 곧 나에게 가르쳐 줄 테니까',\n",
       " '언젠가는 나도 알게 되겠지',\n",
       " '가끔 길을 잃어도 서두르지 않는 법',\n",
       " '멍하니 앉아서 쉬기도 하고',\n",
       " '끝없이 이어진 길을 천천히 걸어가네',\n",
       " '가벼운 발걸음 닿는 대로',\n",
       " '언덕을 넘어 숲길을 헤치고',\n",
       " '때 묻은 지도 가방 안에 넣고서',\n",
       " '작은 물병 하나, 먼지 낀 카메라,',\n",
       " '얼마나 더 먼 곳을 바라볼 수 있을지',\n",
       " '아주 높이까지 오르고 싶어',\n",
       " '그곳에선 누구를 만날 수가 있을지',\n",
       " '아주 멀리까지 가 보고 싶어']"
      ]
     },
     "execution_count": 48,
     "metadata": {},
     "output_type": "execute_result"
    }
   ],
   "source": [
    "script_list"
   ]
  },
  {
   "cell_type": "code",
   "execution_count": 138,
   "metadata": {},
   "outputs": [],
   "source": [
    "a = '모든지도가방안에넣고서'\n",
    "b = '때묻은지도가방안에넣고서'\n",
    "answer = SequenceMatcher(None, a, b).get_matching_blocks()"
   ]
  },
  {
   "cell_type": "code",
   "execution_count": 139,
   "metadata": {},
   "outputs": [
    {
     "data": {
      "text/plain": [
       "[Match(a=2, b=3, size=9), Match(a=11, b=12, size=0)]"
      ]
     },
     "execution_count": 139,
     "metadata": {},
     "output_type": "execute_result"
    }
   ],
   "source": [
    "answer"
   ]
  },
  {
   "cell_type": "code",
   "execution_count": 140,
   "metadata": {},
   "outputs": [
    {
     "name": "stdout",
     "output_type": "stream",
     "text": [
      "Match(a=2, b=3, size=9)\n"
     ]
    },
    {
     "data": {
      "text/plain": [
       "3"
      ]
     },
     "execution_count": 140,
     "metadata": {},
     "output_type": "execute_result"
    }
   ],
   "source": [
    "print(answer[0])\n",
    "len(answer[0])"
   ]
  },
  {
   "cell_type": "code",
   "execution_count": 141,
   "metadata": {},
   "outputs": [
    {
     "name": "stdout",
     "output_type": "stream",
     "text": [
      "2\n",
      "3\n",
      "9\n"
     ]
    }
   ],
   "source": [
    "print(answer[0][0])\n",
    "print(answer[0][1])\n",
    "print(answer[0][2])"
   ]
  },
  {
   "cell_type": "code",
   "execution_count": 142,
   "metadata": {},
   "outputs": [
    {
     "name": "stdout",
     "output_type": "stream",
     "text": [
      "지도가방안에넣고서  \n"
     ]
    }
   ],
   "source": [
    "correct = ''\n",
    "for i in answer:\n",
    "    for k in range(i[1], i[1]+i[2]):\n",
    "        correct = correct+b[k]\n",
    "    correct = correct + ' '\n",
    "print(correct)"
   ]
  },
  {
   "cell_type": "code",
   "execution_count": 143,
   "metadata": {},
   "outputs": [],
   "source": [
    "right = '이 길이 곧 나에게 가르쳐 줄 테니까'"
   ]
  },
  {
   "cell_type": "code",
   "execution_count": 144,
   "metadata": {},
   "outputs": [
    {
     "name": "stdout",
     "output_type": "stream",
     "text": [
      "이\n",
      " \n",
      "길\n",
      "이\n",
      " \n",
      "곧\n",
      " \n",
      "나\n",
      "에\n",
      "게\n",
      " \n",
      "가\n",
      "르\n",
      "쳐\n",
      " \n",
      "줄\n",
      " \n",
      "테\n",
      "니\n",
      "까\n"
     ]
    }
   ],
   "source": [
    "for i in right:\n",
    "    print(i)"
   ]
  },
  {
   "cell_type": "code",
   "execution_count": 126,
   "metadata": {},
   "outputs": [
    {
     "data": {
      "text/plain": [
       "[Match(a=0, b=0, size=1),\n",
       " Match(a=1, b=5, size=1),\n",
       " Match(a=2, b=7, size=3),\n",
       " Match(a=5, b=11, size=3),\n",
       " Match(a=8, b=15, size=1),\n",
       " Match(a=9, b=17, size=3),\n",
       " Match(a=12, b=20, size=0)]"
      ]
     },
     "execution_count": 126,
     "metadata": {},
     "output_type": "execute_result"
    }
   ],
   "source": [
    "SequenceMatcher(None, correct, right).get_matching_blocks()"
   ]
  },
  {
   "cell_type": "code",
   "execution_count": 115,
   "metadata": {},
   "outputs": [
    {
     "data": {
      "text/plain": [
       "'이곧나에게가르쳐줄테니까'"
      ]
     },
     "execution_count": 115,
     "metadata": {},
     "output_type": "execute_result"
    }
   ],
   "source": [
    "correct"
   ]
  },
  {
   "cell_type": "code",
   "execution_count": 5,
   "metadata": {},
   "outputs": [
    {
     "data": {
      "text/plain": [
       "0.8"
      ]
     },
     "execution_count": 5,
     "metadata": {},
     "output_type": "execute_result"
    }
   ],
   "source": [
    "a = '엔 화'\n",
    "b = '엔화'\n",
    "SequenceMatcher(None, a, b).ratio()"
   ]
  },
  {
   "cell_type": "code",
   "execution_count": 4,
   "metadata": {},
   "outputs": [
    {
     "data": {
      "text/plain": [
       "1.0"
      ]
     },
     "execution_count": 4,
     "metadata": {},
     "output_type": "execute_result"
    }
   ],
   "source": [
    "a = '전자의경우엔화가많고'\n",
    "b = '전자의경우엔화가많고'\n",
    "SequenceMatcher(None, a, b).ratio()"
   ]
  },
  {
   "cell_type": "code",
   "execution_count": 26,
   "metadata": {},
   "outputs": [],
   "source": [
    "a = '모든지도 가방 안에 넣고서'\n",
    "b = '때 묻은 지도는 가방 안에 넣고서'\n",
    "answer = SequenceMatcher(None, a, b).get_matching_blocks()"
   ]
  },
  {
   "cell_type": "code",
   "execution_count": 27,
   "metadata": {},
   "outputs": [
    {
     "data": {
      "text/plain": [
       "[Match(a=2, b=5, size=2), Match(a=4, b=8, size=10), Match(a=14, b=18, size=0)]"
      ]
     },
     "execution_count": 27,
     "metadata": {},
     "output_type": "execute_result"
    }
   ],
   "source": [
    "answer"
   ]
  },
  {
   "cell_type": "code",
   "execution_count": 28,
   "metadata": {},
   "outputs": [],
   "source": []
  },
  {
   "cell_type": "code",
   "execution_count": null,
   "metadata": {},
   "outputs": [],
   "source": []
  },
  {
   "cell_type": "code",
   "execution_count": 16,
   "metadata": {},
   "outputs": [
    {
     "data": {
      "text/plain": [
       "17"
      ]
     },
     "execution_count": 16,
     "metadata": {},
     "output_type": "execute_result"
    }
   ],
   "source": [
    "len(b)"
   ]
  },
  {
   "cell_type": "code",
   "execution_count": 78,
   "metadata": {},
   "outputs": [],
   "source": [
    "check_list = [0]*len(b)\n",
    "black = ''\n",
    "red = ''"
   ]
  },
  {
   "cell_type": "code",
   "execution_count": 79,
   "metadata": {},
   "outputs": [],
   "source": [
    "for i in answer:\n",
    "    for k in range(i[1], i[1]+i[2]):\n",
    "        check_list[k] = 1"
   ]
  },
  {
   "cell_type": "code",
   "execution_count": 80,
   "metadata": {},
   "outputs": [
    {
     "data": {
      "text/plain": [
       "[0, 0, 0, 0, 0, 1, 1, 0, 1, 1, 1, 1, 1, 1, 1, 1, 1, 1]"
      ]
     },
     "execution_count": 80,
     "metadata": {},
     "output_type": "execute_result"
    }
   ],
   "source": [
    "check_list"
   ]
  },
  {
   "cell_type": "code",
   "execution_count": 81,
   "metadata": {},
   "outputs": [],
   "source": [
    "for point in range(len(b)):\n",
    "    if(check_list[point]):\n",
    "        red = red + b[point]\n",
    "        if(b[point] == ' '):\n",
    "            black = black + ' '\n",
    "        else:\n",
    "            black = black + '   '\n",
    "        \n",
    "    else:\n",
    "        black = black + b[point]\n",
    "        if(b[point] == ' '):\n",
    "            red = red + ' '\n",
    "        else:\n",
    "            red = red + '   '"
   ]
  },
  {
   "cell_type": "code",
   "execution_count": 82,
   "metadata": {},
   "outputs": [
    {
     "data": {
      "text/plain": [
       "'           지도    가방 안에 넣고서'"
      ]
     },
     "execution_count": 82,
     "metadata": {},
     "output_type": "execute_result"
    }
   ],
   "source": [
    "red"
   ]
  },
  {
   "cell_type": "code",
   "execution_count": 83,
   "metadata": {},
   "outputs": [
    {
     "data": {
      "text/plain": [
       "'때 묻은       는                        '"
      ]
     },
     "execution_count": 83,
     "metadata": {},
     "output_type": "execute_result"
    }
   ],
   "source": [
    "black"
   ]
  },
  {
   "cell_type": "code",
   "execution_count": 84,
   "metadata": {},
   "outputs": [
    {
     "data": {
      "text/plain": [
       "True"
      ]
     },
     "execution_count": 84,
     "metadata": {},
     "output_type": "execute_result"
    }
   ],
   "source": [
    "b[1] == ' '"
   ]
  },
  {
   "cell_type": "code",
   "execution_count": 4,
   "metadata": {},
   "outputs": [
    {
     "data": {
      "text/plain": [
       "['아주 멀리까지 가 보고 싶어',\n",
       " '그곳에선 누구를 만날 수가 있을지',\n",
       " '아주 높이까지 오르고 싶어',\n",
       " '얼마나 더 먼 곳을 바라볼 수 있을지',\n",
       " '작은 물병 하나, 먼지 낀 카메라']"
      ]
     },
     "execution_count": 4,
     "metadata": {},
     "output_type": "execute_result"
    }
   ],
   "source": [
    "script[0:5]"
   ]
  },
  {
   "cell_type": "code",
   "execution_count": 18,
   "metadata": {},
   "outputs": [],
   "source": [
    "script_data = ['동해물과 백두산이 마르고 닳도록',\n",
    "               '하느님이 보우하사 우리나라 만세',\n",
    "               '무궁화 삼천리 화려 강산',\n",
    "               '대한 사람 대한으로 길이 보전하세',\n",
    "               '남산 위에 저 소나무 철갑을 두른 듯',\n",
    "               '바람 서리 불변함은 우리 기상일세',\n",
    "               '가을 하늘 공활한데 높고 구름 없이',\n",
    "               '밝은 달은 우리 가슴 일편단심일세',\n",
    "               '이 기상과 이 맘으로 충성을 다하여',\n",
    "               '괴로우나 즐거우나 나라 사랑하세',\n",
    "               '아름다운 이 땅에 금수강산에']"
   ]
  },
  {
   "cell_type": "code",
   "execution_count": 26,
   "metadata": {},
   "outputs": [],
   "source": [
    "def similarity3(script_data, present_sentence):\n",
    "    ratio = []\n",
    "    for i in range(len(script_data)):\n",
    "        script_sentence = script_data[i].replace(\" \", \"\")\n",
    "        script_sentence = script_sentence.replace(\".\", \"\")\n",
    "        ratio.append(SequenceMatcher(None, present_sentence, script_sentence).ratio())\n",
    "    return ratio"
   ]
  },
  {
   "cell_type": "code",
   "execution_count": 28,
   "metadata": {},
   "outputs": [
    {
     "name": "stdout",
     "output_type": "stream",
     "text": [
      "0.1111111111111111\n",
      "0.4444444444444444\n",
      "0.0\n",
      "0.1111111111111111\n",
      "0.0\n",
      "0.0\n",
      "0.2222222222222222\n",
      "0.0\n",
      "0.1111111111111111\n",
      "0.1111111111111111\n",
      "0.125\n"
     ]
    }
   ],
   "source": [
    "similarity3(script_data, '하느님이')"
   ]
  },
  {
   "cell_type": "code",
   "execution_count": 4,
   "metadata": {},
   "outputs": [
    {
     "name": "stdout",
     "output_type": "stream",
     "text": [
      "[Match(a=0, b=1, size=1), Match(a=2, b=2, size=0)]\n"
     ]
    }
   ],
   "source": [
    "print(SequenceMatcher(None, 'ab', 'ba').get_matching_blocks())"
   ]
  },
  {
   "cell_type": "code",
   "execution_count": 25,
   "metadata": {},
   "outputs": [
    {
     "name": "stdout",
     "output_type": "stream",
     "text": [
      "0.5882352941176471\n"
     ]
    }
   ],
   "source": [
    "print(SequenceMatcher(None, '하느님이보우하사우리나라만세무궁화삼천리화려강산', '무궁화삼천리화려강산').ratio())"
   ]
  },
  {
   "cell_type": "code",
   "execution_count": 27,
   "metadata": {},
   "outputs": [
    {
     "name": "stdout",
     "output_type": "stream",
     "text": [
      "0.37037037037037035\n"
     ]
    }
   ],
   "source": [
    "s1 = '남편은 유령 같은 내게 불만이 많아요.'\n",
    "s2 = '남편은 이름 같은 일을 꾸미는.'\n",
    "\n",
    "new_s1 = s1.replace(\" \", \"\")\n",
    "new_s1 = new_s1.replace(\".\", \"\")\n",
    "new_s2 = s2.replace(\" \", \"\")\n",
    "new_s2 = new_s2.replace(\".\", \"\")\n",
    "\n",
    "print(SequenceMatcher(None, new_s1, new_s2).ratio())"
   ]
  },
  {
   "cell_type": "code",
   "execution_count": 213,
   "metadata": {},
   "outputs": [],
   "source": [
    "with open('conti_script_print.txt', 'r') as f:\n",
    "    data = f.read()\n",
    "file_list = data.splitlines()"
   ]
  },
  {
   "cell_type": "code",
   "execution_count": 10,
   "metadata": {},
   "outputs": [
    {
     "name": "stdout",
     "output_type": "stream",
     "text": [
      "0 0.0\n",
      "1 0.0\n",
      "2 0.0\n",
      "3 0.0\n",
      "4 0.0\n",
      "5 0.1111111111111111\n",
      "6 0.4444444444444444\n",
      "7 0.0\n",
      "8 0.1111111111111111\n",
      "9 0.0\n",
      "10 0.0\n"
     ]
    }
   ],
   "source": [
    "x = similarity3(file_list[0:11], '하느님이')"
   ]
  },
  {
   "cell_type": "code",
   "execution_count": 27,
   "metadata": {},
   "outputs": [],
   "source": [
    "result = {0: similarity3(file_list[0:11], '하')}"
   ]
  },
  {
   "cell_type": "code",
   "execution_count": 51,
   "metadata": {},
   "outputs": [],
   "source": [
    "result[13] = similarity3(file_list[0:11], '하느님이보우하사우리나라만세')"
   ]
  },
  {
   "cell_type": "code",
   "execution_count": 61,
   "metadata": {},
   "outputs": [],
   "source": [
    "result_list = []"
   ]
  },
  {
   "cell_type": "code",
   "execution_count": 124,
   "metadata": {},
   "outputs": [],
   "source": [
    "result_list.append(similarity3(file_list[0:11], '하느님이보우하사우리나라만세무궁화삼천리화려강산'))"
   ]
  },
  {
   "cell_type": "code",
   "execution_count": 80,
   "metadata": {},
   "outputs": [
    {
     "data": {
      "text/plain": [
       "[0.0,\n",
       " 0.0,\n",
       " 0.0,\n",
       " 0.0,\n",
       " 0.0,\n",
       " 0.07142857142857142,\n",
       " 1.0,\n",
       " 0.08333333333333333,\n",
       " 0.2857142857142857,\n",
       " 0.07142857142857142,\n",
       " 0.21428571428571427]"
      ]
     },
     "execution_count": 80,
     "metadata": {},
     "output_type": "execute_result"
    }
   ],
   "source": [
    "result_list[13]"
   ]
  },
  {
   "cell_type": "code",
   "execution_count": 98,
   "metadata": {},
   "outputs": [],
   "source": [
    "result_list_1 = np.array(result_list).T"
   ]
  },
  {
   "cell_type": "code",
   "execution_count": 226,
   "metadata": {},
   "outputs": [],
   "source": [
    "s1 = result_list[:13]"
   ]
  },
  {
   "cell_type": "code",
   "execution_count": 240,
   "metadata": {},
   "outputs": [
    {
     "data": {
      "image/png": "[encoded data removed]",
      "text/plain": [
       "<Figure size 432x288 with 1 Axes>"
      ]
     },
     "metadata": {
      "needs_background": "light"
     },
     "output_type": "display_data"
    }
   ],
   "source": [
    "from matplotlib import pyplot as plt\n",
    " \n",
    "plt.plot(s1)\n",
    "name = '한국말'\n",
    "plt.savefig('similarity_graph/'+name+'.png')\n",
    "# plt.show()"
   ]
  },
  {
   "cell_type": "code",
   "execution_count": 228,
   "metadata": {},
   "outputs": [],
   "source": [
    "s2 = result_list"
   ]
  },
  {
   "cell_type": "code",
   "execution_count": 229,
   "metadata": {},
   "outputs": [
    {
     "data": {
      "image/png": "[encoded data removed]",
      "text/plain": [
       "<Figure size 432x288 with 1 Axes>"
      ]
     },
     "metadata": {
      "needs_background": "light"
     },
     "output_type": "display_data"
    }
   ],
   "source": [
    "plt.plot(s2)\n",
    "plt.legend(['0', '1', '2', '3', '4', '5', '6', '7', '8', '9', '10'], bbox_to_anchor=(1, 1))\n",
    "plt.show()"
   ]
  },
  {
   "cell_type": "code",
   "execution_count": 174,
   "metadata": {},
   "outputs": [],
   "source": [
    "a = []"
   ]
  },
  {
   "cell_type": "code",
   "execution_count": 186,
   "metadata": {},
   "outputs": [],
   "source": [
    "a.append([10,9,8,7,6,5,4,3,2,1,0])"
   ]
  },
  {
   "cell_type": "code",
   "execution_count": 187,
   "metadata": {},
   "outputs": [
    {
     "data": {
      "image/png": "[encoded data removed]",
      "text/plain": [
       "<Figure size 432x288 with 1 Axes>"
      ]
     },
     "metadata": {
      "needs_background": "light"
     },
     "output_type": "display_data"
    }
   ],
   "source": [
    "plt.plot(a)\n",
    "plt.legend(['0', '1', '2', '3', '4', '5', '6', '7', '8', '9', '10'], bbox_to_anchor=(1, 1))\n",
    "plt.show()"
   ]
  },
  {
   "cell_type": "code",
   "execution_count": 214,
   "metadata": {},
   "outputs": [
    {
     "data": {
      "text/plain": [
       "[' ',\n",
       " ' ',\n",
       " ' ',\n",
       " ' ',\n",
       " ' ',\n",
       " '3월인데 여전히 춥다. ',\n",
       " '분명히 C동 1층이었는데.',\n",
       " '여기쯤인데. 왜 팻말이 없지?',\n",
       " '',\n",
       " '잠시만요!!',\n",
       " '저기 괜찮아요?',\n",
       " '아!!! 아파!! 아파~~~!!',\n",
       " '이 변태 새끼야!',\n",
       " '',\n",
       " '“위 동아리는 2019년 11월 30일 자로 폐부를 통지함. 해당 일까지 동아리 방을 비우고 동아리 연합회에 폐부신고서를 제출하기 바람” 형, 누나, 어떡해! 설마가 진짜가 됐어!',\n",
       " '',\n",
       " '뭐야! 안 놀래? ',\n",
       " '',\n",
       " '작년에 폐부 권고 통지받았고, 그거대로 올해 폐부통지서가 온 거잖아.',\n",
       " '우리 연극부의 겸둥이 유가 놀람 모드로 급 등장. 우리 유 진짜 이쁘죠? 제가 빠른 시일 내 유랑 같이 연극 분장 라방 준비할게요. 밤 열한시에 다시 만나요. 안녕 ~',\n",
       " '누나아-',\n",
       " '폐부 권고 아니었음 도래 오빠가 공연 올릴 맘도 안 먹었을걸? 불행 중 다행이라 생각해.',\n",
       " '버퍼링 긴 도래한테는 이 정도는 되야 자극이 되나봐. ',\n",
       " '연극부 들어와서 1년 반 만에 제대로 된 연극할 줄 알았는데 폐부라니! 말도 안돼! 폐부 되면 난 어디가?',\n",
       " '군대. ',\n",
       " '뭐야, 형! 팔 왜 그래? ',\n",
       " '말하자면 사연이 길다.   ',\n",
       " '또 어디서 뒹굴었어?',\n",
       " '짜잔! 여기 집중! 내 팔을 이 지경으로 만든 가해자이자 연극부 신입 부원, 철학과 3학년 이찬란을 소개합니다.',\n",
       " '헐, 신입부원?',\n",
       " '안녕하세요. 기획을 맡은 최시온입니다.',\n",
       " '난 분장, 의상 담당 진.',\n",
       " '전 활기 담당 유라고 해~유! ',\n",
       " '난 연극부 회장 윤도래.',\n",
       " '연극부에 오신 걸 다시 한번 환영합니다! ',\n",
       " '잠깐만요, 무슨 오해가 있는 것 같은데, 전 여기서 빌려 간 옷을 돌려주려 온 것 뿐이에요.',\n",
       " '어제, 여기 제 발로 찾아왔잖아.',\n",
       " '옷? 내가 모르는 의상 반출이 있었어?',\n",
       " '어제 페인트통 발로 팍, 옷에 찍! ',\n",
       " '나중이라도 나한테 말을 해줬어야지!',\n",
       " '얘가 내 팔 이렇게 만들고...',\n",
       " '그건 고의가 아니라 실수였어요. 변태인줄....',\n",
       " '애니웨이!! 페인트 뒤집어쓴 채 다닐 순 없어서 연극부 의상 렌트.',\n",
       " '그건 그쪽이 막무가내로.',\n",
       " '인간적으로 그냥 돌려보낼 수는 없잖아.',\n",
       " '저기요! 어쨌든 전 제 할 일 다 했어요. 안녕히 계세요.',\n",
       " '잠깐, 너, 내 팔을 이렇게 만들어 놓고 이렇게 가겠다고? 신입 부원 등록 해야지.',\n",
       " '정말 일관되게 무례하시네요.',\n",
       " '저기! 실례가 안 된다면 제가 잠시 개입을. 어떤 상황인지 이제 알겠네요. 찬란씨, 당황스럽게 한 점 대신 사과드릴게요. 반드시 연극부에 들어올 필요는 없지만, 그래도 한 번 제대로 된 설명 들어보고 생각해보면 어떨까요? 여기는 지난 몇 년 동안 공연을 올리지 않은 유령 연극부예요. 작년에 폐부 권고를 받았는데, 올해 말, 폐부 되기 전에 마지막으로 저희가 공연을 올리려고 합니다. 그래서 1년 동안 함께해줄 신입 부원을 찾다가, 글쎄, 이 녀석이 그쪽이 무척 마음에 들었나 봐요.',\n",
       " '4차 산업혁명 시대에 무슨 연극인가 싶죠? 좀 올드하긴 한데 완전 아날로그 연극작업이 은근 재밌어요. ',\n",
       " '여기 저 빼고 다 4학년이에요, 복학 둘, 재수하나. 전 파릇파릇한 현역 2학년. ',\n",
       " '부담스럽겠지만 한번 진지하게 고민을...',\n",
       " '저는...',\n",
       " '저는?',\n",
       " '그렇게 한가하지 못합니다.',\n",
       " ' ',\n",
       " ' ',\n",
       " ' ',\n",
       " ' ',\n",
       " ' ']"
      ]
     },
     "execution_count": 214,
     "metadata": {},
     "output_type": "execute_result"
    }
   ],
   "source": [
    "file_list"
   ]
  },
  {
   "cell_type": "code",
   "execution_count": 215,
   "metadata": {},
   "outputs": [],
   "source": [
    "for i in range (len(file_list)):\n",
    "    sentence = file_list[i].replace(\" \", \"\")\n",
    "    sentence = sentence.replace(\".\", \"\")\n",
    "    sentence = sentence.replace(\",\", \"\")\n",
    "    sentence = sentence.replace(\"!\", \"\")\n",
    "    sentence = sentence.replace(\"?\", \"\")\n",
    "    sentence = sentence.replace(\"~\", \"\")\n",
    "    sentence = sentence.replace('“', \"\")\n",
    "    sentence = sentence.replace('”', \"\")\n",
    "    sentence = sentence.replace('\"', \"\")\n",
    "    sentence = sentence.replace('-', \"\")\n",
    "    file_list[i] = sentence"
   ]
  },
  {
   "cell_type": "code",
   "execution_count": 216,
   "metadata": {},
   "outputs": [
    {
     "data": {
      "text/plain": [
       "['',\n",
       " '',\n",
       " '',\n",
       " '',\n",
       " '',\n",
       " '3월인데여전히춥다',\n",
       " '분명히C동1층이었는데',\n",
       " '여기쯤인데왜팻말이없지',\n",
       " '',\n",
       " '잠시만요',\n",
       " '저기괜찮아요',\n",
       " '아아파아파',\n",
       " '이변태새끼야',\n",
       " '',\n",
       " '위동아리는2019년11월30일자로폐부를통지함해당일까지동아리방을비우고동아리연합회에폐부신고서를제출하기바람형누나어떡해설마가진짜가됐어',\n",
       " '',\n",
       " '뭐야안놀래',\n",
       " '',\n",
       " '작년에폐부권고통지받았고그거대로올해폐부통지서가온거잖아',\n",
       " '우리연극부의겸둥이유가놀람모드로급등장우리유진짜이쁘죠제가빠른시일내유랑같이연극분장라방준비할게요밤열한시에다시만나요안녕',\n",
       " '누나아',\n",
       " '폐부권고아니었음도래오빠가공연올릴맘도안먹었을걸불행중다행이라생각해',\n",
       " '버퍼링긴도래한테는이정도는되야자극이되나봐',\n",
       " '연극부들어와서1년반만에제대로된연극할줄알았는데폐부라니말도안돼폐부되면난어디가',\n",
       " '군대',\n",
       " '뭐야형팔왜그래',\n",
       " '말하자면사연이길다',\n",
       " '또어디서뒹굴었어',\n",
       " '짜잔여기집중내팔을이지경으로만든가해자이자연극부신입부원철학과3학년이찬란을소개합니다',\n",
       " '헐신입부원',\n",
       " '안녕하세요기획을맡은최시온입니다',\n",
       " '난분장의상담당진',\n",
       " '전활기담당유라고해유',\n",
       " '난연극부회장윤도래',\n",
       " '연극부에오신걸다시한번환영합니다',\n",
       " '잠깐만요무슨오해가있는것같은데전여기서빌려간옷을돌려주려온것뿐이에요',\n",
       " '어제여기제발로찾아왔잖아',\n",
       " '옷내가모르는의상반출이있었어',\n",
       " '어제페인트통발로팍옷에찍',\n",
       " '나중이라도나한테말을해줬어야지',\n",
       " '얘가내팔이렇게만들고',\n",
       " '그건고의가아니라실수였어요변태인줄',\n",
       " '애니웨이페인트뒤집어쓴채다닐순없어서연극부의상렌트',\n",
       " '그건그쪽이막무가내로',\n",
       " '인간적으로그냥돌려보낼수는없잖아',\n",
       " '저기요어쨌든전제할일다했어요안녕히계세요',\n",
       " '잠깐너내팔을이렇게만들어놓고이렇게가겠다고신입부원등록해야지',\n",
       " '정말일관되게무례하시네요',\n",
       " '저기실례가안된다면제가잠시개입을어떤상황인지이제알겠네요찬란씨당황스럽게한점대신사과드릴게요반드시연극부에들어올필요는없지만그래도한번제대로된설명들어보고생각해보면어떨까요여기는지난몇년동안공연을올리지않은유령연극부예요작년에폐부권고를받았는데올해말폐부되기전에마지막으로저희가공연을올리려고합니다그래서1년동안함께해줄신입부원을찾다가글쎄이녀석이그쪽이무척마음에들었나봐요',\n",
       " '4차산업혁명시대에무슨연극인가싶죠좀올드하긴한데완전아날로그연극작업이은근재밌어요',\n",
       " '여기저빼고다4학년이에요복학둘재수하나전파릇파릇한현역2학년',\n",
       " '부담스럽겠지만한번진지하게고민을',\n",
       " '저는',\n",
       " '저는',\n",
       " '그렇게한가하지못합니다',\n",
       " '',\n",
       " '',\n",
       " '',\n",
       " '',\n",
       " '']"
      ]
     },
     "execution_count": 216,
     "metadata": {},
     "output_type": "execute_result"
    }
   ],
   "source": [
    "file_list"
   ]
  },
  {
   "cell_type": "code",
   "execution_count": 220,
   "metadata": {},
   "outputs": [],
   "source": [
    "with open('conti_script_compare.txt', 'w') as f:\n",
    "    for line in file_list:\n",
    "        f.writelines(line+'\\n')"
   ]
  },
  {
   "cell_type": "code",
   "execution_count": 222,
   "metadata": {},
   "outputs": [],
   "source": [
    "with open('conti_script_compare.txt', 'r') as f:\n",
    "    data = f.read()\n",
    "script_data = data.splitlines()"
   ]
  },
  {
   "cell_type": "code",
   "execution_count": 247,
   "metadata": {},
   "outputs": [
    {
     "data": {
      "text/plain": [
       "1.0"
      ]
     },
     "execution_count": 247,
     "metadata": {},
     "output_type": "execute_result"
    }
   ],
   "source": [
    "SequenceMatcher(None, '동해물과백두산이마르고닳도록', '동해물과백두산이마르고닳도록').ratio()"
   ]
  },
  {
   "cell_type": "code",
   "execution_count": 248,
   "metadata": {},
   "outputs": [
    {
     "data": {
      "text/plain": [
       "0.0"
      ]
     },
     "execution_count": 248,
     "metadata": {},
     "output_type": "execute_result"
    }
   ],
   "source": [
    "SequenceMatcher(None, '', '동해물과백두산이마르고닳도록').ratio()"
   ]
  },
  {
   "cell_type": "code",
   "execution_count": 250,
   "metadata": {},
   "outputs": [],
   "source": [
    "a = [[0.0, 0.0, 0.0, 0.0, 0.0, 0.0, 0.0, 0.0, 0.0, 0.0, 0.0]]"
   ]
  },
  {
   "cell_type": "code",
   "execution_count": 251,
   "metadata": {},
   "outputs": [
    {
     "data": {
      "text/plain": [
       "0"
      ]
     },
     "execution_count": 251,
     "metadata": {},
     "output_type": "execute_result"
    }
   ],
   "source": [
    "np.argmax(a)"
   ]
  },
  {
   "cell_type": "code",
   "execution_count": 253,
   "metadata": {},
   "outputs": [],
   "source": [
    "def similarity2(script, present_sentence, present_point):\n",
    "#     print('present_point', present_point)\n",
    "    print('present_sentence', present_sentence)\n",
    "    present_sentence = present_sentence.replace(\" \", \"\")\n",
    "    present_sentence = present_sentence.replace(\".\", \"\")\n",
    "    ratio = []\n",
    "    for i in range(len(script)):\n",
    "        script_sentence = script[i].replace(\" \", \"\")\n",
    "        script_sentence = script_sentence.replace(\".\", \"\")\n",
    "    \n",
    "        ratio.append(SequenceMatcher(None, present_sentence, script_sentence).ratio())\n",
    "    #경험적으로, ratio() 값이 0.6 이상이면 시퀀스가 근접하게 일치함을 뜻합니다:\n",
    "    print(ratio)\n",
    "    if(np.max(ratio) > 0.4):\n",
    "        print('현재 대본: ', script[np.argmax(ratio)], np.max(ratio) ,\"                                           \")\n",
    "        return np.argmax(ratio) + present_point - 5\n",
    "    else:\n",
    "        print('현재 대본 : 없음                                                       ')\n",
    "        return present_point"
   ]
  },
  {
   "cell_type": "code",
   "execution_count": 254,
   "metadata": {},
   "outputs": [
    {
     "name": "stdout",
     "output_type": "stream",
     "text": [
      "present_sentence 아아\n",
      "[0.0, 0.0, 0.0, 0.0, 0.0, 0.0, 0.0, 0.0, 0.0, 0.0, 0.25]\n",
      "현재 대본 : 없음                                                       \n"
     ]
    },
    {
     "data": {
      "text/plain": [
       "5"
      ]
     },
     "execution_count": 254,
     "metadata": {},
     "output_type": "execute_result"
    }
   ],
   "source": [
    "similarity2(file_list[:11], '아아', 5)"
   ]
  },
  {
   "cell_type": "code",
   "execution_count": 277,
   "metadata": {},
   "outputs": [],
   "source": [
    "with open('conti_script_print.txt', 'r') as f:\n",
    "    data = f.read()\n",
    "script_data = data.splitlines()\n",
    "present_point = 5"
   ]
  },
  {
   "cell_type": "code",
   "execution_count": 25,
   "metadata": {},
   "outputs": [],
   "source": [
    "def similarity4(script, present_sentence):\n",
    "    present_sentence = present_sentence.replace(\" \", \"\")\n",
    "    present_sentence = present_sentence.replace(\".\", \"\")\n",
    "    ratio = []\n",
    "    for i in range(len(script)):\n",
    "        script_sentence = script[i].replace(\" \", \"\")\n",
    "        script_sentence = script_sentence.replace(\".\", \"\")\n",
    "    \n",
    "        ratio.append(SequenceMatcher(None, present_sentence, script_sentence).ratio())\n",
    "    return ratio"
   ]
  },
  {
   "cell_type": "code",
   "execution_count": 279,
   "metadata": {},
   "outputs": [],
   "source": [
    "result_list = []\n",
    "result_list.append(similarity4(script_data[present_point-5:present_point+6], '뭐야 형',present_point))"
   ]
  },
  {
   "cell_type": "code",
   "execution_count": 281,
   "metadata": {},
   "outputs": [
    {
     "data": {
      "text/plain": [
       "[[0.0, 0.0, 0.0, 0.0, 0.0, 0.0, 0.0, 0.0, 0.0, 0.0, 0.0]]"
      ]
     },
     "execution_count": 281,
     "metadata": {},
     "output_type": "execute_result"
    }
   ],
   "source": [
    "result_list"
   ]
  },
  {
   "cell_type": "code",
   "execution_count": 282,
   "metadata": {},
   "outputs": [
    {
     "data": {
      "text/plain": [
       "[' ',\n",
       " ' ',\n",
       " ' ',\n",
       " ' ',\n",
       " ' ',\n",
       " '3월인데 여전히 춥다. ',\n",
       " '분명히 C동 1층이었는데.',\n",
       " '여기쯤인데. 왜 팻말이 없지?',\n",
       " '',\n",
       " '잠시만요!!',\n",
       " '저기 괜찮아요?']"
      ]
     },
     "execution_count": 282,
     "metadata": {},
     "output_type": "execute_result"
    }
   ],
   "source": [
    "script_data[present_point-5:present_point+6]"
   ]
  },
  {
   "cell_type": "code",
   "execution_count": 287,
   "metadata": {},
   "outputs": [
    {
     "data": {
      "text/plain": [
       "False"
      ]
     },
     "execution_count": 287,
     "metadata": {},
     "output_type": "execute_result"
    }
   ],
   "source": [
    "present_point = 5\n",
    "present_point < 5"
   ]
  },
  {
   "cell_type": "code",
   "execution_count": 288,
   "metadata": {},
   "outputs": [],
   "source": [
    "script = ['3월인데여전히춥다',\n",
    "'분명히C동1층이었는데',\n",
    "'여기쯤인데왜팻말이없지',\n",
    "\n",
    "'잠시만요',\n",
    "'저기괜찮아요',\n",
    "'아아파아파',\n",
    "'이변태새끼야',\n",
    "\n",
    "'위동아리는2019년11월30일자로폐부를통지함해당일까지동아리방을비우고동아리연합회에폐부신고서를제출하기바람형누나어떡해설마가진짜가됐어',\n",
    "\n",
    "'뭐야안놀래',\n",
    "\n",
    "'작년에폐부권고통지받았고그거대로올해폐부통지서가온거잖아']"
   ]
  },
  {
   "cell_type": "code",
   "execution_count": 331,
   "metadata": {},
   "outputs": [],
   "source": [
    "script = ['어제여기제발로찾아왔잖아',\n",
    "'옷내가모르는의상반출이있었어',\n",
    "'어제페인트통발로팍옷에찍',\n",
    "'나중이라도나한테말을해줬어야지',\n",
    "'얘가내팔이렇게만들고',\n",
    "'그건고의가아니라실수였어요변태인줄',\n",
    "'애니웨이페인트뒤집어쓴채다닐순없어서연극부의상렌트',\n",
    "'그건그쪽이막무가내로',\n",
    "'인간적으로그냥돌려보낼수는없잖아',\n",
    "'저기요어쨌든전제할일다했어요안녕히계세요',\n",
    "'잠깐너내팔을이렇게만들어놓고이렇게가겠다고신입부원등록해야지']"
   ]
  },
  {
   "cell_type": "code",
   "execution_count": 347,
   "metadata": {},
   "outputs": [],
   "source": [
    "script = ['버퍼링긴도래한테는이정도는되야자극이되나봐',\n",
    "'연극부들어와서1년반만에제대로된연극할줄알았는데폐부라니말도안돼폐부되면난어디가',\n",
    "'군대',\n",
    "'뭐야형팔왜그래',\n",
    "'말하자면사연이길다',\n",
    "'또어디서뒹굴었어',\n",
    "'짜잔여기집중내팔을이지경으로만든가해자이자연극부신입부원철학과3학년이찬란을소개합니다',\n",
    "'헐신입부원',\n",
    "'안녕하세요기획을맡은최시온입니다',\n",
    "'난분장의상담당진',\n",
    "'전활기담당유라고해유']"
   ]
  },
  {
   "cell_type": "code",
   "execution_count": 297,
   "metadata": {},
   "outputs": [],
   "source": [
    "script = ['목민심서 정약용',\n",
    "'녹두장군 전봉준 순교 김대건',\n",
    "'서화가무 황진이',\n",
    "'못살겠다 홍경래 삼일천하 김옥균',\n",
    "'안중근은 애국 이완용은 매국',\n",
    "'별헤는 밤 윤동주 종두 지석영',\n",
    "'삼십삼인 손병희',\n",
    "'만세만세 유관순 도산 안창호',\n",
    "'어린이날 방정환',\n",
    "'이수일과 심순애 장군의 아들 김두한',\n",
    "'날자꾸나 이상 황소그림 중섭']"
   ]
  },
  {
   "cell_type": "code",
   "execution_count": 11,
   "metadata": {},
   "outputs": [],
   "source": [
    "script = ['어제여기제발로찾아왔잖아',\n",
    "'옷내가모르는의상반출이있었어',\n",
    "'어제페인트통발로팍옷에찍',\n",
    "'나중이라도나한테말을해줬어야지',\n",
    "'얘가내팔이렇게만들고',\n",
    "'그건고의가아니라실수였어요변태인줄',\n",
    "'애니웨이페인트뒤집어쓴채다닐순없어서연극부의상렌트',\n",
    "'그건그쪽이막무가내로',\n",
    "'인간적으로그냥돌려보낼수는없잖아',\n",
    "'저기요어쨌든전제할일다했어요안녕히계세요',\n",
    "'잠깐너내팔을이렇게만들어놓고이렇게가겠다고신입부원등록해야지']"
   ]
  },
  {
   "cell_type": "code",
   "execution_count": null,
   "metadata": {},
   "outputs": [],
   "source": []
  },
  {
   "cell_type": "code",
   "execution_count": 14,
   "metadata": {},
   "outputs": [
    {
     "name": "stdout",
     "output_type": "stream",
     "text": [
      "저기요어쨌든전제할일다했어요안녕히계세요 잠깐너내팔을이렇게만들어놓고이렇게가겠다고신입부원등록해야지\n"
     ]
    }
   ],
   "source": [
    "a = script[-2:]\n",
    "print(a[0], a[-1])"
   ]
  },
  {
   "cell_type": "code",
   "execution_count": 26,
   "metadata": {},
   "outputs": [],
   "source": [
    "def similarity4(script, present_sentence):\n",
    "    present_sentence = present_sentence.replace(\" \", \"\")\n",
    "    present_sentence = present_sentence.replace(\".\", \"\")\n",
    "    ratio = []\n",
    "    for i in range(len(script)):\n",
    "        script_sentence = script[i].replace(\" \", \"\")\n",
    "        script_sentence = script_sentence.replace(\".\", \"\")\n",
    "        r = SequenceMatcher(None, present_sentence, script_sentence).ratio()\n",
    "        ratio.append(r)\n",
    "        \n",
    "    return ratio"
   ]
  },
  {
   "cell_type": "code",
   "execution_count": 198,
   "metadata": {},
   "outputs": [],
   "source": [
    "script = ['','','','',\n",
    "    '동해물과 백두산이 마르고 닳도록',\n",
    "'하느님이 보우하사 우리나라 만세',\n",
    "'무궁화 삼천리 화려 강산',\n",
    "'대한 사람 대한으로 길이 보전하세',\n",
    "'남산 위에 저 소나무 철갑을 두른 듯',\n",
    "'바람 서리 불변함은 우리 기상일세',\n",
    "'가을 하늘 공활한데 높고 구름 없이']"
   ]
  },
  {
   "cell_type": "code",
   "execution_count": null,
   "metadata": {},
   "outputs": [],
   "source": [
    "동해 물과\n",
    "동해 물과 백\n",
    "동해 물과\n",
    "동해 물과 백두\n",
    "동해 물과\n",
    "동해 물과\n",
    "동해 물과\n",
    "동해 물과\n",
    "동해 물과\n",
    "동해 물과 백두산이\n",
    "동해 물과 백두산이\n",
    "동해 물과 백두산이\n",
    "동해 물과 백두산이\n",
    "동해 물과 백두산이 마르고\n",
    "동해 물과 백두산이 마르고 닳도록\n",
    "동해 물과 백두산이 마르고 닳도록\n",
    "동해 물과 백두산이 마르고 닳도록\n",
    "동해 물과 백두산이 마르고 닳도록\n",
    "동해 물과 백두산이 마르고 닳도록\n",
    "동해 물과 백두산이 마르고 닳도록 하느님이\n",
    "동해 물과 백두산이 마르고 닳도록 하느님이\n",
    "동해 물과 백두산이 마르고 닳도록 하느님이 보우하사\n",
    "동해 물과 백두산이 마르고 닳도록 하느님이 보우하사\n",
    "동해 물과 백두산이 마르고 닳도록 하느님이 보우하사 우리나라\n",
    "동해 물과 백두산이 마르고 닳도록 하느님이 보우하사 우리나라 만세\n",
    "동해 물과 백두산이 마르고 닳도록 하느님이 보우하사 우리나라 만세\n",
    "동해 물과 백두산이 마르고 닳도록 하느님이 보우하사 우리나라 만세\n",
    "동해 물과 백두산이 마르고 닳도록 하느님이 보우하사 우리나라 만세 무궁화\n",
    "동해 물과 백두산이 마르고 닳도록 하느님이 보우하사 우리나라 만세 무궁화 삼천리\n",
    "동해 물과 백두산이 마르고 닳도록 하느님이 보우하사 우리나라 만세 무궁화 삼천리\n",
    "동해 물과 백두산이 마르고 닳도록 하느님이 보우하사 우리나라 만세 무궁화 삼천리\n",
    "동해 물과 백두산이 마르고 닳도록 하느님이 보우하사 우리나라 만세 무궁화 삼천리 화려강산\n",
    "동해 물과 백두산이 마르고 닳도록 하느님이 보우하사 우리나라 만세 무궁화 삼천리 화려강산\n",
    "동해 물과 백두산이 마르고 닳도록 하느님이 보우하사 우리나라 만세 무궁화 삼천리 화려강산\n",
    "동해 물과 백두산이 마르고 닳도록 하느님이 보우하사 우리나라 만세 무궁화 삼천리 화려강산 대한\n",
    "동해 물과 백두산이 마르고 닳도록 하느님이 보우하사 우리나라 만세 무궁화 삼천리 화려강산 대한\n",
    "동해 물과 백두산이 마르고 닳도록 하느님이 보우하사 우리나라 만세 무궁화 삼천리 화려강산 대한 사람\n",
    "동해 물과 백두산이 마르고 닳도록 하느님이 보우하사 우리나라 만세 무궁화 삼천리 화려강산 대한 사람 대한으로\n",
    "동해 물과 백두산이 마르고 닳도록 하느님이 보우하사 우리나라 만세 무궁화 삼천리 화려강산 대한 사람 대한으로\n",
    "동해 물과 백두산이 마르고 닳도록 하느님이 보우하사 우리나라 만세 무궁화 삼천리 화려강산 대한 사람 대한으로\n",
    "동해 물과 백두산이 마르고 닳도록 하느님이 보우하사 우리나라 만세 무궁화 삼천리 화려강산 대한 사람 대한으로 길이\n",
    "동해 물과 백두산이 마르고 닳도록 하느님이 보우하사 우리나라 만세 무궁화 삼천리 화려강산 대한 사람 대한으로 길이 보전하세\n",
    " 동해 물과 백두산이 마르고 닳도록 하느님이 보우하사 우리나라 만세 무궁화 삼천리 화려강산 대한 사람 대한으로 길이 보전하 세"
   ]
  },
  {
   "cell_type": "code",
   "execution_count": 267,
   "metadata": {},
   "outputs": [],
   "source": [
    "result_list = []"
   ]
  },
  {
   "cell_type": "code",
   "execution_count": 333,
   "metadata": {},
   "outputs": [],
   "source": [
    "out = 38"
   ]
  },
  {
   "cell_type": "code",
   "execution_count": 330,
   "metadata": {},
   "outputs": [
    {
     "data": {
      "text/plain": [
       "38"
      ]
     },
     "execution_count": 330,
     "metadata": {},
     "output_type": "execute_result"
    }
   ],
   "source": [
    "len(s)"
   ]
  },
  {
   "cell_type": "code",
   "execution_count": 344,
   "metadata": {},
   "outputs": [],
   "source": [
    "s = '동해물과백두산이마르고닳도록하느님이보우하사우리나라만세무궁화삼천리화려강산대한사람대한으로길이보전하세'"
   ]
  },
  {
   "cell_type": "code",
   "execution_count": 346,
   "metadata": {},
   "outputs": [],
   "source": [
    "result_list.append(similarity4(script, s[out:]))"
   ]
  },
  {
   "cell_type": "code",
   "execution_count": 347,
   "metadata": {},
   "outputs": [
    {
     "name": "stdout",
     "output_type": "stream",
     "text": [
      "[0.0, 0.0, 0.0, 0.0, 0.4444444444444444, 0.0, 0.0, 0.0, 0.0, 0.0, 0.0]\n",
      "[0.0, 0.0, 0.0, 0.0, 0.5263157894736842, 0.0, 0.0, 0.0, 0.0, 0.0, 0.0]\n",
      "[0.0, 0.0, 0.0, 0.0, 0.4444444444444444, 0.0, 0.0, 0.0, 0.0, 0.0, 0.0]\n",
      "[0.0, 0.0, 0.0, 0.0, 0.6, 0.0, 0.0, 0.0, 0.1, 0.0, 0.0]\n",
      "[0.0, 0.0, 0.0, 0.0, 0.4444444444444444, 0.0, 0.0, 0.0, 0.0, 0.0, 0.0]\n",
      "[0.0, 0.0, 0.0, 0.0, 0.4444444444444444, 0.0, 0.0, 0.0, 0.0, 0.0, 0.0]\n",
      "[0.0, 0.0, 0.0, 0.0, 0.4444444444444444, 0.0, 0.0, 0.0, 0.0, 0.0, 0.0]\n",
      "[0.0, 0.0, 0.0, 0.0, 0.4444444444444444, 0.0, 0.0, 0.0, 0.0, 0.0, 0.0]\n",
      "[0.0, 0.0, 0.0, 0.0, 0.4444444444444444, 0.0, 0.0, 0.0, 0.0, 0.0, 0.0]\n",
      "[0.0, 0.0, 0.0, 0.0, 0.7272727272727273, 0.09090909090909091, 0.1111111111111111, 0.09090909090909091, 0.09090909090909091, 0.0, 0.09090909090909091]\n",
      "[0.0, 0.0, 0.0, 0.0, 0.7272727272727273, 0.09090909090909091, 0.1111111111111111, 0.09090909090909091, 0.09090909090909091, 0.0, 0.09090909090909091]\n",
      "[0.0, 0.0, 0.0, 0.0, 0.7272727272727273, 0.09090909090909091, 0.1111111111111111, 0.09090909090909091, 0.09090909090909091, 0.0, 0.09090909090909091]\n",
      "[0.0, 0.0, 0.0, 0.0, 0.7272727272727273, 0.09090909090909091, 0.1111111111111111, 0.09090909090909091, 0.09090909090909091, 0.0, 0.09090909090909091]\n",
      "[0.0, 0.0, 0.0, 0.0, 0.88, 0.08, 0.09523809523809523, 0.08, 0.08, 0.0, 0.08]\n",
      "[0.0, 0.0, 0.0, 0.0, 1.0, 0.07142857142857142, 0.08333333333333333, 0.07142857142857142, 0.07142857142857142, 0.0, 0.07142857142857142]\n",
      "[0.0, 0.0, 0.0, 0.0, 1.0, 0.07142857142857142, 0.08333333333333333, 0.07142857142857142, 0.07142857142857142, 0.0, 0.07142857142857142]\n",
      "[0.0, 0.0, 0.0, 0.0, 1.0, 0.07142857142857142, 0.08333333333333333, 0.07142857142857142, 0.07142857142857142, 0.0, 0.07142857142857142]\n",
      "[0.0, 0.0, 0.0, 0.0, 1.0, 0.07142857142857142, 0.08333333333333333, 0.07142857142857142, 0.07142857142857142, 0.0, 0.07142857142857142]\n",
      "[0.0, 0.0, 0.0, 0.0, 1.0, 0.07142857142857142, 0.08333333333333333, 0.07142857142857142, 0.07142857142857142, 0.0, 0.07142857142857142]\n",
      "[0.0, 0.0, 0.0, 0.0, 0.875, 0.25, 0.07142857142857142, 0.125, 0.0625, 0.0, 0.0625]\n",
      "[0.0, 0.0, 0.0, 0.0, 0.875, 0.25, 0.07142857142857142, 0.125, 0.0625, 0.0, 0.0625]\n",
      "[0.0, 0.0, 0.0, 0.0, 0.7777777777777778, 0.4444444444444444, 0.0625, 0.16666666666666666, 0.05555555555555555, 0.05555555555555555, 0.05555555555555555]\n",
      "[0.0, 0.0, 0.0, 0.0, 0.0, 0.4444444444444444, 0.0, 0.2222222222222222, 0.0, 0.1111111111111111, 0.1111111111111111]\n",
      "[0.0, 0.0, 0.0, 0.0, 0.0, 0.7272727272727273, 0.1111111111111111, 0.18181818181818182, 0.09090909090909091, 0.18181818181818182, 0.09090909090909091]\n",
      "[0.0, 0.0, 0.0, 0.0, 0.0, 0.8333333333333334, 0.1, 0.25, 0.08333333333333333, 0.25, 0.08333333333333333]\n",
      "[0.0, 0.0, 0.0, 0.0, 0.0, 0.8333333333333334, 0.1, 0.25, 0.08333333333333333, 0.25, 0.08333333333333333]\n",
      "[0.0, 0.0, 0.0, 0.0, 0.0, 0.8333333333333334, 0.1, 0.25, 0.08333333333333333, 0.25, 0.08333333333333333]\n",
      "[0.0, 0.0, 0.0, 0.0, 0.0, 0.7407407407407407, 0.2608695652173913, 0.2222222222222222, 0.14814814814814814, 0.2222222222222222, 0.07407407407407407]\n",
      "[0.0, 0.0, 0.0, 0.0, 0.0, 0.6666666666666666, 0.46153846153846156, 0.2, 0.13333333333333333, 0.2, 0.06666666666666667]\n",
      "[0.0, 0.0, 0.0, 0.0, 0.0, 0.11764705882352941, 0.46153846153846156, 0.0, 0.0, 0.11764705882352941, 0.0]\n",
      "[0.0, 0.0, 0.0, 0.0, 0.0, 0.11764705882352941, 0.46153846153846156, 0.0, 0.0, 0.11764705882352941, 0.0]\n",
      "[0.0, 0.0, 0.0, 0.0, 0.09523809523809523, 0.09523809523809523, 0.8235294117647058, 0.0, 0.09523809523809523, 0.09523809523809523, 0.0]\n",
      "[0.0, 0.0, 0.0, 0.0, 0.09523809523809523, 0.09523809523809523, 0.8235294117647058, 0.0, 0.09523809523809523, 0.09523809523809523, 0.0]\n",
      "[0.0, 0.0, 0.0, 0.0, 0.09523809523809523, 0.09523809523809523, 0.8235294117647058, 0.0, 0.09523809523809523, 0.09523809523809523, 0.0]\n",
      "[0.0, 0.0, 0.0, 0.0, 0.08695652173913043, 0.08695652173913043, 0.7368421052631579, 0.17391304347826086, 0.08695652173913043, 0.08695652173913043, 0.08695652173913043]\n",
      "[0.0, 0.0, 0.0, 0.0, 0.0, 0.0, 0.0, 0.25, 0.0, 0.0, 0.125]\n",
      "[0.0, 0.0, 0.0, 0.0, 0.0, 0.1111111111111111, 0.0, 0.4444444444444444, 0.0, 0.1111111111111111, 0.1111111111111111]\n",
      "[0.0, 0.0, 0.0, 0.0, 0.0, 0.09090909090909091, 0.0, 0.7272727272727273, 0.0, 0.09090909090909091, 0.09090909090909091]\n",
      "[0.0, 0.0, 0.0, 0.0, 0.0, 0.09090909090909091, 0.0, 0.7272727272727273, 0.0, 0.09090909090909091, 0.09090909090909091]\n",
      "[0.0, 0.0, 0.0, 0.0, 0.0, 0.09090909090909091, 0.0, 0.7272727272727273, 0.0, 0.09090909090909091, 0.09090909090909091]\n",
      "[0.0, 0.0, 0.0, 0.0, 0.08333333333333333, 0.08333333333333333, 0.0, 0.8333333333333334, 0.0, 0.08333333333333333, 0.16666666666666666]\n",
      "[0.0, 0.0, 0.0, 0.0, 0.07142857142857142, 0.2857142857142857, 0.0, 1.0, 0.0, 0.14285714285714285, 0.14285714285714285]\n",
      "[0.0, 0.0, 0.0, 0.0, 0.07142857142857142, 0.2857142857142857, 0.0, 1.0, 0.0, 0.14285714285714285, 0.14285714285714285]\n"
     ]
    }
   ],
   "source": [
    "for i in result_list:\n",
    "    print(i)"
   ]
  },
  {
   "cell_type": "code",
   "execution_count": 356,
   "metadata": {},
   "outputs": [
    {
     "data": {
      "image/png": "[encoded data removed]",
      "text/plain": [
       "<Figure size 432x288 with 1 Axes>"
      ]
     },
     "metadata": {
      "needs_background": "light"
     },
     "output_type": "display_data"
    }
   ],
   "source": [
    "plt.clf()\n",
    "plt.plot(result_list)\n",
    "# plt.axvline(x=10, color='r', linewidth=1)\n",
    "# plt.axvline(x=15, color='r', linewidth=1)\n",
    "plt.legend(['0', '1', '2', '3', '4', '5', '6', '7', '8', '9', '10'], bbox_to_anchor=(1, 1))\n",
    "plt.savefig('similarity_graph/비교.png')"
   ]
  },
  {
   "cell_type": "code",
   "execution_count": 360,
   "metadata": {},
   "outputs": [],
   "source": [
    "k = [[0.0, 0.0, 0.0, 0.0, 0.4444444444444444, 0.0, 0.0, 0.0, 0.0, 0.0, 0.0],\n",
    "[0.0, 0.0, 0.0, 0.0, 0.5263157894736842, 0.0, 0.0, 0.0, 0.0, 0.0, 0.0],\n",
    "[0.0, 0.0, 0.0, 0.0, 0.4444444444444444, 0.0, 0.0, 0.0, 0.0, 0.0, 0.0],\n",
    "[0.0, 0.0, 0.0, 0.0, 0.6, 0.0, 0.0, 0.0, 0.1, 0.0, 0.0],\n",
    "[0.0, 0.0, 0.0, 0.0, 0.4444444444444444, 0.0, 0.0, 0.0, 0.0, 0.0, 0.0],\n",
    "[0.0, 0.0, 0.0, 0.0, 0.4444444444444444, 0.0, 0.0, 0.0, 0.0, 0.0, 0.0],\n",
    "[0.0, 0.0, 0.0, 0.0, 0.4444444444444444, 0.0, 0.0, 0.0, 0.0, 0.0, 0.0],\n",
    "[0.0, 0.0, 0.0, 0.0, 0.4444444444444444, 0.0, 0.0, 0.0, 0.0, 0.0, 0.0],\n",
    "[0.0, 0.0, 0.0, 0.0, 0.4444444444444444, 0.0, 0.0, 0.0, 0.0, 0.0, 0.0],\n",
    "[0.0, 0.0, 0.0, 0.0, 0.7272727272727273, 0.09090909090909091, 0.1111111111111111, 0.09090909090909091, 0.09090909090909091, 0.0, 0.09090909090909091],\n",
    "[0.0, 0.0, 0.0, 0.0, 0.7272727272727273, 0.09090909090909091, 0.1111111111111111, 0.09090909090909091, 0.09090909090909091, 0.0, 0.09090909090909091],\n",
    "[0.0, 0.0, 0.0, 0.0, 0.7272727272727273, 0.09090909090909091, 0.1111111111111111, 0.09090909090909091, 0.09090909090909091, 0.0, 0.09090909090909091],\n",
    "[0.0, 0.0, 0.0, 0.0, 0.7272727272727273, 0.09090909090909091, 0.1111111111111111, 0.09090909090909091, 0.09090909090909091, 0.0, 0.09090909090909091],\n",
    "[0.0, 0.0, 0.0, 0.0, 0.88, 0.08, 0.09523809523809523, 0.08, 0.08, 0.0, 0.08],\n",
    "[0.0, 0.0, 0.0, 0.0, 1.0, 0.07142857142857142, 0.08333333333333333, 0.07142857142857142, 0.07142857142857142, 0.0, 0.07142857142857142],\n",
    "[0.0, 0.0, 0.0, 0.0, 1.0, 0.07142857142857142, 0.08333333333333333, 0.07142857142857142, 0.07142857142857142, 0.0, 0.07142857142857142],\n",
    "[0.0, 0.0, 0.0, 0.0, 1.0, 0.07142857142857142, 0.08333333333333333, 0.07142857142857142, 0.07142857142857142, 0.0, 0.07142857142857142],\n",
    "[0.0, 0.0, 0.0, 0.0, 1.0, 0.07142857142857142, 0.08333333333333333, 0.07142857142857142, 0.07142857142857142, 0.0, 0.07142857142857142],\n",
    "[0.0, 0.0, 0.0, 0.0, 1.0, 0.07142857142857142, 0.08333333333333333, 0.07142857142857142, 0.07142857142857142, 0.0, 0.07142857142857142],\n",
    "[0.0, 0.0, 0.0, 0.0, 0.875, 0.25, 0.07142857142857142, 0.125, 0.0625, 0.0, 0.0625],\n",
    "[0.0, 0.0, 0.0, 0.0, 0.875, 0.25, 0.07142857142857142, 0.125, 0.0625, 0.0, 0.0625],\n",
    "[0.0, 0.0, 0.0, 0.0, 0.7777777777777778, 0.4444444444444444, 0.0625, 0.16666666666666666, 0.05555555555555555, 0.05555555555555555, 0.05555555555555555],\n",
    "[0.0, 0.0, 0.0, 0.0, 0.7777777777777778, 0.4444444444444444, 0.0625, 0.16666666666666666, 0.05555555555555555, 0.05555555555555555, 0.05555555555555555],\n",
    "[0.0, 0.0, 0.0, 0.0, 0.7, 0.6, 0.05555555555555555, 0.15, 0.05, 0.1, 0.05],\n",
    "[0.0, 0.0, 0.0, 0.0, 0.6666666666666666, 0.6666666666666666, 0.05263157894736842, 0.19047619047619047, 0.047619047619047616, 0.14285714285714285, 0.047619047619047616],\n",
    "[0.0, 0.0, 0.0, 0.0, 0.6666666666666666, 0.6666666666666666, 0.05263157894736842, 0.19047619047619047, 0.047619047619047616, 0.14285714285714285, 0.047619047619047616],\n",
    "[0.0, 0.0, 0.0, 0.0, 0.6666666666666666, 0.6666666666666666, 0.05263157894736842, 0.19047619047619047, 0.047619047619047616, 0.14285714285714285, 0.047619047619047616],\n",
    "[0.0, 0.0, 0.0, 0.0, 0.6222222222222222, 0.6222222222222222, 0.14634146341463414, 0.17777777777777778, 0.044444444444444446, 0.13333333333333333, 0.044444444444444446],\n",
    "[0.0, 0.0, 0.0, 0.0, 0.5833333333333334, 0.5833333333333334, 0.2727272727272727, 0.16666666666666666, 0.041666666666666664, 0.125, 0.041666666666666664],\n",
    "[0.0, 0.0, 0.0, 0.0, 0.5833333333333334, 0.5833333333333334, 0.2727272727272727, 0.16666666666666666, 0.041666666666666664, 0.125, 0.041666666666666664],\n",
    "[0.0, 0.0, 0.0, 0.0, 0.5833333333333334, 0.5833333333333334, 0.2727272727272727, 0.16666666666666666, 0.041666666666666664, 0.125, 0.041666666666666664],\n",
    "[0.0, 0.0, 0.0, 0.0, 0.5384615384615384, 0.5384615384615384, 0.4166666666666667, 0.15384615384615385, 0.038461538461538464, 0.11538461538461539, 0.038461538461538464],\n",
    "[0.0, 0.0, 0.0, 0.0, 0.5384615384615384, 0.5384615384615384, 0.4166666666666667, 0.15384615384615385, 0.038461538461538464, 0.11538461538461539, 0.038461538461538464],\n",
    "[0.0, 0.0, 0.0, 0.0, 0.5384615384615384, 0.5384615384615384, 0.4166666666666667, 0.15384615384615385, 0.038461538461538464, 0.11538461538461539, 0.038461538461538464],\n",
    "[0.0, 0.0, 0.0, 0.0, 0.5185185185185185, 0.5185185185185185, 0.4, 0.14814814814814814, 0.037037037037037035, 0.1111111111111111, 0.037037037037037035],\n",
    "[0.0, 0.0, 0.0, 0.0, 0.5185185185185185, 0.5185185185185185, 0.4, 0.14814814814814814, 0.037037037037037035, 0.1111111111111111, 0.037037037037037035],\n",
    "[0.0, 0.0, 0.0, 0.0, 0.5, 0.5, 0.38461538461538464, 0.14285714285714285, 0.03571428571428571, 0.10714285714285714, 0.03571428571428571],\n",
    "[0.0, 0.0, 0.0, 0.0, 0.4666666666666667, 0.4666666666666667, 0.35714285714285715, 0.26666666666666666, 0.03333333333333333, 0.1, 0.03333333333333333],\n",
    "[0.0, 0.0, 0.0, 0.0, 0.4666666666666667, 0.4666666666666667, 0.35714285714285715, 0.26666666666666666, 0.03333333333333333, 0.1, 0.03333333333333333],\n",
    "[0.0, 0.0, 0.0, 0.0, 0.4666666666666667, 0.4666666666666667, 0.35714285714285715, 0.26666666666666666, 0.03333333333333333, 0.1, 0.03333333333333333],\n",
    "[0.0, 0.0, 0.0, 0.0, 0.45161290322580644, 0.45161290322580644, 0.3448275862068966, 0.3225806451612903, 0.03225806451612903, 0.0967741935483871, 0.03225806451612903],\n",
    "[0.0, 0.0, 0.0, 0.0, 0.42424242424242425, 0.42424242424242425, 0.3225806451612903, 0.42424242424242425, 0.030303030303030304, 0.09090909090909091, 0.030303030303030304]]"
   ]
  },
  {
   "cell_type": "code",
   "execution_count": 361,
   "metadata": {},
   "outputs": [
    {
     "data": {
      "image/png": "[encoded data removed]",
      "text/plain": [
       "<Figure size 432x288 with 1 Axes>"
      ]
     },
     "metadata": {
      "needs_background": "light"
     },
     "output_type": "display_data"
    }
   ],
   "source": [
    "plt.clf()\n",
    "plt.plot(k)\n",
    "# plt.axvline(x=10, color='r', linewidth=1)\n",
    "# plt.axvline(x=15, color='r', linewidth=1)\n",
    "plt.legend(['0', '1', '2', '3', '4', '5', '6', '7', '8', '9', '10'], bbox_to_anchor=(1, 1))\n",
    "plt.savefig('similarity_graph/...png')"
   ]
  },
  {
   "cell_type": "code",
   "execution_count": 395,
   "metadata": {},
   "outputs": [
    {
     "data": {
      "text/plain": [
       "<matplotlib.legend.Legend at 0x13ca357fac0>"
      ]
     },
     "execution_count": 395,
     "metadata": {},
     "output_type": "execute_result"
    },
    {
     "data": {
      "image/png": "[encoded data removed]",
      "text/plain": [
       "<Figure size 432x288 with 1 Axes>"
      ]
     },
     "metadata": {
      "needs_background": "light"
     },
     "output_type": "display_data"
    }
   ],
   "source": [
    "plt.clf()\n",
    "plt.plot(compare)\n",
    "plt.legend(['0', '1', '2', '3', '4', '5', '6', '7', '8', '9', '10'], bbox_to_anchor=(1, 1))"
   ]
  },
  {
   "cell_type": "code",
   "execution_count": 434,
   "metadata": {},
   "outputs": [],
   "source": [
    "for i in range(0, len(k)):\n",
    "    compare.append(k[i])\n",
    "    inside = []\n",
    "    for i in range(len(compare[0])):\n",
    "        inside.append(new[-1][i] + compare[-1][i])\n",
    "    new.append(inside)"
   ]
  },
  {
   "cell_type": "code",
   "execution_count": 427,
   "metadata": {},
   "outputs": [],
   "source": [
    "compare = []\n",
    "compare.append([0,0,0,0,0,0,0,0,0,0,0])\n",
    "compare.append(k[0])\n"
   ]
  },
  {
   "cell_type": "code",
   "execution_count": 408,
   "metadata": {},
   "outputs": [],
   "source": [
    "compare.append(k[5])"
   ]
  },
  {
   "cell_type": "code",
   "execution_count": 409,
   "metadata": {},
   "outputs": [
    {
     "data": {
      "text/plain": [
       "[[0, 0, 0, 0, 0, 0, 0, 0, 0, 0, 0],\n",
       " [0.0, 0.0, 0.0, 0.0, 0.4444444444444444, 0.0, 0.0, 0.0, 0.0, 0.0, 0.0],\n",
       " [0.0, 0.0, 0.0, 0.0, 0.5263157894736842, 0.0, 0.0, 0.0, 0.0, 0.0, 0.0],\n",
       " [0.0, 0.0, 0.0, 0.0, 0.4444444444444444, 0.0, 0.0, 0.0, 0.0, 0.0, 0.0],\n",
       " [0.0, 0.0, 0.0, 0.0, 0.6, 0.0, 0.0, 0.0, 0.1, 0.0, 0.0],\n",
       " [0.0, 0.0, 0.0, 0.0, 0.5590643274853802, 0.0, 0.0, 0.0, 0.1, 0.0, 0.0],\n",
       " [0.0, 0.0, 0.0, 0.0, 0.4444444444444444, 0.0, 0.0, 0.0, 0.0, 0.0, 0.0],\n",
       " [0.0, 0.0, 0.0, 0.0, 0.4239766081871345, 0.0, 0.0, 0.0, 0.0, 0.0, 0.0],\n",
       " [0.0, 0.0, 0.0, 0.0, 0.4444444444444444, 0.0, 0.0, 0.0, 0.0, 0.0, 0.0]]"
      ]
     },
     "execution_count": 409,
     "metadata": {},
     "output_type": "execute_result"
    }
   ],
   "source": [
    "compare"
   ]
  },
  {
   "cell_type": "code",
   "execution_count": 433,
   "metadata": {},
   "outputs": [],
   "source": [
    "new = []\n",
    "new.append(compare[0])"
   ]
  },
  {
   "cell_type": "code",
   "execution_count": 411,
   "metadata": {},
   "outputs": [],
   "source": [
    "inside = []\n",
    "for i in range(len(compare[0])):\n",
    "    inside.append(compare[-1][i] + ((compare[-2][i] - compare[-3][i])/2))\n",
    "new.append(inside)"
   ]
  },
  {
   "cell_type": "code",
   "execution_count": 436,
   "metadata": {},
   "outputs": [
    {
     "data": {
      "text/plain": [
       "<matplotlib.legend.Legend at 0x13ca3273d60>"
      ]
     },
     "execution_count": 436,
     "metadata": {},
     "output_type": "execute_result"
    },
    {
     "data": {
      "image/png": "[encoded data removed]",
      "text/plain": [
       "<Figure size 432x288 with 1 Axes>"
      ]
     },
     "metadata": {
      "needs_background": "light"
     },
     "output_type": "display_data"
    }
   ],
   "source": [
    "plt.clf()\n",
    "plt.plot(new)\n",
    "plt.legend(['0', '1', '2', '3', '4', '5', '6', '7', '8', '9', '10'], bbox_to_anchor=(1, 1))"
   ]
  },
  {
   "cell_type": "code",
   "execution_count": 299,
   "metadata": {},
   "outputs": [
    {
     "ename": "IndentationError",
     "evalue": "unexpected indent (<ipython-input-299-9d8e888c7c19>, line 2)",
     "output_type": "error",
     "traceback": [
      "\u001b[1;36m  File \u001b[1;32m\"<ipython-input-299-9d8e888c7c19>\"\u001b[1;36m, line \u001b[1;32m2\u001b[0m\n\u001b[1;33m    별헤는\u001b[0m\n\u001b[1;37m    ^\u001b[0m\n\u001b[1;31mIndentationError\u001b[0m\u001b[1;31m:\u001b[0m unexpected indent\n"
     ]
    }
   ],
   "source": [
    "별의\n",
    " 별헤는\n",
    " 별헤는밤\n",
    " 별 헤는 밤 윤동주\n",
    " 별 헤는 밤 윤동주 줘\n",
    " 별 헤는 밤 윤동주 종두\n",
    " 별 헤는 밤 윤동주\n",
    " 별 헤는 밤 윤동주\n",
    " 별 헤는 밤 윤동주 종두\n",
    " 별 헤는 밤 윤동주 종두 지석영\n",
    " 별 헤는 밤 윤동주 종두 지석영\n",
    " 별 헤는 밤 윤동주 종두 지석영 33인\n",
    " 별 헤는 밤 윤동주 종두 지석영 33인\n",
    " 별 헤는 밤 윤동주 종두 지석영 33인 손병희\n",
    " 별 헤는 밤 윤동주 종두 지석영 33인 손병희\n",
    " 별 헤는 밤 윤동주 종두 지석영 33인 손병희\n",
    " 별 헤는 밤 윤동주 종두 지석영 33인 손병희 만세 만세\n",
    " 별 헤는 밤 윤동주 종두 지석영 33인 손병희 만세 만세 유관순\n",
    " 별 헤는 밤 윤동주 종두 지석영 33인 손병희 만세 만세 유관순"
   ]
  },
  {
   "cell_type": "code",
   "execution_count": 448,
   "metadata": {},
   "outputs": [],
   "source": [
    "result_list = []"
   ]
  },
  {
   "cell_type": "code",
   "execution_count": 476,
   "metadata": {},
   "outputs": [],
   "source": [
    "origin = result_list[:-1]"
   ]
  },
  {
   "cell_type": "code",
   "execution_count": 477,
   "metadata": {},
   "outputs": [],
   "source": [
    "result_list = origin"
   ]
  },
  {
   "cell_type": "code",
   "execution_count": 494,
   "metadata": {},
   "outputs": [
    {
     "data": {
      "text/plain": [
       "18"
      ]
     },
     "execution_count": 494,
     "metadata": {},
     "output_type": "execute_result"
    }
   ],
   "source": [
    "len('별헤는밤윤동주종두지석영33인손병희')"
   ]
  },
  {
   "cell_type": "code",
   "execution_count": 495,
   "metadata": {},
   "outputs": [],
   "source": [
    "s = '별헤는밤윤동주종두지석영33인손병희만세만세유관순'"
   ]
  },
  {
   "cell_type": "code",
   "execution_count": 496,
   "metadata": {},
   "outputs": [
    {
     "data": {
      "text/plain": [
       "'만세만세유관순'"
      ]
     },
     "execution_count": 496,
     "metadata": {},
     "output_type": "execute_result"
    }
   ],
   "source": [
    "s[18:]"
   ]
  },
  {
   "cell_type": "code",
   "execution_count": 499,
   "metadata": {},
   "outputs": [],
   "source": [
    "result_list.append(similarity4(script, s[18:]))"
   ]
  },
  {
   "cell_type": "code",
   "execution_count": 500,
   "metadata": {},
   "outputs": [
    {
     "name": "stdout",
     "output_type": "stream",
     "text": [
      "[0.0, 0.0, 0.0, 0.0, 0.0, 0.14285714285714285, 0.0, 0.0, 0.0, 0.11764705882352941, 0.0]\n",
      "[0.0, 0.0, 0.0, 0.0, 0.0, 0.4, 0.0, 0.0, 0.0, 0.0, 0.0]\n",
      "[0.0, 0.0, 0.0, 0.0, 0.0, 0.5, 0.0, 0.0, 0.0, 0.0, 0.0]\n",
      "[0.0, 0.0, 0.0, 0.0, 0.0, 0.7368421052631579, 0.0, 0.0, 0.0, 0.0, 0.0]\n",
      "[0.0, 0.0, 0.0, 0.0, 0.0, 0.7, 0.0, 0.0, 0.0, 0.0, 0.0]\n",
      "[0.0, 0.09523809523809523, 0.0, 0.0, 0.0, 0.8571428571428571, 0.0, 0.0, 0.0, 0.08333333333333333, 0.0]\n",
      "[0.0, 0.0, 0.0, 0.0, 0.0, 0.7368421052631579, 0.0, 0.0, 0.0, 0.0, 0.0]\n",
      "[0.0, 0.0, 0.0, 0.0, 0.0, 0.7368421052631579, 0.0, 0.0, 0.0, 0.0, 0.0]\n",
      "[0.0, 0.09523809523809523, 0.0, 0.0, 0.0, 0.8571428571428571, 0.0, 0.0, 0.0, 0.08333333333333333, 0.0]\n",
      "[0.0, 0.08333333333333333, 0.0, 0.0, 0.0, 1.0, 0.0, 0.0, 0.0, 0.07407407407407407, 0.0]\n",
      "[0.0, 0.08333333333333333, 0.0, 0.0, 0.0, 1.0, 0.0, 0.0, 0.0, 0.07407407407407407, 0.0]\n",
      "[0.0, 0.07407407407407407, 0.0, 0.0, 0.0, 0.8888888888888888, 0.09090909090909091, 0.0, 0.0, 0.06666666666666667, 0.0]\n",
      "[0.0, 0.07407407407407407, 0.0, 0.0, 0.0, 0.8888888888888888, 0.09090909090909091, 0.0, 0.0, 0.06666666666666667, 0.0]\n",
      "[0.0, 0.06666666666666667, 0.0, 0.0, 0.0, 0.8, 0.32, 0.0, 0.0, 0.06060606060606061, 0.0]\n",
      "[0.0, 0.0, 0.0, 0.0, 0.0, 0.0, 0.6, 0.0, 0.0, 0.0, 0.0]\n",
      "[0.0, 0.0, 0.0, 0.0, 0.0, 0.0, 0.6, 0.0, 0.0, 0.0, 0.0]\n",
      "[0.0, 0.0, 0.0, 0.0, 0.0, 0.0, 0.42857142857142855, 0.42105263157894735, 0.0, 0.0, 0.0]\n",
      "[0.0, 0.10526315789473684, 0.0, 0.0, 0.0, 0.0, 0.0, 0.7368421052631579, 0.0, 0.09090909090909091, 0.0]\n",
      "[0.0, 0.10526315789473684, 0.0, 0.0, 0.0, 0.0, 0.0, 0.7368421052631579, 0.0, 0.09090909090909091, 0.0]\n"
     ]
    }
   ],
   "source": [
    "for i in result_list:\n",
    "    print(i)"
   ]
  },
  {
   "cell_type": "code",
   "execution_count": 502,
   "metadata": {},
   "outputs": [
    {
     "data": {
      "image/png": "[encoded data removed]",
      "text/plain": [
       "<Figure size 432x288 with 1 Axes>"
      ]
     },
     "metadata": {
      "needs_background": "light"
     },
     "output_type": "display_data"
    }
   ],
   "source": [
    "plt.clf()\n",
    "plt.plot(result_list)\n",
    "# plt.axvline(x=10, color='r', linewidth=1)\n",
    "# plt.axvline(x=15, color='r', linewidth=1)\n",
    "plt.legend(['0', '1', '2', '3', '4', '5', '6', '7', '8', '9', '10'], bbox_to_anchor=(1, 1))\n",
    "plt.savefig('similarity_graph/목표.png')"
   ]
  },
  {
   "cell_type": "code",
   "execution_count": null,
   "metadata": {},
   "outputs": [],
   "source": [
    " 그거\n",
    " 그건\n",
    " 그건 오이가\n",
    " 그건\n",
    " 그건\n",
    " 그건\n",
    " 그건\n",
    " 그건\n",
    " 그건\n",
    " 그건 오이가 아니라\n",
    " 그건 오이가 아니라\n",
    " 그건 오이가 아니라\n",
    " 그건 오이가 아니라\n",
    " 그건 오이가 아니라 실수였어요\n",
    " 그건 오이가 아니라 실수였어요\n",
    " 그건 오이가 아니라 실수였어요\n",
    " 그건 오이가 아니라 실수였어요 변태인 줄"
   ]
  },
  {
   "cell_type": "code",
   "execution_count": 74,
   "metadata": {},
   "outputs": [
    {
     "data": {
      "image/png": "[encoded data removed]",
      "text/plain": [
       "<Figure size 432x288 with 1 Axes>"
      ]
     },
     "metadata": {
      "needs_background": "light"
     },
     "output_type": "display_data"
    }
   ],
   "source": [
    "plt.clf()\n",
    "plt.plot(b)\n",
    "plt.legend(['0', '1', '2', '3', '4', '5', '6', '7', '8', '9', '10'], bbox_to_anchor=(1, 1))\n",
    "plt.savefig('similarity_graph/그건 고의.png')"
   ]
  },
  {
   "cell_type": "code",
   "execution_count": 330,
   "metadata": {},
   "outputs": [
    {
     "data": {
      "text/plain": [
       "'그건그쪽이막무가내로'"
      ]
     },
     "execution_count": 330,
     "metadata": {},
     "output_type": "execute_result"
    }
   ],
   "source": [
    "script[7]"
   ]
  },
  {
   "cell_type": "code",
   "execution_count": 29,
   "metadata": {},
   "outputs": [],
   "source": [
    "a = result_list"
   ]
  },
  {
   "cell_type": "code",
   "execution_count": 406,
   "metadata": {},
   "outputs": [
    {
     "data": {
      "text/plain": [
       "19"
      ]
     },
     "execution_count": 406,
     "metadata": {},
     "output_type": "execute_result"
    }
   ],
   "source": [
    "a[1][0]-a[0][0]\n",
    "len(a)"
   ]
  },
  {
   "cell_type": "code",
   "execution_count": 539,
   "metadata": {},
   "outputs": [],
   "source": [
    "inside = []\n",
    "outside = []\n",
    "for i in range(len(a)-1):\n",
    "    inside = []\n",
    "    for k in range(10):\n",
    "        inside.append((a[i+1][k]-a[i][k])**2)\n",
    "    outside.append(inside)"
   ]
  },
  {
   "cell_type": "code",
   "execution_count": 295,
   "metadata": {},
   "outputs": [
    {
     "data": {
      "text/plain": [
       "<matplotlib.legend.Legend at 0x1af8f5951f0>"
      ]
     },
     "execution_count": 295,
     "metadata": {},
     "output_type": "execute_result"
    },
    {
     "data": {
      "image/png": "[encoded data removed]",
      "text/plain": [
       "<Figure size 432x288 with 1 Axes>"
      ]
     },
     "metadata": {
      "needs_background": "light"
     },
     "output_type": "display_data"
    }
   ],
   "source": [
    "plt.clf()\n",
    "plt.plot(result_list)\n",
    "# plt.axvline(x=10, color='r', linewidth=1)\n",
    "# plt.axvline(x=15, color='r', linewidth=1)\n",
    "plt.legend(['0', '1', '2', '3', '4', '5', '6', '7', '8', '9', '10'], bbox_to_anchor=(1, 1))"
   ]
  },
  {
   "cell_type": "code",
   "execution_count": 457,
   "metadata": {},
   "outputs": [
    {
     "name": "stdout",
     "output_type": "stream",
     "text": [
      "5 0.2571428571428572\n",
      "5 0.09999999999999998\n",
      "5 0.23684210526315785\n",
      "0 0.0\n",
      "5 0.15714285714285714\n",
      "0 0.0\n",
      "0 0.0\n",
      "5 0.12030075187969924\n",
      "5 0.1428571428571429\n",
      "0 0.0\n",
      "6 0.09090909090909091\n",
      "0 0.0\n",
      "6 0.2290909090909091\n",
      "0 0.0\n",
      "0 0.0\n",
      "7 0.23529411764705882\n",
      "7 0.14308426073131958\n",
      "0 0.0\n"
     ]
    }
   ],
   "source": [
    "for i in outside:\n",
    "    print(np.argmax(i), i[np.argmax(i)])\n",
    "    "
   ]
  },
  {
   "cell_type": "code",
   "execution_count": 18,
   "metadata": {},
   "outputs": [
    {
     "data": {
      "text/plain": [
       "[<matplotlib.lines.Line2D at 0x13ca1d0eca0>,\n",
       " <matplotlib.lines.Line2D at 0x13ca1b84b80>,\n",
       " <matplotlib.lines.Line2D at 0x13ca1b84700>,\n",
       " <matplotlib.lines.Line2D at 0x13ca1bf7100>,\n",
       " <matplotlib.lines.Line2D at 0x13ca1d52d90>,\n",
       " <matplotlib.lines.Line2D at 0x13ca1c95e20>,\n",
       " <matplotlib.lines.Line2D at 0x13ca1c95d90>,\n",
       " <matplotlib.lines.Line2D at 0x13ca1c958b0>,\n",
       " <matplotlib.lines.Line2D at 0x13ca1c95040>,\n",
       " <matplotlib.lines.Line2D at 0x13ca1c95100>,\n",
       " <matplotlib.lines.Line2D at 0x13ca1c954f0>]"
      ]
     },
     "execution_count": 18,
     "metadata": {},
     "output_type": "execute_result"
    },
    {
     "data": {
      "image/png": "[encoded data removed]",
      "text/plain": [
       "<Figure size 432x288 with 1 Axes>"
      ]
     },
     "metadata": {
      "needs_background": "light"
     },
     "output_type": "display_data"
    }
   ],
   "source": [
    "plt.clf()\n",
    "plt.plot(a)\n",
    "# plt.axvline(x=10, color='r', linewidth=1)\n",
    "# plt.axvline(x=15, color='r', linewidth=1)\n",
    "# plt.legend(['0', '1', '2', '3', '4', '5', '6', '7', '8', '9', '10'], bbox_to_anchor=(1, 1))"
   ]
  },
  {
   "cell_type": "code",
   "execution_count": null,
   "metadata": {},
   "outputs": [],
   "source": []
  },
  {
   "cell_type": "code",
   "execution_count": 34,
   "metadata": {},
   "outputs": [],
   "source": [
    "outsie = []\n",
    "outside.append(a[0])"
   ]
  },
  {
   "cell_type": "code",
   "execution_count": 36,
   "metadata": {},
   "outputs": [],
   "source": [
    "x = a[0]"
   ]
  },
  {
   "cell_type": "code",
   "execution_count": 40,
   "metadata": {},
   "outputs": [
    {
     "data": {
      "text/plain": [
       "<matplotlib.legend.Legend at 0x1c6b7e94cd0>"
      ]
     },
     "execution_count": 40,
     "metadata": {},
     "output_type": "execute_result"
    },
    {
     "data": {
      "image/png": "[encoded data removed]",
      "text/plain": [
       "<Figure size 432x288 with 1 Axes>"
      ]
     },
     "metadata": {
      "needs_background": "light"
     },
     "output_type": "display_data"
    }
   ],
   "source": [
    "inside = []\n",
    "outside = []\n",
    "for i in range(len(a)-1):\n",
    "    inside = []\n",
    "    for k in range(10):\n",
    "        inside.append(x[k]+a[i][k])\n",
    "    outside.append(inside)\n",
    "    x = inside\n",
    "\n",
    "plt.clf()\n",
    "plt.plot(outside)\n",
    "plt.axvline(x=10, color='r', linewidth=1)\n",
    "plt.axvline(x=15, color='r', linewidth=1)\n",
    "plt.legend(['0', '1', '2', '3', '4', '5', '6', '7', '8', '9', '10'], bbox_to_anchor=(1, 1))"
   ]
  },
  {
   "cell_type": "code",
   "execution_count": null,
   "metadata": {},
   "outputs": [],
   "source": [
    "아 오늘 점심메뉴 정말 괜찮더라구요 그쵸?\n",
    "아 근데 연극부원들때문에 많이 당황스러우셨죠 그래도 다 하나같이 좋은 사람들이라고 그거 꼭 말씀드리고 싶었습니다. 안녕히계세요 아 맞다 이걸 깜빡했네\n",
    "이거 하루에 3개는 드셔야 된대요 하루 성인 여자의 기준으로 비타민 권장 섭취량이 75mg이래요 그럼 안녕히계세요 오시면 비타민 많이 드실 수 있을거예요 수고하세요\n",
    "\n",
    "\n",
    "Transcript: 설란 씨 저는 여기가 제일 싸 서요\n",
    "Transcript:  아 오늘 점심에는 정말 괜찮더라고요 그죠\n",
    "Transcript:  아 맞다 깜빡했네 세계를 주셔야 되는데요"
   ]
  },
  {
   "cell_type": "code",
   "execution_count": 29,
   "metadata": {},
   "outputs": [
    {
     "data": {
      "text/plain": [
       "1.0"
      ]
     },
     "execution_count": 29,
     "metadata": {},
     "output_type": "execute_result"
    }
   ],
   "source": [
    "SequenceMatcher(None, '', '').ratio()"
   ]
  },
  {
   "cell_type": "code",
   "execution_count": 26,
   "metadata": {},
   "outputs": [
    {
     "data": {
      "text/plain": [
       "False"
      ]
     },
     "execution_count": 26,
     "metadata": {},
     "output_type": "execute_result"
    }
   ],
   "source": [
    "3<3"
   ]
  },
  {
   "cell_type": "code",
   "execution_count": 71,
   "metadata": {},
   "outputs": [
    {
     "name": "stdout",
     "output_type": "stream",
     "text": [
      "7\n",
      "7\n",
      "7\n",
      "7\n",
      "7\n",
      "7\n",
      "7\n",
      "7\n",
      "7\n",
      "5\n",
      "5\n",
      "5\n",
      "5\n",
      "5\n",
      "5\n",
      "5\n",
      "5\n"
     ]
    }
   ],
   "source": [
    "for i in b:\n",
    "    print(np.argmax(i))"
   ]
  },
  {
   "cell_type": "code",
   "execution_count": 78,
   "metadata": {},
   "outputs": [
    {
     "data": {
      "text/plain": [
       "17"
      ]
     },
     "execution_count": 78,
     "metadata": {},
     "output_type": "execute_result"
    }
   ],
   "source": [
    "len(b)"
   ]
  },
  {
   "cell_type": "code",
   "execution_count": 120,
   "metadata": {},
   "outputs": [
    {
     "name": "stdout",
     "output_type": "stream",
     "text": [
      "없음\n",
      "없음\n",
      "5\n",
      "5\n",
      "5\n",
      "5\n",
      "5\n",
      "5\n",
      "5\n",
      "5\n",
      "5\n",
      "5\n",
      "5\n",
      "6\n",
      "6\n",
      "6\n",
      "7\n",
      "7\n",
      "7\n"
     ]
    }
   ],
   "source": [
    "NEXT_STEP = False\n",
    "# present = np.argmax(b[0])\n",
    "# present_ratio = b[0][present]\n",
    "for i in a:\n",
    "    if(np.max(i) > 0.4):\n",
    "        if(not NEXT_STEP) : \n",
    "            present = np.argmax(i)\n",
    "            present_ratio = i[present]\n",
    "        next = present+1\n",
    "        if(next == 11):\n",
    "            next = next-1\n",
    "\n",
    "        if(i[present]<i[next]*3):\n",
    "            #print(\"들어왔다\")\n",
    "            present = next\n",
    "            present_ratio = i[present]\n",
    "            NEXT_STEP = True\n",
    "        print(present)\n",
    "    else:\n",
    "        print(\"없음\")"
   ]
  },
  {
   "cell_type": "code",
   "execution_count": 121,
   "metadata": {},
   "outputs": [
    {
     "name": "stdout",
     "output_type": "stream",
     "text": [
      "9\n",
      "5\n",
      "1\n",
      "5\n",
      "9\n",
      "1\n",
      "9\n",
      "1\n",
      "5\n",
      "9\n",
      "1\n",
      "5\n",
      "9\n",
      "1\n",
      "5\n",
      "6\n",
      "9\n",
      "5\n",
      "6\n",
      "9\n"
     ]
    }
   ],
   "source": [
    "for i in range(len(a)-1):\n",
    "    for k in range(10):\n",
    "        if(a[i][])\n",
    "        if((a[i+1][k]-a[i][k])<0):\n",
    "            print(k)"
   ]
  },
  {
   "cell_type": "code",
   "execution_count": 112,
   "metadata": {},
   "outputs": [
    {
     "data": {
      "text/plain": [
       "0.16666666666666666"
      ]
     },
     "execution_count": 112,
     "metadata": {},
     "output_type": "execute_result"
    }
   ],
   "source": [
    "present_ratio"
   ]
  },
  {
   "cell_type": "code",
   "execution_count": 3,
   "metadata": {},
   "outputs": [
    {
     "name": "stdout",
     "output_type": "stream",
     "text": [
      "[0.0, 0.0, 0.0, 0.0, 0.0, 0.14285714285714285, 0.0, 0.0, 0.0, 0.11764705882352941, 0.0]\n",
      "[0.0, 0.0, 0.0, 0.0, 0.0, 0.4, 0.0, 0.0, 0.0, 0.0, 0.0]\n",
      "[0.0, 0.0, 0.0, 0.0, 0.0, 0.5, 0.0, 0.0, 0.0, 0.0, 0.0]\n",
      "[0.0, 0.0, 0.0, 0.0, 0.0, 0.7368421052631579, 0.0, 0.0, 0.0, 0.0, 0.0]\n",
      "[0.0, 0.0, 0.0, 0.0, 0.0, 0.7, 0.0, 0.0, 0.0, 0.0, 0.0]\n",
      "[0.0, 0.09523809523809523, 0.0, 0.0, 0.0, 0.8571428571428571, 0.0, 0.0, 0.0, 0.08333333333333333, 0.0]\n",
      "[0.0, 0.0, 0.0, 0.0, 0.0, 0.7368421052631579, 0.0, 0.0, 0.0, 0.0, 0.0]\n",
      "[0.0, 0.0, 0.0, 0.0, 0.0, 0.7368421052631579, 0.0, 0.0, 0.0, 0.0, 0.0]\n",
      "[0.0, 0.09523809523809523, 0.0, 0.0, 0.0, 0.8571428571428571, 0.0, 0.0, 0.0, 0.08333333333333333, 0.0]\n",
      "[0.0, 0.08333333333333333, 0.0, 0.0, 0.0, 1.0, 0.0, 0.0, 0.0, 0.07407407407407407, 0.0]\n",
      "[0.0, 0.08333333333333333, 0.0, 0.0, 0.0, 1.0, 0.0, 0.0, 0.0, 0.07407407407407407, 0.0]\n",
      "[0.0, 0.07407407407407407, 0.0, 0.0, 0.0, 0.8888888888888888, 0.09090909090909091, 0.0, 0.0, 0.06666666666666667, 0.0]\n",
      "[0.0, 0.07407407407407407, 0.0, 0.0, 0.0, 0.8888888888888888, 0.09090909090909091, 0.0, 0.0, 0.06666666666666667, 0.0]\n",
      "[0.0, 0.06666666666666667, 0.0, 0.0, 0.0, 0.8, 0.32, 0.0, 0.0, 0.06060606060606061, 0.0]\n",
      "[0.0, 0.06666666666666667, 0.0, 0.0, 0.0, 0.8, 0.32, 0.0, 0.0, 0.06060606060606061, 0.0]\n",
      "[0.0, 0.06666666666666667, 0.0, 0.0, 0.0, 0.8, 0.32, 0.0, 0.0, 0.06060606060606061, 0.0]\n",
      "[0.0, 0.058823529411764705, 0.0, 0.0, 0.0, 0.7058823529411765, 0.27586206896551724, 0.23529411764705882, 0.0, 0.05405405405405406, 0.0]\n",
      "[0.0, 0.10810810810810811, 0.0, 0.0, 0.0, 0.6486486486486487, 0.25, 0.3783783783783784, 0.0, 0.05, 0.0]\n",
      "[0.0, 0.10810810810810811, 0.0, 0.0, 0.0, 0.6486486486486487, 0.25, 0.3783783783783784, 0.0, 0.05, 0.0]\n"
     ]
    }
   ],
   "source": [
    "for i in a:\n",
    "    print(i)"
   ]
  },
  {
   "cell_type": "code",
   "execution_count": 2,
   "metadata": {
    "scrolled": true
   },
   "outputs": [],
   "source": [
    "a = [[0.0,\n",
    "  0.0,\n",
    "  0.0,\n",
    "  0.0,\n",
    "  0.0,\n",
    "  0.14285714285714285,\n",
    "  0.0,\n",
    "  0.0,\n",
    "  0.0,\n",
    "  0.11764705882352941,\n",
    "  0.0],\n",
    " [0.0, 0.0, 0.0, 0.0, 0.0, 0.4, 0.0, 0.0, 0.0, 0.0, 0.0],\n",
    " [0.0, 0.0, 0.0, 0.0, 0.0, 0.5, 0.0, 0.0, 0.0, 0.0, 0.0],\n",
    " [0.0, 0.0, 0.0, 0.0, 0.0, 0.7368421052631579, 0.0, 0.0, 0.0, 0.0, 0.0],\n",
    " [0.0, 0.0, 0.0, 0.0, 0.0, 0.7, 0.0, 0.0, 0.0, 0.0, 0.0],\n",
    " [0.0,\n",
    "  0.09523809523809523,\n",
    "  0.0,\n",
    "  0.0,\n",
    "  0.0,\n",
    "  0.8571428571428571,\n",
    "  0.0,\n",
    "  0.0,\n",
    "  0.0,\n",
    "  0.08333333333333333,\n",
    "  0.0],\n",
    " [0.0, 0.0, 0.0, 0.0, 0.0, 0.7368421052631579, 0.0, 0.0, 0.0, 0.0, 0.0],\n",
    " [0.0, 0.0, 0.0, 0.0, 0.0, 0.7368421052631579, 0.0, 0.0, 0.0, 0.0, 0.0],\n",
    " [0.0,\n",
    "  0.09523809523809523,\n",
    "  0.0,\n",
    "  0.0,\n",
    "  0.0,\n",
    "  0.8571428571428571,\n",
    "  0.0,\n",
    "  0.0,\n",
    "  0.0,\n",
    "  0.08333333333333333,\n",
    "  0.0],\n",
    " [0.0,\n",
    "  0.08333333333333333,\n",
    "  0.0,\n",
    "  0.0,\n",
    "  0.0,\n",
    "  1.0,\n",
    "  0.0,\n",
    "  0.0,\n",
    "  0.0,\n",
    "  0.07407407407407407,\n",
    "  0.0],\n",
    " [0.0,\n",
    "  0.08333333333333333,\n",
    "  0.0,\n",
    "  0.0,\n",
    "  0.0,\n",
    "  1.0,\n",
    "  0.0,\n",
    "  0.0,\n",
    "  0.0,\n",
    "  0.07407407407407407,\n",
    "  0.0],\n",
    " [0.0,\n",
    "  0.07407407407407407,\n",
    "  0.0,\n",
    "  0.0,\n",
    "  0.0,\n",
    "  0.8888888888888888,\n",
    "  0.09090909090909091,\n",
    "  0.0,\n",
    "  0.0,\n",
    "  0.06666666666666667,\n",
    "  0.0],\n",
    " [0.0,\n",
    "  0.07407407407407407,\n",
    "  0.0,\n",
    "  0.0,\n",
    "  0.0,\n",
    "  0.8888888888888888,\n",
    "  0.09090909090909091,\n",
    "  0.0,\n",
    "  0.0,\n",
    "  0.06666666666666667,\n",
    "  0.0],\n",
    " [0.0,\n",
    "  0.06666666666666667,\n",
    "  0.0,\n",
    "  0.0,\n",
    "  0.0,\n",
    "  0.8,\n",
    "  0.32,\n",
    "  0.0,\n",
    "  0.0,\n",
    "  0.06060606060606061,\n",
    "  0.0],\n",
    " [0.0,\n",
    "  0.06666666666666667,\n",
    "  0.0,\n",
    "  0.0,\n",
    "  0.0,\n",
    "  0.8,\n",
    "  0.32,\n",
    "  0.0,\n",
    "  0.0,\n",
    "  0.06060606060606061,\n",
    "  0.0],\n",
    " [0.0,\n",
    "  0.06666666666666667,\n",
    "  0.0,\n",
    "  0.0,\n",
    "  0.0,\n",
    "  0.8,\n",
    "  0.32,\n",
    "  0.0,\n",
    "  0.0,\n",
    "  0.06060606060606061,\n",
    "  0.0],\n",
    " [0.0,\n",
    "  0.058823529411764705,\n",
    "  0.0,\n",
    "  0.0,\n",
    "  0.0,\n",
    "  0.7058823529411765,\n",
    "  0.27586206896551724,\n",
    "  0.23529411764705882,\n",
    "  0.0,\n",
    "  0.05405405405405406,\n",
    "  0.0],\n",
    " [0.0,\n",
    "  0.10810810810810811,\n",
    "  0.0,\n",
    "  0.0,\n",
    "  0.0,\n",
    "  0.6486486486486487,\n",
    "  0.25,\n",
    "  0.3783783783783784,\n",
    "  0.0,\n",
    "  0.05,\n",
    "  0.0],\n",
    " [0.0,\n",
    "  0.10810810810810811,\n",
    "  0.0,\n",
    "  0.0,\n",
    "  0.0,\n",
    "  0.6486486486486487,\n",
    "  0.25,\n",
    "  0.3783783783783784,\n",
    "  0.0,\n",
    "  0.05,\n",
    "  0.0]]#그건 고의#별헤는 밤"
   ]
  },
  {
   "cell_type": "code",
   "execution_count": 70,
   "metadata": {},
   "outputs": [
    {
     "data": {
      "text/plain": [
       "[[0.0,\n",
       "  0.0,\n",
       "  0.0,\n",
       "  0.0,\n",
       "  0.0,\n",
       "  0.10526315789473684,\n",
       "  0.0,\n",
       "  0.16666666666666666,\n",
       "  0.1111111111111111,\n",
       "  0.0,\n",
       "  0.0],\n",
       " [0.0,\n",
       "  0.0,\n",
       "  0.0,\n",
       "  0.0,\n",
       "  0.0,\n",
       "  0.21052631578947367,\n",
       "  0.0,\n",
       "  0.3333333333333333,\n",
       "  0.1111111111111111,\n",
       "  0.0,\n",
       "  0.0],\n",
       " [0.0,\n",
       "  0.10526315789473684,\n",
       "  0.0,\n",
       "  0.1,\n",
       "  0.13333333333333333,\n",
       "  0.2727272727272727,\n",
       "  0.06666666666666667,\n",
       "  0.5333333333333333,\n",
       "  0.09523809523809523,\n",
       "  0.0,\n",
       "  0.11428571428571428],\n",
       " [0.0,\n",
       "  0.0,\n",
       "  0.0,\n",
       "  0.0,\n",
       "  0.0,\n",
       "  0.21052631578947367,\n",
       "  0.0,\n",
       "  0.3333333333333333,\n",
       "  0.1111111111111111,\n",
       "  0.0,\n",
       "  0.0],\n",
       " [0.0,\n",
       "  0.0,\n",
       "  0.0,\n",
       "  0.0,\n",
       "  0.0,\n",
       "  0.21052631578947367,\n",
       "  0.0,\n",
       "  0.3333333333333333,\n",
       "  0.1111111111111111,\n",
       "  0.0,\n",
       "  0.0],\n",
       " [0.0,\n",
       "  0.0,\n",
       "  0.0,\n",
       "  0.0,\n",
       "  0.0,\n",
       "  0.21052631578947367,\n",
       "  0.0,\n",
       "  0.3333333333333333,\n",
       "  0.1111111111111111,\n",
       "  0.0,\n",
       "  0.0],\n",
       " [0.0,\n",
       "  0.0,\n",
       "  0.0,\n",
       "  0.0,\n",
       "  0.0,\n",
       "  0.21052631578947367,\n",
       "  0.0,\n",
       "  0.3333333333333333,\n",
       "  0.1111111111111111,\n",
       "  0.0,\n",
       "  0.0],\n",
       " [0.0,\n",
       "  0.0,\n",
       "  0.0,\n",
       "  0.0,\n",
       "  0.0,\n",
       "  0.21052631578947367,\n",
       "  0.0,\n",
       "  0.3333333333333333,\n",
       "  0.1111111111111111,\n",
       "  0.0,\n",
       "  0.0],\n",
       " [0.0,\n",
       "  0.0,\n",
       "  0.0,\n",
       "  0.0,\n",
       "  0.0,\n",
       "  0.21052631578947367,\n",
       "  0.0,\n",
       "  0.3333333333333333,\n",
       "  0.1111111111111111,\n",
       "  0.0,\n",
       "  0.0],\n",
       " [0.1,\n",
       "  0.09090909090909091,\n",
       "  0.0,\n",
       "  0.17391304347826086,\n",
       "  0.1111111111111111,\n",
       "  0.48,\n",
       "  0.06060606060606061,\n",
       "  0.4444444444444444,\n",
       "  0.16666666666666666,\n",
       "  0.0,\n",
       "  0.10526315789473684],\n",
       " [0.1,\n",
       "  0.09090909090909091,\n",
       "  0.0,\n",
       "  0.17391304347826086,\n",
       "  0.1111111111111111,\n",
       "  0.48,\n",
       "  0.06060606060606061,\n",
       "  0.4444444444444444,\n",
       "  0.16666666666666666,\n",
       "  0.0,\n",
       "  0.10526315789473684],\n",
       " [0.1,\n",
       "  0.09090909090909091,\n",
       "  0.0,\n",
       "  0.17391304347826086,\n",
       "  0.1111111111111111,\n",
       "  0.48,\n",
       "  0.06060606060606061,\n",
       "  0.4444444444444444,\n",
       "  0.16666666666666666,\n",
       "  0.0,\n",
       "  0.10526315789473684],\n",
       " [0.1,\n",
       "  0.09090909090909091,\n",
       "  0.0,\n",
       "  0.17391304347826086,\n",
       "  0.1111111111111111,\n",
       "  0.48,\n",
       "  0.06060606060606061,\n",
       "  0.4444444444444444,\n",
       "  0.16666666666666666,\n",
       "  0.0,\n",
       "  0.10526315789473684],\n",
       " [0.08,\n",
       "  0.14814814814814814,\n",
       "  0.08,\n",
       "  0.21428571428571427,\n",
       "  0.08695652173913043,\n",
       "  0.7333333333333333,\n",
       "  0.10526315789473684,\n",
       "  0.34782608695652173,\n",
       "  0.13793103448275862,\n",
       "  0.12121212121212122,\n",
       "  0.09302325581395349],\n",
       " [0.08,\n",
       "  0.14814814814814814,\n",
       "  0.08,\n",
       "  0.21428571428571427,\n",
       "  0.08695652173913043,\n",
       "  0.7333333333333333,\n",
       "  0.10526315789473684,\n",
       "  0.34782608695652173,\n",
       "  0.13793103448275862,\n",
       "  0.12121212121212122,\n",
       "  0.09302325581395349],\n",
       " [0.08,\n",
       "  0.14814814814814814,\n",
       "  0.08,\n",
       "  0.21428571428571427,\n",
       "  0.08695652173913043,\n",
       "  0.7333333333333333,\n",
       "  0.10526315789473684,\n",
       "  0.34782608695652173,\n",
       "  0.13793103448275862,\n",
       "  0.12121212121212122,\n",
       "  0.09302325581395349],\n",
       " [0.06896551724137931,\n",
       "  0.12903225806451613,\n",
       "  0.13793103448275862,\n",
       "  0.1875,\n",
       "  0.07407407407407407,\n",
       "  0.8823529411764706,\n",
       "  0.09523809523809523,\n",
       "  0.2962962962962963,\n",
       "  0.12121212121212122,\n",
       "  0.10810810810810811,\n",
       "  0.0851063829787234]]"
      ]
     },
     "execution_count": 70,
     "metadata": {},
     "output_type": "execute_result"
    }
   ],
   "source": [
    "b#그건 고의"
   ]
  },
  {
   "cell_type": "code",
   "execution_count": 128,
   "metadata": {},
   "outputs": [],
   "source": [
    "with open('ratio.txt', 'a') as f:\n",
    "    f.writelines(\"\\n\")\n",
    "    for line in a:\n",
    "        f.writelines(str(line)+'\\n')"
   ]
  },
  {
   "cell_type": "code",
   "execution_count": 125,
   "metadata": {},
   "outputs": [
    {
     "name": "stdout",
     "output_type": "stream",
     "text": [
      "[0.0, 0.0, 0.0, 0.0, 0.0, 0.14285714285714285, 0.0, 0.0, 0.0, 0.11764705882352941, 0.0]\n",
      "[0.0, 0.0, 0.0, 0.0, 0.0, 0.4, 0.0, 0.0, 0.0, 0.0, 0.0]\n",
      "[0.0, 0.0, 0.0, 0.0, 0.0, 0.5, 0.0, 0.0, 0.0, 0.0, 0.0]\n",
      "[0.0, 0.0, 0.0, 0.0, 0.0, 0.7368421052631579, 0.0, 0.0, 0.0, 0.0, 0.0]\n",
      "[0.0, 0.0, 0.0, 0.0, 0.0, 0.7, 0.0, 0.0, 0.0, 0.0, 0.0]\n",
      "[0.0, 0.09523809523809523, 0.0, 0.0, 0.0, 0.8571428571428571, 0.0, 0.0, 0.0, 0.08333333333333333, 0.0]\n",
      "[0.0, 0.0, 0.0, 0.0, 0.0, 0.7368421052631579, 0.0, 0.0, 0.0, 0.0, 0.0]\n",
      "[0.0, 0.0, 0.0, 0.0, 0.0, 0.7368421052631579, 0.0, 0.0, 0.0, 0.0, 0.0]\n",
      "[0.0, 0.09523809523809523, 0.0, 0.0, 0.0, 0.8571428571428571, 0.0, 0.0, 0.0, 0.08333333333333333, 0.0]\n",
      "[0.0, 0.08333333333333333, 0.0, 0.0, 0.0, 1.0, 0.0, 0.0, 0.0, 0.07407407407407407, 0.0]\n",
      "[0.0, 0.08333333333333333, 0.0, 0.0, 0.0, 1.0, 0.0, 0.0, 0.0, 0.07407407407407407, 0.0]\n",
      "[0.0, 0.07407407407407407, 0.0, 0.0, 0.0, 0.8888888888888888, 0.09090909090909091, 0.0, 0.0, 0.06666666666666667, 0.0]\n",
      "[0.0, 0.07407407407407407, 0.0, 0.0, 0.0, 0.8888888888888888, 0.09090909090909091, 0.0, 0.0, 0.06666666666666667, 0.0]\n",
      "[0.0, 0.06666666666666667, 0.0, 0.0, 0.0, 0.8, 0.32, 0.0, 0.0, 0.06060606060606061, 0.0]\n",
      "[0.0, 0.06666666666666667, 0.0, 0.0, 0.0, 0.8, 0.32, 0.0, 0.0, 0.06060606060606061, 0.0]\n",
      "[0.0, 0.06666666666666667, 0.0, 0.0, 0.0, 0.8, 0.32, 0.0, 0.0, 0.06060606060606061, 0.0]\n",
      "[0.0, 0.058823529411764705, 0.0, 0.0, 0.0, 0.7058823529411765, 0.27586206896551724, 0.23529411764705882, 0.0, 0.05405405405405406, 0.0]\n",
      "[0.0, 0.10810810810810811, 0.0, 0.0, 0.0, 0.6486486486486487, 0.25, 0.3783783783783784, 0.0, 0.05, 0.0]\n",
      "[0.0, 0.10810810810810811, 0.0, 0.0, 0.0, 0.6486486486486487, 0.25, 0.3783783783783784, 0.0, 0.05, 0.0]\n"
     ]
    }
   ],
   "source": [
    "for i in a:\n",
    "    print(str(i))"
   ]
  },
  {
   "cell_type": "code",
   "execution_count": 133,
   "metadata": {},
   "outputs": [],
   "source": [
    "streamingLimit = 5\n",
    "def startStream() :\n",
    "    print(\"h\")\n",
    "#     //restarting stream every 3.5 mins for infinite streaming\n",
    "    timeout = setTimeout(restartStream, streamingLimit)"
   ]
  },
  {
   "cell_type": "code",
   "execution_count": null,
   "metadata": {},
   "outputs": [],
   "source": [
    "import threading\n",
    "\n",
    "class AsyncTask:\n",
    "    def __init__(self):\n",
    "        pass\n",
    "\n",
    "    def TaskA(self):\n",
    "        print ('Process A')\n",
    "        threading.Timer(1,self.TaskA).start()\n",
    "\n",
    "    def TaskB(self):\n",
    "        print ('Process B')\n",
    "        threading.Timer(3, self.TaskB).start()\n",
    "\n",
    "print ('Async Function')\n",
    "at = AsyncTask()\n",
    "at.TaskA()\n",
    "at.TaskB()\n"
   ]
  },
  {
   "cell_type": "code",
   "execution_count": 150,
   "metadata": {},
   "outputs": [],
   "source": [
    "def similarity3(script, present_sentence):\n",
    "    ratio = []\n",
    "    present_sentence = present_sentence.replace(\" \", \"\")\n",
    "#     print(present_sentence)\n",
    "    for i in script:\n",
    "        ratio.append(SequenceMatcher(None, present_sentence, i).ratio())\n",
    "#     print(\"similarity3\",ratio)\n",
    "    return ratio\n",
    "\n",
    "def similarity4(compare_list):\n",
    "    print(compare_list)"
   ]
  },
  {
   "cell_type": "code",
   "execution_count": 265,
   "metadata": {},
   "outputs": [],
   "source": [
    "with open('conti_script_compare.txt', 'r') as f:\n",
    "    data = f.read()\n",
    "script_data = data.splitlines()"
   ]
  },
  {
   "cell_type": "code",
   "execution_count": 267,
   "metadata": {},
   "outputs": [
    {
     "name": "stdout",
     "output_type": "stream",
     "text": [
      "[[], []]\n"
     ]
    }
   ],
   "source": [
    "compare_list = []\n",
    "present_point = 0\n",
    "compare_list.append(similarity3(script_data[present_point-5:present_point+6], \"사모님\"))\n",
    "compare_list.append(similarity3(script_data[present_point-5:present_point+6], \"3월인데\"))\n",
    "compare_list\n",
    "similarity4(compare_list)"
   ]
  },
  {
   "cell_type": "code",
   "execution_count": 268,
   "metadata": {},
   "outputs": [
    {
     "data": {
      "text/plain": [
       "[]"
      ]
     },
     "execution_count": 268,
     "metadata": {},
     "output_type": "execute_result"
    }
   ],
   "source": [
    "script_data[present_point-5:present_point+6]"
   ]
  },
  {
   "cell_type": "code",
   "execution_count": 527,
   "metadata": {},
   "outputs": [],
   "source": [
    "result_list =[ [0.0, 0.0, 0.0, 0.0, 0.0, 0.0, 0.0, 0.0, 0.13333333333333333, 0.0, 0.0],\n",
    "[0.0, 0.0, 0.0, 0.0, 0.0, 0.0, 0.25, 0.0, 0.125, 0.125, 0.0],\n",
    "[0.0, 0.0, 0.0, 0.0, 0.0, 0.0, 0.125, 0.0, 0.125, 0.0, 0.0],\n",
    "[0.0, 0.0, 0.0, 0.0, 0.0, 0.0, 0.35294117647058826, 0.0, 0.11764705882352941, 0.0, 0.0],\n",
    "[0.0, 0.0, 0.0, 0.0, 0.0, 0.1111111111111111, 0.4444444444444444, 0.0, 0.1111111111111111, 0.0, 0.0],\n",
    "[0.6, 0.0, 0.2, 0.0, 0.1, 0.2, 0.1, 0.1, 0.1, 0.1111111111111111, 0.0],\n",
    "[0.7272727272727273, 0.0, 0.2727272727272727, 0.0, 0.09090909090909091, 0.18181818181818182, 0.09090909090909091, 0.09090909090909091, 0.09090909090909091, 0.1, 0.0],\n",
    "[0.4444444444444444, 0.0, 0.1111111111111111, 0.0, 0.0, 0.2222222222222222, 0.0, 0.1111111111111111, 0.1111111111111111, 0.125, 0.0],\n",
    "[0.4444444444444444, 0.0, 0.1111111111111111, 0.0, 0.0, 0.2222222222222222, 0.0, 0.1111111111111111, 0.1111111111111111, 0.125, 0.0],\n",
    "[0.4444444444444444, 0.0, 0.1111111111111111, 0.0, 0.0, 0.2222222222222222, 0.0, 0.1111111111111111, 0.1111111111111111, 0.125, 0.0],\n",
    "[0.4444444444444444, 0.0, 0.1111111111111111, 0.0, 0.0, 0.2222222222222222, 0.0, 0.1111111111111111, 0.1111111111111111, 0.125, 0.0],\n",
    "[0.7272727272727273, 0.0, 0.2727272727272727, 0.0, 0.09090909090909091, 0.18181818181818182, 0.09090909090909091, 0.09090909090909091, 0.09090909090909091, 0.1, 0.0],\n",
    "[0.7272727272727273, 0.0, 0.2727272727272727, 0.0, 0.09090909090909091, 0.18181818181818182, 0.09090909090909091, 0.09090909090909091, 0.09090909090909091, 0.1, 0.0],\n",
    "[0.9230769230769231, 0.09090909090909091, 0.23076923076923078, 0.07692307692307693, 0.15384615384615385, 0.15384615384615385, 0.15384615384615385, 0.07692307692307693, 0.3076923076923077, 0.08333333333333333, 0.0],\n",
    "[1.0, 0.08333333333333333, 0.2857142857142857, 0.07142857142857142, 0.21428571428571427, 0.14285714285714285, 0.21428571428571427, 0.07142857142857142, 0.35714285714285715, 0.07692307692307693, 0.0]]"
   ]
  },
  {
   "cell_type": "code",
   "execution_count": 528,
   "metadata": {},
   "outputs": [
    {
     "data": {
      "text/plain": [
       "<matplotlib.legend.Legend at 0x1af92ce0a60>"
      ]
     },
     "execution_count": 528,
     "metadata": {},
     "output_type": "execute_result"
    },
    {
     "data": {
      "image/png": "[encoded data removed]",
      "text/plain": [
       "<Figure size 432x288 with 1 Axes>"
      ]
     },
     "metadata": {
      "needs_background": "light"
     },
     "output_type": "display_data"
    }
   ],
   "source": [
    "plt.clf()\n",
    "plt.plot(result_list)\n",
    "# plt.axvline(x=10, color='r', linewidth=1)\n",
    "# plt.axvline(x=15, color='r', linewidth=1)\n",
    "plt.legend(['0', '1', '2', '3', '4', '5', '6', '7', '8', '9', '10'], bbox_to_anchor=(1, 1))"
   ]
  },
  {
   "cell_type": "code",
   "execution_count": 517,
   "metadata": {},
   "outputs": [],
   "source": [
    "x = [0.0, 0.0, 0.0, 0.0, 0.0, 0.0, 0.6206896551724138, 0.7096774193548387, 0.1935483870967742, 0.0, 0.0]"
   ]
  },
  {
   "cell_type": "code",
   "execution_count": 519,
   "metadata": {},
   "outputs": [],
   "source": [
    "y = np.argsort(x)"
   ]
  },
  {
   "cell_type": "code",
   "execution_count": 520,
   "metadata": {},
   "outputs": [
    {
     "data": {
      "text/plain": [
       "array([ 0,  1,  2,  3,  4,  5,  9, 10,  8,  6,  7], dtype=int64)"
      ]
     },
     "execution_count": 520,
     "metadata": {},
     "output_type": "execute_result"
    }
   ],
   "source": [
    "y"
   ]
  },
  {
   "cell_type": "code",
   "execution_count": 522,
   "metadata": {},
   "outputs": [
    {
     "data": {
      "text/plain": [
       "0.7096774193548387"
      ]
     },
     "execution_count": 522,
     "metadata": {},
     "output_type": "execute_result"
    }
   ],
   "source": [
    "x[y[-1]]"
   ]
  },
  {
   "cell_type": "code",
   "execution_count": 523,
   "metadata": {},
   "outputs": [
    {
     "data": {
      "text/plain": [
       "7"
      ]
     },
     "execution_count": 523,
     "metadata": {},
     "output_type": "execute_result"
    }
   ],
   "source": [
    "np.argsort(x)[-1]"
   ]
  },
  {
   "cell_type": "code",
   "execution_count": 524,
   "metadata": {},
   "outputs": [
    {
     "data": {
      "text/plain": [
       "7"
      ]
     },
     "execution_count": 524,
     "metadata": {},
     "output_type": "execute_result"
    }
   ],
   "source": [
    "np.argmax(x)"
   ]
  },
  {
   "cell_type": "code",
   "execution_count": 525,
   "metadata": {},
   "outputs": [
    {
     "data": {
      "text/plain": [
       "6"
      ]
     },
     "execution_count": 525,
     "metadata": {},
     "output_type": "execute_result"
    }
   ],
   "source": [
    "np.argsort(x)[-2]"
   ]
  },
  {
   "cell_type": "code",
   "execution_count": 529,
   "metadata": {},
   "outputs": [],
   "source": [
    "script = ['어제여기제발로찾아왔잖아',\n",
    "'옷내가모르는의상반출이있었어',\n",
    "'어제페인트통발로팍옷에찍',\n",
    "'나중이라도나한테말을해줬어야지',\n",
    "'얘가내팔이렇게만들고',\n",
    "'그건고의가아니라실수였어요변태인줄',\n",
    "'애니웨이페인트뒤집어쓴채다닐순없어서연극부의상렌트',\n",
    "'그건그쪽이막무가내로',\n",
    "'인간적으로그냥돌려보낼수는없잖아',\n",
    "'저기요어쨌든전제할일다했어요안녕히계세요',\n",
    "'잠깐너내팔을이렇게만들어놓고이렇게가겠다고신입부원등록해야지']"
   ]
  },
  {
   "cell_type": "code",
   "execution_count": 532,
   "metadata": {},
   "outputs": [
    {
     "data": {
      "text/plain": [
       "['어제여기제발로찾아왔잖아',\n",
       " '옷내가모르는의상반출이있었어',\n",
       " '어제페인트통발로팍옷에찍',\n",
       " ' ',\n",
       " '나중이라도나한테말을해줬어야지',\n",
       " '얘가내팔이렇게만들고',\n",
       " '그건고의가아니라실수였어요변태인줄',\n",
       " '애니웨이페인트뒤집어쓴채다닐순없어서연극부의상렌트',\n",
       " '그건그쪽이막무가내로',\n",
       " '인간적으로그냥돌려보낼수는없잖아',\n",
       " '저기요어쨌든전제할일다했어요안녕히계세요',\n",
       " '잠깐너내팔을이렇게만들어놓고이렇게가겠다고신입부원등록해야지']"
      ]
     },
     "execution_count": 532,
     "metadata": {},
     "output_type": "execute_result"
    }
   ],
   "source": [
    "script"
   ]
  },
  {
   "cell_type": "code",
   "execution_count": 531,
   "metadata": {},
   "outputs": [],
   "source": [
    "script.insert(3, ' ')"
   ]
  },
  {
   "cell_type": "code",
   "execution_count": 533,
   "metadata": {},
   "outputs": [
    {
     "data": {
      "text/plain": [
       "28"
      ]
     },
     "execution_count": 533,
     "metadata": {},
     "output_type": "execute_result"
    }
   ],
   "source": [
    "len('작년에폐부권고통지받았고그거대로올해폐부통지서가온거잖아')"
   ]
  },
  {
   "cell_type": "code",
   "execution_count": 88,
   "metadata": {},
   "outputs": [],
   "source": [
    "s1 = '내가상처받지않으려고다른사람한함부로보는거그거절대하지'\n",
    "s2 = '전제가상처받기싫어서다른사람한테함부로구는거'\n",
    "s3 = '절대하지말자고다짐했거든요'\n",
    "\n",
    "print(SequenceMatcher(None, s1, s2).ratio())\n",
    "print(SequenceMatcher(None, s1, s3).ratio())"
   ]
  },
  {
   "cell_type": "code",
   "execution_count": 91,
   "metadata": {},
   "outputs": [
    {
     "name": "stdout",
     "output_type": "stream",
     "text": [
      "0.5714285714285714\n",
      "0.2\n"
     ]
    }
   ],
   "source": []
  },
  {
   "cell_type": "code",
   "execution_count": 77,
   "metadata": {},
   "outputs": [
    {
     "name": "stdout",
     "output_type": "stream",
     "text": [
      "0.6222222222222222\n",
      "0.2222222222222222\n"
     ]
    }
   ],
   "source": [
    "print(SequenceMatcher(None, s1, s2).ratio())\n",
    "print(SequenceMatcher(None, s1, s3).ratio())"
   ]
  },
  {
   "cell_type": "code",
   "execution_count": 80,
   "metadata": {},
   "outputs": [
    {
     "name": "stdout",
     "output_type": "stream",
     "text": [
      "0.5957446808510638\n",
      "0.21052631578947367\n"
     ]
    }
   ],
   "source": [
    "print(SequenceMatcher(None, s1, s2).ratio())\n",
    "print(SequenceMatcher(None, s1, s3).ratio())"
   ]
  },
  {
   "cell_type": "code",
   "execution_count": 82,
   "metadata": {},
   "outputs": [
    {
     "name": "stdout",
     "output_type": "stream",
     "text": [
      "0.5714285714285714\n",
      "0.2\n"
     ]
    }
   ],
   "source": [
    "print(SequenceMatcher(None, s1, s2).ratio())\n",
    "print(SequenceMatcher(None, s1, s3).ratio())"
   ]
  },
  {
   "cell_type": "code",
   "execution_count": 89,
   "metadata": {},
   "outputs": [
    {
     "name": "stdout",
     "output_type": "stream",
     "text": [
      "0.5714285714285714\n",
      "0.2\n"
     ]
    }
   ],
   "source": [
    "print(SequenceMatcher(None, s1, s2).ratio())\n",
    "print(SequenceMatcher(None, s1, s3).ratio())"
   ]
  },
  {
   "cell_type": "code",
   "execution_count": 75,
   "metadata": {},
   "outputs": [
    {
     "name": "stdout",
     "output_type": "stream",
     "text": [
      "0.11428571428571428\n",
      "0.46153846153846156\n"
     ]
    }
   ],
   "source": [
    "print(SequenceMatcher(None, s1, s2).ratio())\n",
    "print(SequenceMatcher(None, s1, s3).ratio())"
   ]
  },
  {
   "cell_type": "code",
   "execution_count": 353,
   "metadata": {},
   "outputs": [
    {
     "data": {
      "text/plain": [
       "0.5"
      ]
     },
     "execution_count": 353,
     "metadata": {},
     "output_type": "execute_result"
    }
   ],
   "source": [
    "s1 = '역사'\n",
    "s2 = '역사는흐른다'\n",
    "SequenceMatcher(None, s1, s2).ratio()"
   ]
  },
  {
   "cell_type": "code",
   "execution_count": 27,
   "metadata": {},
   "outputs": [
    {
     "data": {
      "text/plain": [
       "0.22580645161290322"
      ]
     },
     "execution_count": 27,
     "metadata": {},
     "output_type": "execute_result"
    }
   ],
   "source": [
    "s1 = '2019년12월30일택배를통제합니다편하기까지동아리마음을'\n",
    "s2 = '해당일까지동아리방을비우고동아리연합회에폐부신고서를제출하기바람'\n",
    "SequenceMatcher(None, s1, s2).ratio()"
   ]
  },
  {
   "cell_type": "code",
   "execution_count": 539,
   "metadata": {},
   "outputs": [
    {
     "data": {
      "text/plain": [
       "'작년에폐부권고'"
      ]
     },
     "execution_count": 539,
     "metadata": {},
     "output_type": "execute_result"
    }
   ],
   "source": [
    "s[:7]"
   ]
  },
  {
   "cell_type": "code",
   "execution_count": 3,
   "metadata": {},
   "outputs": [
    {
     "name": "stdout",
     "output_type": "stream",
     "text": [
      "0아님\n"
     ]
    }
   ],
   "source": [
    "compare_list = []\n",
    "compare_list.append([0,0,0,0,0,0,0,0,0,0])\n",
    "if(len(compare_list)):\n",
    "    print('0아님')\n",
    "else:\n",
    "    print('0')"
   ]
  },
  {
   "cell_type": "code",
   "execution_count": null,
   "metadata": {},
   "outputs": [],
   "source": [
    "with open('filename.txt', 'r') as f:\n",
    "    data = f.read()\n",
    "file_list = data.splitlines()"
   ]
  },
  {
   "cell_type": "code",
   "execution_count": 37,
   "metadata": {},
   "outputs": [],
   "source": [
    "def similarity4(present_sentence, script):\n",
    "    present_sentence = present_sentence.replace(\" \", \"\")\n",
    "    present_sentence = present_sentence.replace(\".\", \"\")\n",
    "    ratio = []\n",
    "    for i in range(len(script)):\n",
    "        script_sentence = script[i].replace(\" \", \"\")\n",
    "        script_sentence = script_sentence.replace(\".\", \"\")\n",
    "    \n",
    "        ratio.append(SequenceMatcher(None, present_sentence, script_sentence).ratio())\n",
    "    return ratio"
   ]
  },
  {
   "cell_type": "code",
   "execution_count": 31,
   "metadata": {},
   "outputs": [],
   "source": [
    "script1 = ['3월인데여전히춥다',\n",
    "'분명히C동1층이었는데',\n",
    "'여기쯤인데왜팻말이없지',\n",
    "'잠시만요',\n",
    "'저기괜찮아요',\n",
    "'아아파아파',\n",
    "'위동아리는2019년11월30일자로폐부를통지함',\n",
    "'해당일까지동아리방을비우고동아리연합회에폐부신고서를제출하기바람',\n",
    "'형누나어떡해설마가진짜가됐어',\n",
    "'뭐야안놀래',\n",
    "'작년에폐부권고통지받았고그거대로올해폐부통지서가온거잖아']"
   ]
  },
  {
   "cell_type": "code",
   "execution_count": 32,
   "metadata": {},
   "outputs": [],
   "source": [
    "script2 = ['우리연극부의겸둥이유가놀람모드로급등장',\n",
    "'우리유진짜이쁘죠',\n",
    "'제가빠른시일내유랑같이연극분장라방준비할게요',\n",
    "'밤열한시에다시만나요안녕',\n",
    "'누나아',\n",
    "'폐부권고아니었음도래오빠가공연올릴맘도안먹었을걸',\n",
    "'불행중다행이라생각해',\n",
    "'버퍼링긴도래한테는이정도는되야자극이되나봐',\n",
    "'연극부들어와서1년반만에제대로된연극할줄알았는데폐부라니말도안돼',\n",
    "'폐부되면난어디가',\n",
    "'군대']"
   ]
  },
  {
   "cell_type": "code",
   "execution_count": 33,
   "metadata": {},
   "outputs": [],
   "source": [
    "script3 = ['뭐야형팔왜그래',\n",
    "'말하자면사연이길다',\n",
    "'또어디서뒹굴었어',\n",
    "'짜잔여기집중',\n",
    "'내팔을이지경으로만든가해자이자연극부신입부원철학과3학년이찬란을소개합니다',\n",
    "'헐신입부원',\n",
    "'안녕하세요기획을맡은최시온입니다',\n",
    "'난분장의상담당진',\n",
    "'전활기담당유라고해유',\n",
    "'난연극부회장윤도래',\n",
    "'연극부에오신걸다시한번환영합니다']"
   ]
  },
  {
   "cell_type": "code",
   "execution_count": 34,
   "metadata": {},
   "outputs": [],
   "source": [
    "script4 = ['잠깐만요무슨오해가있는것같은데전여기서빌려간옷을돌려주려온것뿐이에요',\n",
    "'어제여기제발로찾아왔잖아',\n",
    "'옷내가모르는의상반출이있었어',\n",
    "'어제페인트통발로팍옷에찍',\n",
    "'나중이라도나한테말을해줬어야지',\n",
    "'다름이아니라혹시알바시간을좀더늘릴수있을까요',\n",
    "'아네',\n",
    "'그럼확인되시면전화주세요',\n",
    "'감사합니다',\n",
    "'언제왔어요',\n",
    "'방금왔어']"
   ]
  },
  {
   "cell_type": "code",
   "execution_count": null,
   "metadata": {},
   "outputs": [],
   "source": []
  },
  {
   "cell_type": "code",
   "execution_count": null,
   "metadata": {},
   "outputs": [],
   "source": []
  },
  {
   "cell_type": "code",
   "execution_count": 35,
   "metadata": {},
   "outputs": [],
   "source": [
    "script5 = [\n",
    "'제사적인시간은지켜주기로하셨잖아요',\n",
    "'오늘오전에연습하기로했잖아',\n",
    "'저는모르는일이에요',\n",
    "'무슨소리야',\n",
    "'누나굿모닝잘잤어',\n",
    "'왜너만연습시간을모르고있어',\n",
    "'단체방확인좀잘하자',\n",
    "'아어제단체방에너무늦게올라와서누나가확인을못했나봐',\n",
    "'앞으로잘하면되지뭐',\n",
    "'좋은아침',\n",
    "'시온아새대본나눠줄래']\n",
    "\n",
    "script6 = [\n",
    "'자따끈따끈한수정대본이나왔습니다',\n",
    "'메이킹영상촬영할게요',\n",
    "'네',\n",
    "'현대같은구조의301호302호의방이마주보고있다',\n",
    "'AB는말없이일상을시작한다',\n",
    "'B는책상에앉아공무원시험을준비한다',\n",
    "'드디어내일이시험이다벌써4년째이번엔꼭',\n",
    "'다음날같은공간',\n",
    "'하이번에떨어지면엄마얼굴어떻게보지',\n",
    "'그날오후A는알바중취업탈락통보문자를받고설상가상손님에게컴플레인이들어와사장에게갖은욕을듣는다',\n",
    "'이걸로스물일곱번째인가']\n",
    "\n",
    "script7 = [\n",
    "'내나이만큼까였네',\n",
    "'그날저녁A와B는방앞에서마주친다',\n",
    "'휴',\n",
    "'3장같은날자정고시원옥상',\n",
    "'여기서부터는수정된부분이니대본들고해보자',\n",
    "'저저기요지금뛰어내리려는거예요',\n",
    "'말리지마요그래도소용없어요',\n",
    "'아니말리려는게아니고제가먼저뛰어내리면안될까요',\n",
    "'뭐라고요',\n",
    "'저도정말힘들게오늘죽기로마음먹었거든요',\n",
    "'지금아니면못할거같은데제가먼저뛴다음에뛰시면안될까요',]\n",
    "\n",
    "script8 = [\n",
    "'하그럼저더러죽기전에그쪽죽는거먼저보라고요',\n",
    "'죄송해요그쪽이먼저죽으면소란스러워지잖아요',\n",
    "'전조용히죽고싶거든요',\n",
    "'너무이기적인거아니에요',\n",
    "'전평생을남눈치만보면서살았어요',\n",
    "'죽을때만이라도좀이기적이면안되나요',\n",
    "'저는요다른인간들한테밀리기만하면서살아왔어요',\n",
    "'죽는거까지밀릴수는없잖아요',\n",
    "'그럼이렇게하는거어때요',\n",
    "'누가먼저죽을만한지서로이야기들어보고정하기로',\n",
    "'그래요']\n",
    "\n",
    "script9 = [\n",
    "'어때',\n",
    "'주제도명확하고난좋아이방향으로공연기획안짜고예산도짜볼게연습은더해야겠지',\n",
    "'난시장조사하러갈게',\n",
    "'나도갈게',\n",
    "'넌왜같이가',\n",
    "'기획안을쓰려면예산을정확하게잡아야지안그래',\n",
    "'저는요다른인간들한테밀리기만하면서살아왔어요',\n",
    "'죽는거까지밀릴수는없잖아요',\n",
    "'그럼이렇게하는거어때요',\n",
    "'누가먼저죽을만한지서로이야기들어보고정하기로',\n",
    "'그래요']"
   ]
  },
  {
   "cell_type": "code",
   "execution_count": null,
   "metadata": {},
   "outputs": [],
   "source": []
  },
  {
   "cell_type": "code",
   "execution_count": null,
   "metadata": {},
   "outputs": [],
   "source": []
  },
  {
   "cell_type": "code",
   "execution_count": 115,
   "metadata": {},
   "outputs": [],
   "source": [
    "final_result2 = []\n",
    "extra0 = []\n",
    "extra1 = []\n",
    "extra2 = []\n",
    "extra3 = []\n",
    "extra4 = []\n",
    "extra5 = []\n",
    "extra6 = []\n",
    "extra7 = []\n",
    "extra8 = []\n",
    "extra9 = []\n",
    "extra10 = []\n",
    "for i in range(0,94):\n",
    "    if(i >= 11):\n",
    "        if(i >= 22):\n",
    "            if(i >= 33):\n",
    "                if(i >= 44):\n",
    "                    if(i >= 55):\n",
    "                        if(i >=66):\n",
    "                            if(i >=77):\n",
    "                                if(i >=88):\n",
    "                                    answer = i-88\n",
    "                                    script = script9\n",
    "                                    plus = 88\n",
    "                                else:\n",
    "                                    answer = i-77\n",
    "                                    script = script8\n",
    "                                    plus = 77\n",
    "                            else:\n",
    "                                answer = i-66\n",
    "                                script = script7\n",
    "                                plus = 66\n",
    "                        else:\n",
    "                            answer = i-55\n",
    "                            script = script6\n",
    "                            plus = 55\n",
    "                    else:\n",
    "                        answer = i-44\n",
    "                        script = script5\n",
    "                        plus = 44\n",
    "                else:\n",
    "                    answer = i-33\n",
    "                    script = script4\n",
    "                    plus = 33\n",
    "            else:\n",
    "                answer = i-22\n",
    "                script = script3\n",
    "                plus = 22\n",
    "        else:\n",
    "            answer = i-11\n",
    "            script = script2\n",
    "            plus = 11\n",
    "    else:\n",
    "        answer = i\n",
    "        script = script1\n",
    "        plus = 0\n",
    "       \n",
    "    file = 'capture/txt2/' + str(i) + '.txt'\n",
    "    with open(file, 'r') as f:\n",
    "        data = f.read()\n",
    "    file_list = data.splitlines()\n",
    "    result_list = []\n",
    "#     print(file_list[-1], script[answer])\n",
    "    for line in file_list:\n",
    "        result_list.append(similarity4(line, script))\n",
    "\n",
    "#     plt.clf()\n",
    "#     plt.plot(result_list)\n",
    "#     plt.legend(['0', '1', '2', '3', '4', '5', '6', '7', '8', '9', '10'], bbox_to_anchor=(1, 1))\n",
    "#     plt.savefig('capture/similarity_graph2/그래프2/'+str(answer+33)+script[answer]+'.png')\n",
    "\n",
    "\n",
    "    minimum_list = [0.0, 0.1,0.2,0.3,0.4,0.5,0.6,0.7,0.8,0.9,1.0]\n",
    "    final_result = []\n",
    "    y = []\n",
    "    z=[]\n",
    "    for minimum in minimum_list:\n",
    "        tn = 0\n",
    "        fp = 0\n",
    "        fn = 0\n",
    "        tp = 0\n",
    "        true = 0\n",
    "        false = 0\n",
    "        missing = 0\n",
    "    #     print(minimum)\n",
    "        x=[]\n",
    "        \n",
    "        for i in range(len(result_list)):\n",
    "    #         print(np.argmax(i), i[np.argmax(i)])\n",
    "            if(result_list[i][np.argmax(result_list[i])]>=minimum):\n",
    "                if(np.argmax(result_list[i]) == answer):\n",
    "                    x.append(i)\n",
    "                    true = true+ 1\n",
    "                    tp = tp + 1\n",
    "                else:\n",
    "                    false = false + 1\n",
    "                    fn = fn + 1\n",
    "            else:\n",
    "                missing = missing+1\n",
    "                if(np.argmax(result_list[i]) == answer):\n",
    "                    fp = fp + 1\n",
    "                else:\n",
    "                    tn = tn + 1\n",
    "        if(x):\n",
    "            y.append(x[0])    \n",
    "        else:\n",
    "            y.append(len(result_list))\n",
    "        final_result.append([tp, fn])\n",
    "        \n",
    "        if(minimum == 0):\n",
    "            extra0.append(final_result[-1][1])\n",
    "        elif(minimum == 0.1):\n",
    "            extra1.append(final_result[-1][1])\n",
    "        elif(minimum == 0.2):\n",
    "            extra2.append(final_result[-1][1])\n",
    "        elif(minimum == 0.3):\n",
    "            extra3.append(final_result[-1][1])\n",
    "        elif(minimum == 0.4):\n",
    "            extra4.append(final_result[-1][1])\n",
    "        elif(minimum == 0.5):\n",
    "            extra5.append(final_result[-1][1])\n",
    "        elif(minimum == 0.6):\n",
    "            extra6.append(final_result[-1][1])\n",
    "        elif(minimum == 0.7):\n",
    "            extra7.append(final_result[-1][1])\n",
    "        elif(minimum == 0.8):\n",
    "            extra8.append(final_result[-1][1])\n",
    "        elif(minimum == 0.9):\n",
    "            extra9.append(final_result[-1][1])\n",
    "        elif(minimum == 1.0):\n",
    "            extra10.append(final_result[-1][1])\n",
    "            \n",
    "#         if(minimum == 0):\n",
    "#             extra0.append(y[-1])\n",
    "#         elif(minimum == 0.1):\n",
    "#             extra1.append(y[-1])\n",
    "#         elif(minimum == 0.2):\n",
    "#             extra2.append(y[-1])\n",
    "#         elif(minimum == 0.3):\n",
    "#             extra3.append(y[-1])\n",
    "#         elif(minimum == 0.4):\n",
    "#             extra4.append(y[-1])\n",
    "#         elif(minimum == 0.5):\n",
    "#             extra5.append(y[-1])\n",
    "#         elif(minimum == 0.6):\n",
    "#             extra6.append(y[-1])\n",
    "#         elif(minimum == 0.7):\n",
    "#             extra7.append(y[-1])\n",
    "#         elif(minimum == 0.8):\n",
    "#             extra8.append(y[-1])\n",
    "#         elif(minimum == 0.9):\n",
    "#             extra9.append(y[-1])\n",
    "#         elif(minimum == 1.0):\n",
    "#             extra10.append(y[-1])\n",
    "\n",
    "#         if(minimum == 0):\n",
    "#             extra0.append(missing/len(result_list))\n",
    "#         elif(minimum == 0.1):\n",
    "#             extra1.append(missing/len(result_list))\n",
    "#         elif(minimum == 0.2):\n",
    "#             extra2.append(missing/len(result_list))\n",
    "#         elif(minimum == 0.3):\n",
    "#             extra3.append(missing/len(result_list))\n",
    "#         elif(minimum == 0.4):\n",
    "#             extra4.append(missing/len(result_list))\n",
    "#         elif(minimum == 0.5):\n",
    "#             extra5.append(missing/len(result_list))\n",
    "#         elif(minimum == 0.6):\n",
    "#             extra6.append(missing/len(result_list))\n",
    "#         elif(minimum == 0.7):\n",
    "#             extra7.append(missing/len(result_list))\n",
    "#         elif(minimum == 0.8):\n",
    "#             extra8.append(missing/len(result_list))\n",
    "#         elif(minimum == 0.9):\n",
    "#             extra9.append(missing/len(result_list))\n",
    "#         elif(minimum == 1.0):\n",
    "#             extra10.append(missing/len(result_list))\n",
    "            \n",
    "#         if(minimum == 0):\n",
    "#             extra0.append(final_result[-1][0])\n",
    "#         elif(minimum == 0.1):\n",
    "#             extra1.append(final_result[-1][0])\n",
    "#         elif(minimum == 0.2):\n",
    "#             extra2.append(final_result[-1][0])\n",
    "#         elif(minimum == 0.3):\n",
    "#             extra3.append(final_result[-1][0])\n",
    "#         elif(minimum == 0.4):\n",
    "#             extra4.append(final_result[-1][0])\n",
    "#         elif(minimum == 0.5):\n",
    "#             extra5.append(final_result[-1][0])\n",
    "#         elif(minimum == 0.6):\n",
    "#             extra6.append(final_result[-1][0])\n",
    "#         elif(minimum == 0.7):\n",
    "#             extra7.append(final_result[-1][0])\n",
    "#         elif(minimum == 0.8):\n",
    "#             extra8.append(final_result[-1][0])\n",
    "#         elif(minimum == 0.9):\n",
    "#             extra9.append(final_result[-1][0])\n",
    "#         elif(minimum == 1.0):\n",
    "#             extra10.append(final_result[-1][0])\n",
    "            \n",
    "#     plt.clf()\n",
    "#     plt.plot(final_result)\n",
    "#     plt.plot(y)\n",
    "#     plt.xticks(np.arange(0, 11, 1))\n",
    "#     plt.legend(['tp','fn', 'missing'], bbox_to_anchor=(1, 1))\n",
    "#     plt.axvline(x=6, color='r', linewidth=1)\n",
    "#     plt.axvline(x=4, color='r', linewidth=1)\n",
    "#     plt.axvline(x=2, color='r', linewidth=1)\n",
    "#     plt.savefig('capture/similarity_graph2/result2/'+str(answer+plus)+' '+script[answer]+'.png')\n",
    "\n",
    "    \n",
    "#     for i in range(len(final_result)):\n",
    "#         if(final_result[i][1] == 0):\n",
    "#             final_result2.append(i)\n",
    "#             break;\n",
    "            \n",
    "#     for i in range(len(y)):\n",
    "#         if(y[i] != 0 ):\n",
    "#             y2.append(i)\n",
    "#             break;\n",
    "    "
   ]
  },
  {
   "cell_type": "code",
   "execution_count": 116,
   "metadata": {},
   "outputs": [],
   "source": [
    "final_extra = []\n",
    "final_extra.append(extra0)\n",
    "final_extra.append(extra1)\n",
    "final_extra.append(extra2)\n",
    "final_extra.append(extra3)\n",
    "final_extra.append(extra4)\n",
    "final_extra.append(extra5)\n",
    "final_extra.append(extra6)\n",
    "final_extra.append(extra7)\n",
    "final_extra.append(extra8)\n",
    "final_extra.append(extra9)\n",
    "final_extra.append(extra10)"
   ]
  },
  {
   "cell_type": "code",
   "execution_count": 122,
   "metadata": {},
   "outputs": [
    {
     "name": "stdout",
     "output_type": "stream",
     "text": [
      "[0, 5, 0, 0, 5, 0, 1, 4, 0, 1, 0, 5, 0, 2, 0, 3, 7, 0, 0, 1, 3, 0, 0, 0, 0, 0, 1, 0, 0, 2, 0, 2, 5, 4, 3, 9, 4, 0, 5, 0, 0, 0, 0, 0, 0, 0, 1, 0, 0, 0, 0, 8, 1, 0, 0, 1, 0, 0, 5, 5, 4, 0, 0, 2, 10, 1, 0, 0, 0, 0, 0, 0, 0, 0, 0, 0, 6, 8, 0, 0, 0, 3, 3, 14, 0, 3, 0, 0, 0, 6, 0, 0, 0, 5]\n",
      "[0, 5, 0, 0, 5, 0, 1, 4, 0, 0, 0, 5, 0, 2, 0, 0, 4, 0, 0, 0, 0, 0, 0, 0, 0, 0, 0, 0, 0, 0, 0, 2, 3, 4, 3, 1, 4, 0, 5, 0, 0, 0, 0, 0, 0, 0, 1, 0, 0, 0, 0, 8, 1, 0, 0, 1, 0, 0, 5, 2, 3, 0, 0, 1, 9, 1, 0, 0, 0, 0, 0, 0, 0, 0, 0, 0, 5, 8, 0, 0, 0, 2, 3, 14, 0, 3, 0, 0, 0, 6, 0, 0, 0, 5]\n",
      "[0, 5, 0, 0, 5, 0, 0, 0, 0, 0, 0, 5, 0, 0, 0, 0, 2, 0, 0, 0, 0, 0, 0, 0, 0, 0, 0, 0, 0, 0, 0, 2, 3, 4, 3, 0, 4, 0, 5, 0, 0, 0, 0, 0, 0, 0, 0, 0, 0, 0, 0, 8, 1, 0, 0, 1, 0, 0, 5, 0, 0, 0, 0, 0, 2, 0, 0, 0, 0, 0, 0, 0, 0, 0, 0, 0, 5, 8, 0, 0, 0, 0, 1, 12, 0, 3, 0, 0, 0, 6, 0, 0, 0, 5]\n",
      "[0, 0, 0, 0, 5, 0, 0, 0, 0, 0, 0, 5, 0, 0, 0, 0, 0, 0, 0, 0, 0, 0, 0, 0, 0, 0, 0, 0, 0, 0, 0, 0, 3, 0, 3, 0, 4, 0, 0, 0, 0, 0, 0, 0, 0, 0, 0, 0, 0, 0, 0, 3, 1, 0, 0, 0, 0, 0, 5, 0, 0, 0, 0, 0, 0, 0, 0, 0, 0, 0, 0, 0, 0, 0, 0, 0, 0, 8, 0, 0, 0, 0, 1, 11, 0, 3, 0, 0, 0, 0, 0, 0, 0, 0]\n",
      "[0, 0, 0, 0, 0, 0, 0, 0, 0, 0, 0, 2, 0, 0, 0, 0, 0, 0, 0, 0, 0, 0, 0, 0, 0, 0, 0, 0, 0, 0, 0, 0, 0, 0, 0, 0, 4, 0, 0, 0, 0, 0, 0, 0, 0, 0, 0, 0, 0, 0, 0, 1, 0, 0, 0, 0, 0, 0, 0, 0, 0, 0, 0, 0, 0, 0, 0, 0, 0, 0, 0, 0, 0, 0, 0, 0, 0, 2, 0, 0, 0, 0, 0, 0, 0, 3, 0, 0, 0, 0, 0, 0, 0, 0]\n",
      "[0, 0, 0, 0, 0, 0, 0, 0, 0, 0, 0, 0, 0, 0, 0, 0, 0, 0, 0, 0, 0, 0, 0, 0, 0, 0, 0, 0, 0, 0, 0, 0, 0, 0, 0, 0, 4, 0, 0, 0, 0, 0, 0, 0, 0, 0, 0, 0, 0, 0, 0, 0, 0, 0, 0, 0, 0, 0, 0, 0, 0, 0, 0, 0, 0, 0, 0, 0, 0, 0, 0, 0, 0, 0, 0, 0, 0, 1, 0, 0, 0, 0, 0, 0, 0, 0, 0, 0, 0, 0, 0, 0, 0, 0]\n",
      "[0, 0, 0, 0, 0, 0, 0, 0, 0, 0, 0, 0, 0, 0, 0, 0, 0, 0, 0, 0, 0, 0, 0, 0, 0, 0, 0, 0, 0, 0, 0, 0, 0, 0, 0, 0, 0, 0, 0, 0, 0, 0, 0, 0, 0, 0, 0, 0, 0, 0, 0, 0, 0, 0, 0, 0, 0, 0, 0, 0, 0, 0, 0, 0, 0, 0, 0, 0, 0, 0, 0, 0, 0, 0, 0, 0, 0, 1, 0, 0, 0, 0, 0, 0, 0, 0, 0, 0, 0, 0, 0, 0, 0, 0]\n",
      "[0, 0, 0, 0, 0, 0, 0, 0, 0, 0, 0, 0, 0, 0, 0, 0, 0, 0, 0, 0, 0, 0, 0, 0, 0, 0, 0, 0, 0, 0, 0, 0, 0, 0, 0, 0, 0, 0, 0, 0, 0, 0, 0, 0, 0, 0, 0, 0, 0, 0, 0, 0, 0, 0, 0, 0, 0, 0, 0, 0, 0, 0, 0, 0, 0, 0, 0, 0, 0, 0, 0, 0, 0, 0, 0, 0, 0, 0, 0, 0, 0, 0, 0, 0, 0, 0, 0, 0, 0, 0, 0, 0, 0, 0]\n",
      "[0, 0, 0, 0, 0, 0, 0, 0, 0, 0, 0, 0, 0, 0, 0, 0, 0, 0, 0, 0, 0, 0, 0, 0, 0, 0, 0, 0, 0, 0, 0, 0, 0, 0, 0, 0, 0, 0, 0, 0, 0, 0, 0, 0, 0, 0, 0, 0, 0, 0, 0, 0, 0, 0, 0, 0, 0, 0, 0, 0, 0, 0, 0, 0, 0, 0, 0, 0, 0, 0, 0, 0, 0, 0, 0, 0, 0, 0, 0, 0, 0, 0, 0, 0, 0, 0, 0, 0, 0, 0, 0, 0, 0, 0]\n",
      "[0, 0, 0, 0, 0, 0, 0, 0, 0, 0, 0, 0, 0, 0, 0, 0, 0, 0, 0, 0, 0, 0, 0, 0, 0, 0, 0, 0, 0, 0, 0, 0, 0, 0, 0, 0, 0, 0, 0, 0, 0, 0, 0, 0, 0, 0, 0, 0, 0, 0, 0, 0, 0, 0, 0, 0, 0, 0, 0, 0, 0, 0, 0, 0, 0, 0, 0, 0, 0, 0, 0, 0, 0, 0, 0, 0, 0, 0, 0, 0, 0, 0, 0, 0, 0, 0, 0, 0, 0, 0, 0, 0, 0, 0]\n",
      "[0, 0, 0, 0, 0, 0, 0, 0, 0, 0, 0, 0, 0, 0, 0, 0, 0, 0, 0, 0, 0, 0, 0, 0, 0, 0, 0, 0, 0, 0, 0, 0, 0, 0, 0, 0, 0, 0, 0, 0, 0, 0, 0, 0, 0, 0, 0, 0, 0, 0, 0, 0, 0, 0, 0, 0, 0, 0, 0, 0, 0, 0, 0, 0, 0, 0, 0, 0, 0, 0, 0, 0, 0, 0, 0, 0, 0, 0, 0, 0, 0, 0, 0, 0, 0, 0, 0, 0, 0, 0, 0, 0, 0, 0]\n"
     ]
    }
   ],
   "source": [
    "mean = []\n",
    "for i in final_extra:\n",
    "    mean.append((np.mean(i)))"
   ]
  },
  {
   "cell_type": "code",
   "execution_count": 126,
   "metadata": {},
   "outputs": [
    {
     "name": "stdout",
     "output_type": "stream",
     "text": [
      "77\n"
     ]
    }
   ],
   "source": [
    "for i in range(len(final_extra[6])):\n",
    "    if( final_extra[6][i] == 1):\n",
    "        print(i)"
   ]
  },
  {
   "cell_type": "code",
   "execution_count": 128,
   "metadata": {},
   "outputs": [
    {
     "name": "stdout",
     "output_type": "stream",
     "text": [
      "아 그럼 저더러 죽기 전에 그 쪽 주는 거 먼저 보라고요 하그럼저더러죽기전에그쪽죽는거먼저보라고요\n"
     ]
    },
    {
     "data": {
      "image/png": "[encoded data removed]",
      "text/plain": [
       "<Figure size 432x288 with 1 Axes>"
      ]
     },
     "metadata": {
      "needs_background": "light"
     },
     "output_type": "display_data"
    }
   ],
   "source": [
    "i = 77\n",
    "script = script8\n",
    "file = 'capture/txt2/' + str(i) + '.txt'\n",
    "with open(file, 'r') as f:\n",
    "    data = f.read()\n",
    "file_list = data.splitlines()\n",
    "result_list = []\n",
    "print(file_list[-1], script[0])\n",
    "for line in file_list:\n",
    "    result_list.append(similarity4(line, script))\n",
    "\n",
    "plt.clf()\n",
    "plt.plot(result_list)\n",
    "plt.legend(['0', '1', '2', '3', '4', '5', '6', '7', '8', '9', '10'], bbox_to_anchor=(1, 1))\n",
    "\n",
    "minimum_list = [0.0, 0.1,0.2,0.3,0.4,0.5,0.6,0.7,0.8,0.9,1.0]\n",
    "final_result = []\n",
    "y = []\n",
    "z=[]\n",
    "for minimum in minimum_list:\n",
    "    tn = 0\n",
    "    fp = 0\n",
    "    fn = 0\n",
    "    tp = 0\n",
    "    true = 0\n",
    "    false = 0\n",
    "    missing = 0\n",
    "#     print(minimum)\n",
    "    x=[]\n",
    "\n",
    "    for i in range(len(result_list)):\n",
    "#         print(np.argmax(i), i[np.argmax(i)])\n",
    "        if(result_list[i][np.argmax(result_list[i])]>=minimum):\n",
    "            if(np.argmax(result_list[i]) == 0):\n",
    "                x.append(i)\n",
    "                true = true+ 1\n",
    "                tp = tp + 1\n",
    "            else:\n",
    "                false = false + 1\n",
    "                fn = fn + 1\n",
    "        else:\n",
    "            missing = missing+1\n",
    "            if(np.argmax(result_list[i]) == 0):\n",
    "                fp = fp + 1\n",
    "            else:\n",
    "                tn = tn + 1"
   ]
  },
  {
   "cell_type": "code",
   "execution_count": 113,
   "metadata": {},
   "outputs": [
    {
     "data": {
      "text/plain": [
       "[25.170212765957448,\n",
       " 25.085106382978722,\n",
       " 24.19148936170213,\n",
       " 22.659574468085108,\n",
       " 20.79787234042553,\n",
       " 17.9468085106383,\n",
       " 14.74468085106383,\n",
       " 11.861702127659575,\n",
       " 8.47872340425532,\n",
       " 4.882978723404255,\n",
       " 2.8617021276595747]"
      ]
     },
     "execution_count": 113,
     "metadata": {},
     "output_type": "execute_result"
    }
   ],
   "source": [
    "mean"
   ]
  },
  {
   "cell_type": "code",
   "execution_count": 114,
   "metadata": {},
   "outputs": [
    {
     "name": "stdout",
     "output_type": "stream",
     "text": [
      "-0.08510638297872575\n",
      "-0.8936170212765937\n",
      "-1.5319148936170208\n",
      "-1.8617021276595764\n",
      "-2.8510638297872326\n",
      "-3.2021276595744688\n",
      "-2.882978723404255\n",
      "-3.382978723404255\n",
      "-3.5957446808510642\n",
      "-2.0212765957446805\n"
     ]
    }
   ],
   "source": [
    "for i in range(len(mean)-1):\n",
    "    print(mean[i+1]-mean[i])"
   ]
  },
  {
   "cell_type": "code",
   "execution_count": 42,
   "metadata": {},
   "outputs": [
    {
     "data": {
      "text/plain": [
       "14"
      ]
     },
     "execution_count": 42,
     "metadata": {},
     "output_type": "execute_result"
    }
   ],
   "source": [
    "np.max(final_extra)"
   ]
  },
  {
   "cell_type": "code",
   "execution_count": 443,
   "metadata": {},
   "outputs": [
    {
     "data": {
      "image/png": "[encoded data removed]",
      "text/plain": [
       "<Figure size 432x288 with 1 Axes>"
      ]
     },
     "metadata": {
      "needs_background": "light"
     },
     "output_type": "display_data"
    }
   ],
   "source": [
    "plt.clf()\n",
    "plt.plot(final_extra)\n",
    "\n",
    "plt.axvline(x=6, color='r', linewidth=1)\n",
    "plt.axvline(x=4, color='r', linewidth=1)\n",
    "plt.axvline(x=2, color='r', linewidth=1)\n",
    "plt.savefig('capture/similarity_graph2/result2/'+str(answer+plus)+' '+script[answer]+'.png')"
   ]
  },
  {
   "cell_type": "code",
   "execution_count": 108,
   "metadata": {},
   "outputs": [
    {
     "data": {
      "text/plain": [
       "<matplotlib.legend.Legend at 0x23f60c34310>"
      ]
     },
     "execution_count": 108,
     "metadata": {},
     "output_type": "execute_result"
    },
    {
     "data": {
      "image/png": "[encoded data removed]",
      "text/plain": [
       "<Figure size 432x288 with 1 Axes>"
      ]
     },
     "metadata": {
      "needs_background": "light"
     },
     "output_type": "display_data"
    }
   ],
   "source": [
    "plt.clf()\n",
    "plt.plot(mean)\n",
    "# plt.axvline(x=6, color='r', linewidth=1)\n",
    "# plt.axvline(x=4, color='r', linewidth=1)\n",
    "# plt.axvline(x=2, color='r', linewidth=1)\n",
    "plt.legend(['missing', 'true'], bbox_to_anchor=(1, 1))\n",
    "# plt.savefig('capture/similarity_graph2/result2/'+str(answer+plus)+' '+script[answer]+'.png')"
   ]
  },
  {
   "cell_type": "code",
   "execution_count": 68,
   "metadata": {},
   "outputs": [],
   "source": [
    "tp_mean = mean"
   ]
  },
  {
   "cell_type": "code",
   "execution_count": 116,
   "metadata": {},
   "outputs": [
    {
     "name": "stdout",
     "output_type": "stream",
     "text": [
      "[0.0, 0.0, 0.0, 0.0, 0.0, 0.0, 0.0, 0.0, 0.0, 0.2857142857142857, 0.0]\n",
      "[0.0, 0.14285714285714285, 0.14285714285714285, 0.0, 0.0, 0.0, 0.0, 0.0, 0.0, 0.0, 0.0]\n",
      "[0.0, 0.0, 0.0, 0.25, 0.0, 0.0, 0.07142857142857142, 0.0, 0.0, 0.2222222222222222, 0.0]\n",
      "[0.0, 0.0, 0.0, 0.25, 0.0, 0.0, 0.07142857142857142, 0.0, 0.0, 0.2222222222222222, 0.0]\n",
      "[0.0, 0.125, 0.125, 0.2222222222222222, 0.0, 0.0, 0.0, 0.0, 0.0, 0.0, 0.0]\n",
      "[0.0, 0.125, 0.0, 0.2222222222222222, 0.0, 0.0, 0.06896551724137931, 0.05405405405405406, 0.0, 0.0, 0.0]\n",
      "[0.13333333333333333, 0.47058823529411764, 0.0, 0.2, 0.0, 0.0, 0.06666666666666667, 0.10526315789473684, 0.0, 0.0, 0.0]\n",
      "[0.13333333333333333, 0.47058823529411764, 0.0, 0.2, 0.0, 0.0, 0.06666666666666667, 0.10526315789473684, 0.0, 0.0, 0.0]\n",
      "[0.0, 0.3333333333333333, 0.0, 0.18181818181818182, 0.0, 0.0, 0.12903225806451613, 0.05128205128205128, 0.0, 0.16666666666666666, 0.0]\n",
      "[0.0, 0.3333333333333333, 0.0, 0.18181818181818182, 0.0, 0.0, 0.12903225806451613, 0.05128205128205128, 0.0, 0.16666666666666666, 0.0]\n",
      "[0.0, 0.3157894736842105, 0.0, 0.16666666666666666, 0.0, 0.0, 0.125, 0.1, 0.0, 0.0, 0.05555555555555555]\n",
      "[0.0, 0.3157894736842105, 0.0, 0.16666666666666666, 0.0, 0.0, 0.125, 0.1, 0.0, 0.0, 0.05555555555555555]\n",
      "[0.0, 0.3157894736842105, 0.0, 0.16666666666666666, 0.0, 0.0, 0.125, 0.1, 0.0, 0.0, 0.05555555555555555]\n",
      "[0.1, 0.6363636363636364, 0.09090909090909091, 0.13333333333333333, 0.0, 0.0, 0.11428571428571428, 0.046511627906976744, 0.0, 0.125, 0.0]\n",
      "[0.1, 0.6363636363636364, 0.09090909090909091, 0.13333333333333333, 0.0, 0.0, 0.11428571428571428, 0.046511627906976744, 0.0, 0.125, 0.0]\n"
     ]
    }
   ],
   "source": [
    "for i in result_list:\n",
    "    print(i)"
   ]
  },
  {
   "cell_type": "code",
   "execution_count": 162,
   "metadata": {},
   "outputs": [
    {
     "data": {
      "text/plain": [
       "28"
      ]
     },
     "execution_count": 162,
     "metadata": {},
     "output_type": "execute_result"
    }
   ],
   "source": [
    "len('우리 연극부에 귀염둥이 육아 논란 모드로 급 등장 ')"
   ]
  },
  {
   "cell_type": "code",
   "execution_count": 72,
   "metadata": {},
   "outputs": [
    {
     "data": {
      "text/plain": [
       "'우리 연극부에 귀염둥이 육아 논란 모드로 급 등장'"
      ]
     },
     "execution_count": 72,
     "metadata": {},
     "output_type": "execute_result"
    }
   ],
   "source": [
    "file_list[39]"
   ]
  },
  {
   "cell_type": "code",
   "execution_count": 118,
   "metadata": {},
   "outputs": [
    {
     "data": {
      "text/plain": [
       "<matplotlib.legend.Legend at 0x2517223ed90>"
      ]
     },
     "execution_count": 118,
     "metadata": {},
     "output_type": "execute_result"
    },
    {
     "data": {
      "image/png": "[encoded data removed]",
      "text/plain": [
       "<Figure size 432x288 with 1 Axes>"
      ]
     },
     "metadata": {
      "needs_background": "light"
     },
     "output_type": "display_data"
    }
   ],
   "source": [
    "plt.clf()\n",
    "plt.plot(result_list)\n",
    "plt.legend(['0', '1', '2', '3', '4', '5', '6', '7', '8', '9', '10'], bbox_to_anchor=(1, 1))\n",
    "# plt.savefig('capture/similarity_graph/그래프/'+file_list[-1][32:]+'.png')"
   ]
  },
  {
   "cell_type": "code",
   "execution_count": 374,
   "metadata": {},
   "outputs": [
    {
     "data": {
      "text/plain": [
       "<matplotlib.legend.Legend at 0x2517365f640>"
      ]
     },
     "execution_count": 374,
     "metadata": {},
     "output_type": "execute_result"
    },
    {
     "data": {
      "image/png": "[encoded data removed]",
      "text/plain": [
       "<Figure size 432x288 with 1 Axes>"
      ]
     },
     "metadata": {
      "needs_background": "light"
     },
     "output_type": "display_data"
    }
   ],
   "source": [
    "script = script2\n",
    "file = 'capture/extra.txt'\n",
    "answer = 2\n",
    "with open(file, 'r') as f:\n",
    "    data = f.read()\n",
    "file_list = data.splitlines()\n",
    "result_list = []\n",
    "before = '/'\n",
    "imsi_list=[]\n",
    "imsi_list.append(similarity4(before, script))\n",
    "\n",
    "for line in file_list[:]:\n",
    "    imsi_list.append(similarity4(line[:], script))\n",
    "#     print(imsi_list[-2][np.argmax(imsi_list[-1])], imsi_list[-1][np.argmax(imsi_list[-1])])\n",
    "    if(imsi_list[-2][np.argmax(imsi_list[-1])]>imsi_list[-1][np.argmax(imsi_list[-1])]):\n",
    "#         if(len(before)>=len(line)):\n",
    "        imsi_list[-1] = imsi_list[-2]\n",
    "    before = line\n",
    "    result_list.append(imsi_list[-1])\n",
    "    \n",
    "# for line in file_list[32:]:\n",
    "#     result_list.append(similarity4(line[16:], script))\n",
    "\n",
    "plt.clf()\n",
    "plt.plot(result_list)\n",
    "plt.legend(['0', '1', '2', '3', '4', '5', '6', '7', '8', '9', '10'], bbox_to_anchor=(1, 1))\n",
    "# plt.savefig('capture/similarity_graph/'+script[answer]+'.png')\n",
    "\n",
    "\n",
    "# minimum_list = [0.0, 0.1,0.2,0.3,0.4,0.5,0.6,0.7,0.8,0.9,1.0]\n",
    "# final_result = []\n",
    "# x=[]\n",
    "# for minimum in minimum_list:\n",
    "#     tn = 0\n",
    "#     fp = 0\n",
    "#     fn = 0\n",
    "#     tp = 0\n",
    "#     true = 0\n",
    "#     false = 0\n",
    "#     missing = 0\n",
    "# #     print(minimum)\n",
    "#     for i in result_list:\n",
    "# #         print(np.argmax(i), i[np.argmax(i)])\n",
    "        \n",
    "#         if(i[np.argmax(i)]>=minimum):\n",
    "    \n",
    "#             if(np.argmax(i) == answer):\n",
    "#                 true = true+ 1\n",
    "#                 tp = tp + 1\n",
    "#             else:\n",
    "#                 false = false + 1\n",
    "#                 fn = fn + 1\n",
    "#         else:\n",
    "#             missing = missing+1\n",
    "#             if(np.argmax(i) == answer):\n",
    "#                 fp = fp + 1\n",
    "#             else:\n",
    "#                 tn = tn + 1\n",
    "# #     final_result.append([tn, fp, fn, tp])\n",
    "#     final_result.append([tp, fn, missing])\n",
    "# plt.clf()\n",
    "# plt.plot(final_result)\n",
    "# plt.xticks(np.arange(0, 11, 1))\n",
    "# # plt.legend(['tn', 'fp', 'fn', 'tp'], bbox_to_anchor=(1, 1))\n",
    "# plt.legend(['tp', 'fn', 'missing'], bbox_to_anchor=(1, 1))\n",
    "# plt.axvline(x=6, color='r', linewidth=1)\n",
    "# plt.axvline(x=4, color='r', linewidth=1)\n",
    "# plt.axvline(x=2, color='r', linewidth=1)\n",
    "# plt.savefig('capture/similarity_graph/result2/'+str(answer)+' '+script[answer]+'.png')"
   ]
  },
  {
   "cell_type": "code",
   "execution_count": 175,
   "metadata": {},
   "outputs": [],
   "source": [
    "fn_list = [0,3,0,0,4,0,2,2,0,0,5,4,2,0,1,3,0,0,1,0,0,0,0,0,0,0,1,0,3,3,4,0,0,2,2,0]\n",
    "missing_list = [3,2,4,4,4,3,1,2,4,2,4,4,1,2,1,1,2,1,1,0,4,4,3,3,3,3,1,2,3,2,1,2,2,1,2,3]"
   ]
  },
  {
   "cell_type": "code",
   "execution_count": 220,
   "metadata": {},
   "outputs": [
    {
     "data": {
      "text/plain": [
       "<matplotlib.legend.Legend at 0x25172279d00>"
      ]
     },
     "execution_count": 220,
     "metadata": {},
     "output_type": "execute_result"
    },
    {
     "data": {
      "image/png": "[encoded data removed]",
      "text/plain": [
       "<Figure size 432x288 with 1 Axes>"
      ]
     },
     "metadata": {
      "needs_background": "light"
     },
     "output_type": "display_data"
    }
   ],
   "source": [
    "plt.clf()\n",
    "plt.plot(fn_list)\n",
    "# plt.plot(missing_list)\n",
    "plt.legend(['0', '1', '2', '3', '4', '5', '6', '7', '8', '9', '10'], bbox_to_anchor=(1, 1))"
   ]
  },
  {
   "cell_type": "code",
   "execution_count": 101,
   "metadata": {},
   "outputs": [
    {
     "data": {
      "image/png": "[encoded data removed]",
      "text/plain": [
       "<Figure size 432x288 with 2 Axes>"
      ]
     },
     "metadata": {
      "needs_background": "light"
     },
     "output_type": "display_data"
    },
    {
     "name": "stdout",
     "output_type": "stream",
     "text": [
      "acc:  [0. 0. 0. 0.]\n"
     ]
    }
   ],
   "source": [
    "x.append(-1)\n",
    "extra_fire_y = [answer]*len(x)\n",
    "y_pred = x\n",
    "\n",
    "tn, fp, fn, tp = confusion_matrix(extra_fire_y, y_pred)\n",
    "matrix = confusion_matrix(extra_fire_y, y_pred)\n",
    "sns.heatmap(pd.DataFrame(matrix), annot=True, cmap=\"bone\" ,fmt='g')\n",
    "plt.title('Confusion matrix', y=1.1)\n",
    "plt.ylabel('Actual label')\n",
    "plt.xlabel('Predicted label')\n",
    "plt.show()\n",
    "\n",
    "print('acc: ', (tn+tp)/(tn+fp+fn+tp))"
   ]
  },
  {
   "cell_type": "code",
   "execution_count": 104,
   "metadata": {},
   "outputs": [
    {
     "ename": "ValueError",
     "evalue": "not enough values to unpack (expected 4, got 2)",
     "output_type": "error",
     "traceback": [
      "\u001b[1;31m---------------------------------------------------------------------------\u001b[0m",
      "\u001b[1;31mValueError\u001b[0m                                Traceback (most recent call last)",
      "\u001b[1;32m<ipython-input-104-c4cc512c7145>\u001b[0m in \u001b[0;36m<module>\u001b[1;34m\u001b[0m\n\u001b[0;32m      3\u001b[0m \u001b[0my_pred\u001b[0m \u001b[1;33m=\u001b[0m \u001b[0mx\u001b[0m\u001b[1;33m\u001b[0m\u001b[1;33m\u001b[0m\u001b[0m\n\u001b[0;32m      4\u001b[0m \u001b[1;33m\u001b[0m\u001b[0m\n\u001b[1;32m----> 5\u001b[1;33m \u001b[0mtn\u001b[0m\u001b[1;33m,\u001b[0m \u001b[0mfp\u001b[0m\u001b[1;33m,\u001b[0m \u001b[0mfn\u001b[0m\u001b[1;33m,\u001b[0m \u001b[0mtp\u001b[0m \u001b[1;33m=\u001b[0m \u001b[0mconfusion_matrix\u001b[0m\u001b[1;33m(\u001b[0m\u001b[0mextra_fire_y\u001b[0m\u001b[1;33m,\u001b[0m \u001b[0my_pred\u001b[0m\u001b[1;33m)\u001b[0m\u001b[1;33m\u001b[0m\u001b[1;33m\u001b[0m\u001b[0m\n\u001b[0m\u001b[0;32m      6\u001b[0m \u001b[0mmatrix\u001b[0m \u001b[1;33m=\u001b[0m \u001b[0mconfusion_matrix\u001b[0m\u001b[1;33m(\u001b[0m\u001b[0mextra_fire_y\u001b[0m\u001b[1;33m,\u001b[0m \u001b[0my_pred\u001b[0m\u001b[1;33m)\u001b[0m\u001b[1;33m\u001b[0m\u001b[1;33m\u001b[0m\u001b[0m\n\u001b[0;32m      7\u001b[0m \u001b[0msns\u001b[0m\u001b[1;33m.\u001b[0m\u001b[0mheatmap\u001b[0m\u001b[1;33m(\u001b[0m\u001b[0mpd\u001b[0m\u001b[1;33m.\u001b[0m\u001b[0mDataFrame\u001b[0m\u001b[1;33m(\u001b[0m\u001b[0mmatrix\u001b[0m\u001b[1;33m)\u001b[0m\u001b[1;33m,\u001b[0m \u001b[0mannot\u001b[0m\u001b[1;33m=\u001b[0m\u001b[1;32mTrue\u001b[0m\u001b[1;33m,\u001b[0m \u001b[0mcmap\u001b[0m\u001b[1;33m=\u001b[0m\u001b[1;34m\"bone\"\u001b[0m \u001b[1;33m,\u001b[0m\u001b[0mfmt\u001b[0m\u001b[1;33m=\u001b[0m\u001b[1;34m'g'\u001b[0m\u001b[1;33m)\u001b[0m\u001b[1;33m\u001b[0m\u001b[1;33m\u001b[0m\u001b[0m\n",
      "\u001b[1;31mValueError\u001b[0m: not enough values to unpack (expected 4, got 2)"
     ]
    }
   ],
   "source": [
    "x.append(-1)\n",
    "extra_fire_y = [answer]*len(x)\n",
    "y_pred = x\n",
    "\n",
    "tn, fp, fn, tp = confusion_matrix(extra_fire_y, y_pred)\n",
    "matrix = confusion_matrix(extra_fire_y, y_pred)\n",
    "sns.heatmap(pd.DataFrame(matrix), annot=True, cmap=\"bone\" ,fmt='g')\n",
    "plt.title('Confusion matrix', y=1.1)\n",
    "plt.ylabel('Actual label')\n",
    "plt.xlabel('Predicted label')\n",
    "plt.show()\n",
    "\n",
    "print('acc: ', (tn+tp)/(tn+fp+fn+tp))"
   ]
  },
  {
   "cell_type": "code",
   "execution_count": 105,
   "metadata": {},
   "outputs": [
    {
     "data": {
      "text/plain": [
       "([-1, -1, -1, -1, -1, -1, 1, 1, 1, 1, 1, 1, 1, 1, 1, -1],\n",
       " [1, 1, 1, 1, 1, 1, 1, 1, 1, 1, 1, 1, 1, 1, 1, 1])"
      ]
     },
     "execution_count": 105,
     "metadata": {},
     "output_type": "execute_result"
    }
   ],
   "source": [
    "x, extra_fire_y"
   ]
  },
  {
   "cell_type": "code",
   "execution_count": 35,
   "metadata": {},
   "outputs": [
    {
     "data": {
      "image/png": "[encoded data removed]",
      "text/plain": [
       "<Figure size 432x288 with 1 Axes>"
      ]
     },
     "metadata": {
      "needs_background": "light"
     },
     "output_type": "display_data"
    }
   ],
   "source": [
    "plt.clf()\n",
    "plt.plot(result_list)\n",
    "plt.legend(['0', '1', '2', '3', '4', '5', '6', '7', '8', '9', '10'], bbox_to_anchor=(1, 1))\n",
    "plt.savefig('capture/similarity_graph/'+script[answer]+'.png')"
   ]
  },
  {
   "cell_type": "code",
   "execution_count": 18,
   "metadata": {},
   "outputs": [],
   "source": [
    "result_list = []"
   ]
  },
  {
   "cell_type": "code",
   "execution_count": 23,
   "metadata": {},
   "outputs": [],
   "source": [
    "for line in file_list:\n",
    "    result_list.append(similarity4(line, script))"
   ]
  },
  {
   "cell_type": "code",
   "execution_count": 25,
   "metadata": {},
   "outputs": [
    {
     "data": {
      "image/png": "[encoded data removed]",
      "text/plain": [
       "<Figure size 432x288 with 1 Axes>"
      ]
     },
     "metadata": {
      "needs_background": "light"
     },
     "output_type": "display_data"
    }
   ],
   "source": [
    "plt.clf()\n",
    "plt.plot(result_list)\n",
    "plt.legend(['0', '1', '2', '3', '4', '5', '6', '7', '8', '9', '10'], bbox_to_anchor=(1, 1))\n",
    "plt.savefig('capture/similarity_graph/'+file_list[-1]+'.png')"
   ]
  },
  {
   "cell_type": "code",
   "execution_count": 58,
   "metadata": {},
   "outputs": [],
   "source": [
    "answer = 0\n",
    "minimum_list = [0.1,0.2,0.3,0.4,0.5,0.6,0.7,0.8,0.9,1.0]\n",
    "final_result = []\n",
    "for minimum in minimum_list:\n",
    "    tn = 0\n",
    "    fp = 0\n",
    "    fn = 0\n",
    "    tp = 0\n",
    "    for i in result_list:\n",
    "        if(i[np.argmax(i)]>minimum):\n",
    "            if(np.argmax(i) == answer):\n",
    "                tp = tp + 1\n",
    "            else:\n",
    "                fn = fn + 1\n",
    "        else:\n",
    "            if(np.argmax(i) == answer):\n",
    "                fp = fp + 1\n",
    "            else:\n",
    "                tn = tn + 1\n",
    "    final_result.append([tn, fp, fn, tp])\n",
    "    \n",
    "plt.clf()\n",
    "plt.plot(final_result)\n",
    "plt.legend(['tn', 'fp', 'fn', 'tp'], bbox_to_anchor=(1, 1))\n",
    "plt.savefig('capture/similarity_graph/result'+file_list[-1]+'.png')"
   ]
  },
  {
   "cell_type": "code",
   "execution_count": 61,
   "metadata": {},
   "outputs": [
    {
     "data": {
      "image/png": "[encoded data removed]",
      "text/plain": [
       "<Figure size 432x288 with 1 Axes>"
      ]
     },
     "metadata": {
      "needs_background": "light"
     },
     "output_type": "display_data"
    }
   ],
   "source": [
    "plt.clf()\n",
    "plt.plot(final_result)\n",
    "plt.legend(['tn', 'fp', 'fn', 'tp'], bbox_to_anchor=(1, 1))\n",
    "plt.savefig('capture/similarity_graph/result'+file_list[-1]+'.png')"
   ]
  },
  {
   "cell_type": "code",
   "execution_count": 50,
   "metadata": {},
   "outputs": [
    {
     "data": {
      "text/plain": [
       "18"
      ]
     },
     "execution_count": 50,
     "metadata": {},
     "output_type": "execute_result"
    }
   ],
   "source": [
    "len(result_list)"
   ]
  },
  {
   "cell_type": "code",
   "execution_count": 60,
   "metadata": {},
   "outputs": [
    {
     "data": {
      "text/plain": [
       "[[0, 0, 0, 18],\n",
       " [0, 1, 0, 17],\n",
       " [0, 1, 0, 17],\n",
       " [0, 3, 0, 15],\n",
       " [0, 3, 0, 15],\n",
       " [0, 5, 0, 13],\n",
       " [0, 8, 0, 10],\n",
       " [0, 8, 0, 10],\n",
       " [0, 11, 0, 7],\n",
       " [0, 18, 0, 0]]"
      ]
     },
     "execution_count": 60,
     "metadata": {},
     "output_type": "execute_result"
    }
   ],
   "source": [
    "final_result"
   ]
  },
  {
   "cell_type": "code",
   "execution_count": 52,
   "metadata": {},
   "outputs": [
    {
     "name": "stdout",
     "output_type": "stream",
     "text": [
      "0.2\n",
      "0.36363636363636365\n",
      "0.36363636363636365\n",
      "0.6153846153846154\n",
      "0.6153846153846154\n",
      "0.5714285714285714\n",
      "0.5714285714285714\n",
      "0.6666666666666666\n",
      "0.875\n",
      "0.875\n",
      "0.875\n",
      "1.0\n",
      "1.0\n",
      "1.0\n",
      "1.0\n",
      "1.0\n",
      "1.0\n",
      "1.0\n"
     ]
    }
   ],
   "source": [
    "for i in result_list:\n",
    "    print(i[np.argmax(i)])"
   ]
  },
  {
   "cell_type": "code",
   "execution_count": 11,
   "metadata": {},
   "outputs": [
    {
     "name": "stdout",
     "output_type": "stream",
     "text": [
      "0_capture.txt\n",
      "10_capture.txt\n",
      "11_capture.txt\n",
      "12_capture.txt\n",
      "13_capture.txt\n",
      "14_capture.txt\n",
      "15_capture.txt\n",
      "15_capture2.txt\n",
      "16_capture.txt\n",
      "17_capture.txt\n",
      "18_capture.txt\n",
      "19_capture.txt\n",
      "1_capture.txt\n",
      "20_capture.txt\n",
      "21_capture.txt\n",
      "22_capture.txt\n"
     ]
    }
   ],
   "source": [
    "import os\n",
    "directory = 'capture/txt/'\n",
    "filelist = os.listdir(directory)\n",
    "\n",
    "for file in filelist:\n",
    "    print(file)"
   ]
  },
  {
   "cell_type": "code",
   "execution_count": 6,
   "metadata": {},
   "outputs": [
    {
     "ename": "SyntaxError",
     "evalue": "cannot assign to operator (<ipython-input-6-010269676aae>, line 2)",
     "output_type": "error",
     "traceback": [
      "\u001b[1;36m  File \u001b[1;32m\"<ipython-input-6-010269676aae>\"\u001b[1;36m, line \u001b[1;32m2\u001b[0m\n\u001b[1;33m    x_+str(i) = []\u001b[0m\n\u001b[1;37m    ^\u001b[0m\n\u001b[1;31mSyntaxError\u001b[0m\u001b[1;31m:\u001b[0m cannot assign to operator\n"
     ]
    }
   ],
   "source": [
    "for i in range(5):\n",
    "    x_+str(i) = []"
   ]
  },
  {
   "cell_type": "code",
   "execution_count": 13,
   "metadata": {},
   "outputs": [],
   "source": [
    "a = [1,7,8,5,4,6,2]"
   ]
  },
  {
   "cell_type": "code",
   "execution_count": 14,
   "metadata": {},
   "outputs": [
    {
     "data": {
      "text/plain": [
       "array([0, 6, 4, 3, 5, 1, 2], dtype=int64)"
      ]
     },
     "execution_count": 14,
     "metadata": {},
     "output_type": "execute_result"
    }
   ],
   "source": [
    "np.argsort(a)"
   ]
  },
  {
   "cell_type": "code",
   "execution_count": 26,
   "metadata": {},
   "outputs": [
    {
     "data": {
      "text/plain": [
       "4"
      ]
     },
     "execution_count": 26,
     "metadata": {},
     "output_type": "execute_result"
    }
   ],
   "source": [
    "a = [1,8,5,7,9,9,4,3,2,6]\n",
    "sorting = np.argsort(a)\n",
    "sorting[-2]"
   ]
  },
  {
   "cell_type": "code",
   "execution_count": 29,
   "metadata": {},
   "outputs": [
    {
     "data": {
      "text/plain": [
       "8"
      ]
     },
     "execution_count": 29,
     "metadata": {},
     "output_type": "execute_result"
    }
   ],
   "source": [
    "a[sorting[-3]]"
   ]
  },
  {
   "cell_type": "code",
   "execution_count": null,
   "metadata": {},
   "outputs": [],
   "source": [
    "for i in range()"
   ]
  },
  {
   "cell_type": "code",
   "execution_count": 169,
   "metadata": {},
   "outputs": [],
   "source": [
    "a = result_list[-5:-3]"
   ]
  },
  {
   "cell_type": "code",
   "execution_count": 170,
   "metadata": {},
   "outputs": [
    {
     "name": "stdout",
     "output_type": "stream",
     "text": [
      "[0.8780487804878049, 0.1951219512195122, 0.13333333333333333, 0.12903225806451613, 0.11428571428571428, 0.10810810810810811, 0.047619047619047616, 0.18181818181818182, 0.25806451612903225, 0.19047619047619047, 0.08695652173913043]\n",
      "[0.9047619047619048, 0.23809523809523808, 0.1935483870967742, 0.1875, 0.16666666666666666, 0.15789473684210525, 0.09302325581395349, 0.23529411764705882, 0.3125, 0.18604651162790697, 0.16666666666666666]\n"
     ]
    }
   ],
   "source": [
    "for i in a:\n",
    "    print(i)"
   ]
  },
  {
   "cell_type": "code",
   "execution_count": 205,
   "metadata": {},
   "outputs": [],
   "source": [
    "compare_list = np.array(a)\n",
    "sorting = np.argsort(-compare_list[1])"
   ]
  },
  {
   "cell_type": "code",
   "execution_count": 206,
   "metadata": {},
   "outputs": [
    {
     "data": {
      "text/plain": [
       "array([[0.87804878, 0.19512195, 0.13333333, 0.12903226, 0.11428571,\n",
       "        0.10810811, 0.04761905, 0.18181818, 0.25806452, 0.19047619,\n",
       "        0.08695652],\n",
       "       [0.9047619 , 0.23809524, 0.19354839, 0.1875    , 0.16666667,\n",
       "        0.15789474, 0.09302326, 0.23529412, 0.3125    , 0.18604651,\n",
       "        0.16666667]])"
      ]
     },
     "execution_count": 206,
     "metadata": {},
     "output_type": "execute_result"
    }
   ],
   "source": [
    "compare_list"
   ]
  },
  {
   "cell_type": "code",
   "execution_count": 201,
   "metadata": {},
   "outputs": [],
   "source": [
    "zzz = compare_list"
   ]
  },
  {
   "cell_type": "code",
   "execution_count": 191,
   "metadata": {},
   "outputs": [],
   "source": [
    "compare_list[0][8] = 0.1"
   ]
  },
  {
   "cell_type": "code",
   "execution_count": 193,
   "metadata": {},
   "outputs": [],
   "source": [
    "inner_present_point = -1\n",
    "next = -1"
   ]
  },
  {
   "cell_type": "code",
   "execution_count": 207,
   "metadata": {},
   "outputs": [
    {
     "name": "stdout",
     "output_type": "stream",
     "text": [
      "aa\n"
     ]
    }
   ],
   "source": [
    "check = False\n",
    "for i in range(len(sorting)):\n",
    "    if((compare_list[1][sorting[i]] >= 0.4) and (compare_list[0][sorting[i]] >= 0.2)):\n",
    "        check = True\n",
    "        inner_present_point = sorting[i]\n",
    "        next = sorting[i+1]\n",
    "        break;\n",
    "        \n",
    "if(check):\n",
    "    print(\"aa\")\n",
    "else:\n",
    "    print(\"11\")"
   ]
  },
  {
   "cell_type": "code",
   "execution_count": 208,
   "metadata": {},
   "outputs": [
    {
     "data": {
      "text/plain": [
       "(0, 8)"
      ]
     },
     "execution_count": 208,
     "metadata": {},
     "output_type": "execute_result"
    }
   ],
   "source": [
    "inner_present_point, next"
   ]
  },
  {
   "cell_type": "code",
   "execution_count": 6,
   "metadata": {},
   "outputs": [
    {
     "ename": "AttributeError",
     "evalue": "'int' object has no attribute 'append'",
     "output_type": "error",
     "traceback": [
      "\u001b[1;31m---------------------------------------------------------------------------\u001b[0m",
      "\u001b[1;31mAttributeError\u001b[0m                            Traceback (most recent call last)",
      "\u001b[1;32m<ipython-input-6-f9a93e34930a>\u001b[0m in \u001b[0;36m<module>\u001b[1;34m\u001b[0m\n\u001b[0;32m      1\u001b[0m \u001b[0ma\u001b[0m \u001b[1;33m=\u001b[0m \u001b[1;33m[\u001b[0m\u001b[1;36m0\u001b[0m\u001b[1;33m,\u001b[0m\u001b[1;36m1\u001b[0m\u001b[1;33m,\u001b[0m\u001b[1;36m2\u001b[0m\u001b[1;33m,\u001b[0m\u001b[1;36m3\u001b[0m\u001b[1;33m,\u001b[0m\u001b[1;36m4\u001b[0m\u001b[1;33m,\u001b[0m\u001b[1;36m5\u001b[0m\u001b[1;33m,\u001b[0m\u001b[1;36m6\u001b[0m\u001b[1;33m,\u001b[0m\u001b[1;36m7\u001b[0m\u001b[1;33m,\u001b[0m\u001b[1;36m8\u001b[0m\u001b[1;33m,\u001b[0m\u001b[1;36m9\u001b[0m\u001b[1;33m]\u001b[0m\u001b[1;33m\u001b[0m\u001b[1;33m\u001b[0m\u001b[0m\n\u001b[1;32m----> 2\u001b[1;33m \u001b[0ma\u001b[0m\u001b[1;33m[\u001b[0m\u001b[1;36m5\u001b[0m\u001b[1;33m]\u001b[0m\u001b[1;33m.\u001b[0m\u001b[0mappend\u001b[0m\u001b[1;33m(\u001b[0m\u001b[1;36m10\u001b[0m\u001b[1;33m,\u001b[0m\u001b[1;36m11\u001b[0m\u001b[1;33m,\u001b[0m\u001b[1;36m12\u001b[0m\u001b[1;33m,\u001b[0m\u001b[1;36m13\u001b[0m\u001b[1;33m)\u001b[0m\u001b[1;33m\u001b[0m\u001b[1;33m\u001b[0m\u001b[0m\n\u001b[0m",
      "\u001b[1;31mAttributeError\u001b[0m: 'int' object has no attribute 'append'"
     ]
    }
   ],
   "source": [
    "a = [0,1,2,3,4,5,6,7,8,9]\n",
    "a[5].append(10,11,12,13)"
   ]
  },
  {
   "cell_type": "code",
   "execution_count": null,
   "metadata": {},
   "outputs": [],
   "source": []
  }
 ],
 "metadata": {
  "kernelspec": {
   "display_name": "Python 3",
   "language": "python",
   "name": "python3"
  },
  "language_info": {
   "codemirror_mode": {
    "name": "ipython",
    "version": 3
   },
   "file_extension": ".py",
   "mimetype": "text/x-python",
   "name": "python",
   "nbconvert_exporter": "python",
   "pygments_lexer": "ipython3",
   "version": "3.8.3"
  }
 },
 "nbformat": 4,
 "nbformat_minor": 4
}
