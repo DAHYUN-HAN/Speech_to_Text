{
 "cells": [
  {
   "cell_type": "code",
   "execution_count": 1,
   "metadata": {},
   "outputs": [],
   "source": [
    "from difflib import SequenceMatcher\n",
    "import numpy as np"
   ]
  },
  {
   "cell_type": "code",
   "execution_count": 339,
   "metadata": {},
   "outputs": [],
   "source": [
    "original = '안녕하세요 현준입니다 반가워요 오늘 제가 읽어 드릴 책은요 얼어 죽어도 아이스 아메리카노라는 책입니다. 얼죽아라고 하죠 얼죽아 읽는 동안 어 위로를 많이 받았습니다. 저와 같은 위로를 여러분들도 같이 느낄 수 있었으면 좋겠다 라는 마음에 이 책을 읽게 됐어요 읽어드릴게요 만족하지 못하면 외롭다 불만이 많은 사람들은 대부분의 잘못 들을 타인에게 돌리고 걱정이 많은 사람들은 쓸모없는 것까지 굳이 싸잡아 자신에게 돌린다 전자의 경우엔 화가 많고 후자의 경우엔 슬픔이 많다 그리고 둘 다 외롭다'\n",
    "new_original = original.replace(\" \", \"\")\n",
    "\n",
    "google = '안녕하세요 현실입니다 반가워요 오늘 제가 읽어 드릴게요 그뇨 얼어죽어도 아이스 아메리카노 하는 소립니다 얼죽 아라고 가정을 주가 있는 동안 위로를 많이 받았습니다 저와 같은 일을 여러분들도 같이 느낄 수 있었으면 좋겠다 나는 마음에이 책을 읽기 됐어요 이거 드릴게요 만족하지 못하면 외롭다 불만이 많은 사람들은 대부분의 잘못들을 타인에게 돌리고 걱정이 많은 사람들은 쓸모 없는 것까지 그 대상자가 자 신에게 돌린다 전자의 경우 엔화가 많고 부자의 경우엔 제품이 많다 그리고 둘 다 알았다'\n",
    "new_google = google.replace(\" \", \"\")\n",
    "\n",
    "naver = '안녕하세요 현준입니다. 반가워요 오늘 제가 읽어드릴 책은요. 얼어죽어도 아이스 아메리카노라는 책입니다. 얼주가라고 하죠. 얼주가 읽는 동안 위로를 많이 받았습니다. 저와 같은 위로를 여러분들도 같이 느낄 수 있었으면 좋겠다. 라는 마음에 이 책을 읽게 됐어요. 읽어드릴게요 만족하지 못하면 외롭다. 불만이 많은 사람들은 대부분의 잘못들을 타인에게 돌리고. 걱정이 많은 사람들은 쓸모없는 것까지 그들이 싸잡아 자신에게 돌린다. 전자의 경우에는 화가 많고. 부자의 경우에는 슬픔이 많다. 그리고 둘 다 외롭다'\n",
    "new_naver = naver.replace(\" \", \"\")"
   ]
  },
  {
   "cell_type": "code",
   "execution_count": 181,
   "metadata": {},
   "outputs": [
    {
     "name": "stdout",
     "output_type": "stream",
     "text": [
      "0.7875457875457875\n"
     ]
    }
   ],
   "source": [
    "ratio = SequenceMatcher(None, original, google).ratio()\n",
    "print(ratio)"
   ]
  },
  {
   "cell_type": "code",
   "execution_count": 340,
   "metadata": {},
   "outputs": [
    {
     "name": "stdout",
     "output_type": "stream",
     "text": [
      "0.9289099526066351\n"
     ]
    }
   ],
   "source": [
    "ratio = SequenceMatcher(None, new_original, new_naver).ratio()\n",
    "print(ratio)"
   ]
  },
  {
   "cell_type": "code",
   "execution_count": 203,
   "metadata": {},
   "outputs": [],
   "source": [
    "original2 = '나는 마음을 돌리고 다시 주저앉았다. 묵직한 발소리가 계단 열일곱 개를 올라 차츰 가까이에 왔다. 마침 내 방 문 앞에서 발소리가 딱 멈추고 곧이어 노크 소리가 났다. 예 들어오십시오 홈즈의 대답에 벌컥 문을 열고 방안으로 들어선 사람은 그리스 신화에 나오는 헤라클레스처럼 건장한 몸집에 위엄 있는 얼굴을 한 남자였다. 입은 옷 또한 무척이나 화려했다. 윗옷 소매와 깃 가장자리에 값진 아스트라칸 모피가 달려 있었으며 어깨에 걸친 청색 망토의 안감은 눈에 확 띄는 노란 비단이었다. 그리고 아름다운 에메랄드로 장식'\n",
    "new_original2 = original2.replace(\" \", \"\")\n",
    "\n",
    "google2 = '나는 마음을 돌리고 다시 주저앉았다 묵직한 발소리가 계단 요리법 개를 올라 차츰 가까이에 왔다 마침 내 방 문 앞에서 발 소리가 딱 멈추고 오디오 노크 소리가났다 예 들어오십시오 홍제 대답해 벌컥 문을 열고 방 안으로 들어 쓴 사람은 그리스 신화에 나오는 헤라클레스처럼 건전한 먹을 집에 위엄있는 얼굴 한 남자였다 어떠한 무척이나 화려했다 withmania 깃 가장자리의 값진 아스트라 칸무비가 달려 있었으며 어깨에 걸친 청색 망토의 안감은 눈에 확 띄는 노란빛 아니었다 그리고 아름다운 에메랄드를'\n",
    "new_google2 = google2.replace(\" \", \"\")\n",
    "\n",
    "naver2 = '나는 마음을 돌리고 다시 주저앉았다. 묵직한 발소리가 계단 17개를 올라차츰 가까이에 왔다. 마침 내 방문 앞에서 발소리가 딱 멈추고. 곧이어 노크 소리가 났다. 들어오십시오 홍제의 대답에 벌컥 문을 열고 방 안으로 들어선 사람은. 그릇의 신화에 나오는 헤라클래스처럼 건장한 몸집에 위험이 있는 얼굴을 한 남자였다. 입은 옷 또한 무척이나 화려했다. 위도 소매와 기 가장자리에 값진 아스트라칸 모피가 달려 있었으며. 어깨에 걸친 청색 망토의 안감은 눈에 확 띄는 노란 비단이었다. 그리고 아름다운 에메랄드로 자식. 등'\n",
    "new_naver2 = naver2.replace(\" \", \"\")"
   ]
  },
  {
   "cell_type": "code",
   "execution_count": 204,
   "metadata": {},
   "outputs": [
    {
     "name": "stdout",
     "output_type": "stream",
     "text": [
      "0.8353808353808354\n"
     ]
    }
   ],
   "source": [
    "ratio = SequenceMatcher(None, new_original, new_google).ratio()\n",
    "print(ratio)"
   ]
  },
  {
   "cell_type": "code",
   "execution_count": 205,
   "metadata": {},
   "outputs": [
    {
     "name": "stdout",
     "output_type": "stream",
     "text": [
      "0.8305489260143198\n"
     ]
    }
   ],
   "source": [
    "ratio = SequenceMatcher(None, new_original2, new_google2).ratio()\n",
    "print(ratio)"
   ]
  },
  {
   "cell_type": "code",
   "execution_count": 206,
   "metadata": {},
   "outputs": [
    {
     "name": "stdout",
     "output_type": "stream",
     "text": [
      "0.8037825059101655\n"
     ]
    }
   ],
   "source": [
    "ratio = SequenceMatcher(None, new_naver2, new_google2).ratio()\n",
    "print(ratio)"
   ]
  },
  {
   "cell_type": "code",
   "execution_count": 207,
   "metadata": {},
   "outputs": [
    {
     "name": "stdout",
     "output_type": "stream",
     "text": [
      "0.7337807606263982\n",
      "0.710691823899371\n"
     ]
    }
   ],
   "source": [
    "original3 = '가족이라며 아프면 아프다 힘들면 힘들다 말할 수 있는 게 가족 아니야? 어.. 뭘 어떻게 해야 할지 잘 모르겠는데 내가 포기한 거 아니야 나도 어떻게든 끝까지 하고 싶어 그럼 하면 되잖아 오빠 야 하고 싶은 마음만 있으면 우리 언제든 다시 시작할 수 있어 우리 젊어 오빠 내가 어디서 들었는데 어떻게 해야 될지 모를 때는 그냥 하는 거래 그냥 막 하다 보면 거기 끝에 답이 보인다고 하더라고 어? 무대뽀 정신 알겠지 진아 무대뽀는 일본 잔재어잖아 우리 표준어 써야지 표준어'\n",
    "new_original3 = original3.replace(\" \", \"\")\n",
    "\n",
    "google3 = '할 수 있는게 가져가냐 어떻게 하는지 잘 모르겠어 포기한 거 아니야 나도 어떻게든 끝까지 하고 싶어 하고 싶은 말 있으면 우리 언제든 다시 시작할 수 있어 우리 젊어 내가 어디서 들었는데 어떻게 해야 될지 모르겠네 그냥 하는 거래 그냥 막 하다 보면 거기 근데 다들 보인다고 하 더라고 알겠지 싫어 일본잔재 오잖아 써야지 표준어'\n",
    "new_google3 = google3.replace(\" \", \"\")\n",
    "\n",
    "naver3 = '가족이라며 아프면 아프다. 힘들면 말할 수 있는게 가족 아니야. 어떻게 해야 할지 잘 모르겠어요. 내가 포기한 거 아니야. 나도 어떻게든 끝까지 하고 싶어. 하고 싶은 마음만 있으면 우리 언제든 다시 시작할 수 있어. 우리 젊어. 내가 어디서 들었는데 어떻게 해야 될지 모를 때는 그냥 하는 거래. 그냥. 막 하다 보면 거기 끝에 답이 보인다고 하더라고. 어 운전보다. 알겠지 신랑 모델 보는 일본 잔재 오잖아.우리 혁신 왔어요.'\n",
    "new_naver3 = naver3.replace(\" \", \"\")\n",
    "\n",
    "ratio = SequenceMatcher(None, original3, google3).ratio()\n",
    "print(ratio)\n",
    "\n",
    "ratio = SequenceMatcher(None, new_original3, new_google3).ratio()\n",
    "print(ratio)"
   ]
  },
  {
   "cell_type": "code",
   "execution_count": 220,
   "metadata": {},
   "outputs": [],
   "source": [
    "s1 = '전자의 경우엔 화가 많고 후자의 경우엔 슬픔이 많다 그리고 둘 다 외롭다'\n",
    "s2 = '전자의 경우 엔화가 많고 부자의 경우엔 제품이 많다 그리고 둘 다 알았다'\n",
    "\n",
    "new_s1 = s1.replace(\" \", \"\")\n",
    "new_s2 = s2.replace(\" \", \"\")"
   ]
  },
  {
   "cell_type": "code",
   "execution_count": 221,
   "metadata": {},
   "outputs": [
    {
     "name": "stdout",
     "output_type": "stream",
     "text": [
      "0.55\n"
     ]
    }
   ],
   "source": [
    "ratio = SequenceMatcher(None, s1, s2).ratio()\n",
    "print(ratio)"
   ]
  },
  {
   "cell_type": "code",
   "execution_count": 212,
   "metadata": {},
   "outputs": [
    {
     "name": "stdout",
     "output_type": "stream",
     "text": [
      "0.8275862068965517\n"
     ]
    }
   ],
   "source": [
    "ratio = SequenceMatcher(None, new_s1, new_s2).ratio()\n",
    "print(ratio)"
   ]
  },
  {
   "cell_type": "code",
   "execution_count": 213,
   "metadata": {},
   "outputs": [
    {
     "name": "stdout",
     "output_type": "stream",
     "text": [
      "0.8923076923076924\n",
      "0.8571428571428571\n"
     ]
    }
   ],
   "source": [
    "s1 = '묵직한 발소리가 계단 열일곱 개를 올라 차츰 가까이에 왔다.'\n",
    "s2 = '묵직한 발소리가 계단 요리법 개를 올라 차츰 가까이에 왔다'\n",
    "\n",
    "new_s1 = s1.replace(\" \", \"\")\n",
    "new_s2 = s2.replace(\" \", \"\")\n",
    "\n",
    "ratio = SequenceMatcher(None, s1, s2).ratio()\n",
    "print(ratio)\n",
    "\n",
    "ratio = SequenceMatcher(None, new_s1, new_s2).ratio()\n",
    "print(ratio)"
   ]
  },
  {
   "cell_type": "code",
   "execution_count": 338,
   "metadata": {},
   "outputs": [
    {
     "name": "stdout",
     "output_type": "stream",
     "text": [
      "0.7783783783783784\n",
      "0.9361702127659575\n"
     ]
    }
   ],
   "source": [
    "s1 = '헤라클레스처럼 건장한 몸집에 위엄 있는 얼굴을 한 남자였다. 입은 옷 또한 무척이나 화려했다. 윗옷 소매와 깃 가장자리에 값진 아스트라칸 모피가 달려 있었으며 어깨에 걸친 청색 망토의 안감은 눈에 확 띄는 노란 비단이었다.'\n",
    "s2 = '헤라클레스처럼 건전한 먹을 집에 위엄있는 얼굴 한 남자였다 어떠한 무척이나 화려했다 withmania 깃 가장자리의 값진 아스트라 칸무비가 달려 있었으며 어깨에 걸친 청색 망토의 안감은 눈에 확 띄는 노란빛 아니었다'\n",
    "s3 = '헤라클래스처럼 건장한 몸집에 위험이 있는 얼굴을 한 남자였다. 입은 옷 또한 무척이나 화려했다. 위도 소매와 기 가장자리에 값진 아스트라칸 모피가 달려 있었으며. 어깨에 걸친 청색 망토의 안감은 눈에 확 띄는 노란 비단이었다.'\n",
    "\n",
    "new_s1 = s1.replace(\" \", \"\")\n",
    "new_s2 = s2.replace(\" \", \"\")\n",
    "new_s3 = s3.replace(\" \", \"\")\n",
    "\n",
    "\n",
    "ratio = SequenceMatcher(None, new_s1, new_s2).ratio()\n",
    "print(ratio)\n",
    "\n",
    "\n",
    "ratio = SequenceMatcher(None, new_s1, new_s3).ratio()\n",
    "print(ratio)"
   ]
  },
  {
   "cell_type": "code",
   "execution_count": 217,
   "metadata": {},
   "outputs": [
    {
     "name": "stdout",
     "output_type": "stream",
     "text": [
      "0.5565749235474006\n",
      "0.5450733752620545\n",
      "0.6798603026775321\n",
      "0.6645669291338583\n"
     ]
    }
   ],
   "source": [
    "s1 = '갖다주러 온 것뿐이예요 니가 어제 여기 제 발로 찾아왔잖아 아니 내가 모르는 의상 반출이 있었어? (데려와) 아 어제 여기 와서 페인트칠 일단 아 잠깐만 잠깐만 변명하지 마 ... 말을 했어야 할거 아냐 어떻게 연구소를 니 멋대로..? 장부를 적어야지 저기요! 어쨌든 저는 제 할 일 다 했고요 이만 가보겠습니다. 잠깐잠깐사람 팔을 이렇게 만들고 가긴 어딜 간다 그래 신입부원 등록해야지 정말 일관되게 무례하시네요 아아아아아 ``씨 일단 여기 앉으시고 죄송합니다 실례가 안된다면 제가 잠시 개입을 해도 될까요? 상황을 대충 들어보니까 이제 어 대충 알 거 같네요 영업부를 대신해서 제가 대신 사과드리겠습니다. 차렷 경례 ... 반드시 연극부에 들어올 필요는 없지만 그래도 자세한 설명을 한번 들어보시고 생각해보시면 어떨까요? 여기는 지난 몇  년 동안 한번도 공연을 올리지 않은'\n",
    "s2 = '네가 어제 여기 이제 바로 찾았잖아 내가 모든 음성 관심이 있었어 어제 여기 와서 어쨌든 저는 제 할 일 다 했고요 보겠습니다 그래 노력해야지 실례가 안 된다면 제가 잠시 개입을 해도 될까요 대충 들어 보니까 이제 봤네요 영업 을 대신해서 전에 반드시 영등포에 들어 올 수는 없지만 그래도 자세한 설명 한번 들어 보시고 생각해 보시면 어떨까요 여기는  지난 몇 년 동안 한 번도 구매 돌리자는'\n",
    "s3 = '이제 보여주고 해주러 온 거 뿐이에요. 니가 어제 여기 제 발로 찾아왔잖아. 아니 내가 모르는 미사가 집에 있었어. 어제 여기 와서 아니 아니야 아니야. 야. 어떻게 여기서부터 니 멋대로 흘러도 너무 많이 나와요. 우리가 지나가는 거 봐야죠. 장군 저기요. 어쨌든 저는 제 할 일 다 했고요. 이만 가보겠습니다. 오빠 잠깐만 잠깐만. 사람 팔을 이렇게 만들고 가긴 어딜 간다 그래. 힘이 빠져서 어떻게 해야지 정말. 실례가 안 된다면 제가 잠시 개입을 해도 될까요. 어. 저 상황을 대충 들어보니까 이제 됐지만 알 것 같네요. 영업부를 대신해서 저희가 사과드리겠습니다. 차렷 경례. 같이 해야 한다. 반드시 연극부에 들어올 필요는 없지만 그래도 자세한 설명을 한번 들어보시고 생각해보시면 어떨까요. 여기는 지난 몇 년 동안 한번도 공연을 올리자는. 아. 나.'\n",
    "\n",
    "new_s1 = s1.replace(\" \", \"\")\n",
    "new_s2 = s2.replace(\" \", \"\")\n",
    "new_s3 = s3.replace(\" \", \"\")\n",
    "\n",
    "ratio = SequenceMatcher(None, s1, s2).ratio()\n",
    "print(ratio)\n",
    "\n",
    "ratio = SequenceMatcher(None, new_s1, new_s2).ratio()\n",
    "print(ratio)\n",
    "\n",
    "ratio = SequenceMatcher(None, s1, s3).ratio()\n",
    "print(ratio)\n",
    "\n",
    "ratio = SequenceMatcher(None, new_s1, new_s3).ratio()\n",
    "print(ratio)"
   ]
  },
  {
   "cell_type": "code",
   "execution_count": 219,
   "metadata": {},
   "outputs": [
    {
     "name": "stdout",
     "output_type": "stream",
     "text": [
      "0.5945945945945946\n",
      "0.5\n",
      "0.7142857142857143\n",
      "0.625\n"
     ]
    }
   ],
   "source": [
    "s1 = '아니 내가 모르는 의상 반출이 있었어?'\n",
    "s2 = '내가 모든 음성 관심이 있었어'\n",
    "s3 = '아니 내가 모르는 미사가 집에 있었어.'\n",
    "\n",
    "new_s1 = s1.replace(\" \", \"\")\n",
    "new_s2 = s2.replace(\" \", \"\")\n",
    "new_s3 = s3.replace(\" \", \"\")\n",
    "\n",
    "ratio = SequenceMatcher(None, s1, s2).ratio()\n",
    "print(ratio)\n",
    "\n",
    "ratio = SequenceMatcher(None, new_s1, new_s2).ratio()\n",
    "print(ratio)\n",
    "\n",
    "ratio = SequenceMatcher(None, s1, s3).ratio()\n",
    "print(ratio)\n",
    "\n",
    "ratio = SequenceMatcher(None, new_s1, new_s3).ratio()\n",
    "print(ratio)"
   ]
  },
  {
   "cell_type": "code",
   "execution_count": 365,
   "metadata": {},
   "outputs": [
    {
     "name": "stdout",
     "output_type": "stream",
     "text": [
      "0.6\n",
      "0.6\n"
     ]
    }
   ],
   "source": [
    "s1 = '얼죽아라고하죠얼죽아'\n",
    "s2 = '얼주가라고하죠얼주가'\n",
    "\n",
    "new_s1 = s1.replace(\" \", \"\")\n",
    "new_s2 = s2.replace(\" \", \"\")\n",
    "\n",
    "ratio = SequenceMatcher(None, s1, s2).ratio()\n",
    "print(ratio)\n",
    "\n",
    "ratio = SequenceMatcher(None, new_s1, new_s2).ratio()\n",
    "print(ratio)"
   ]
  },
  {
   "cell_type": "code",
   "execution_count": null,
   "metadata": {},
   "outputs": [],
   "source": []
  },
  {
   "cell_type": "code",
   "execution_count": null,
   "metadata": {},
   "outputs": [],
   "source": []
  },
  {
   "cell_type": "code",
   "execution_count": null,
   "metadata": {},
   "outputs": [],
   "source": []
  },
  {
   "cell_type": "code",
   "execution_count": null,
   "metadata": {},
   "outputs": [],
   "source": []
  },
  {
   "cell_type": "code",
   "execution_count": null,
   "metadata": {},
   "outputs": [],
   "source": []
  },
  {
   "cell_type": "code",
   "execution_count": null,
   "metadata": {},
   "outputs": [],
   "source": []
  },
  {
   "cell_type": "code",
   "execution_count": 367,
   "metadata": {},
   "outputs": [],
   "source": [
    "s1 = ['안녕하세요 현준입니다 반가워요',\n",
    "'오늘 제가 읽어 드릴 책은요',\n",
    "'얼어 죽어도 아이스 아메리카노라는 책입니다.',\n",
    "'얼죽아라고 하죠 얼죽아',\n",
    "'읽는 동안 어 위로를 많이 받았습니다.',\n",
    "'저와 같은 위로를 여러분들도 같이 느낄 수 있었으면 좋겠다',\n",
    "'라는 마음에 이 책을 읽게 됐어요 읽어드릴게요',\n",
    "'만족하지 못하면 외롭다',\n",
    "'불만이 많은 사람들은 대부분의 잘못 들을 타인에게 돌리고',\n",
    "'걱정이 많은 사람들은 쓸모없는 것까지 굳이 싸잡아 자신에게 돌린다',\n",
    "'전자의 경우엔 화가 많고',\n",
    "'후자의 경우엔 슬픔이 많다',\n",
    "'그리고 둘 다 외롭다']\n",
    "\n",
    "s2 = ['안녕하세요 현준입니다. 반가워요',\n",
    "'오늘 제가 읽어드릴 책은요.',\n",
    "'얼어죽어도 아이스 아메리카노라는 책입니다.',\n",
    "'얼주가라고 하죠. 얼주가',\n",
    "'읽는 동안 위로를 많이 받았습니다.',\n",
    "'저와 같은 위로를 여러분들도 같이 느낄 수 있었으면 좋겠다.',\n",
    "'라는 마음에 이 책을 읽게 됐어요. 읽어드릴게요',\n",
    "'만족하지 못하면 외롭다.',\n",
    "'불만이 많은 사람들은 대부분의 잘못들을 타인에게 돌리고.',\n",
    "'걱정이 많은 사람들은 쓸모없는 것까지 그들이 싸잡아 자신에게 돌린다.',\n",
    "'전자의 경우에는 화가 많고.',\n",
    "'부자의 경우에는 슬픔이 많다.',\n",
    "'그리고 둘 다 외롭다']"
   ]
  },
  {
   "cell_type": "code",
   "execution_count": 368,
   "metadata": {},
   "outputs": [
    {
     "data": {
      "text/plain": [
       "'안녕하세요 현준입니다 반가워요'"
      ]
     },
     "execution_count": 368,
     "metadata": {},
     "output_type": "execute_result"
    }
   ],
   "source": [
    "s1[0]"
   ]
  },
  {
   "cell_type": "code",
   "execution_count": 369,
   "metadata": {},
   "outputs": [
    {
     "data": {
      "text/plain": [
       "'안녕하세요 현준입니다. 반가워요'"
      ]
     },
     "execution_count": 369,
     "metadata": {},
     "output_type": "execute_result"
    }
   ],
   "source": [
    "s2[0]"
   ]
  },
  {
   "cell_type": "code",
   "execution_count": 394,
   "metadata": {},
   "outputs": [
    {
     "name": "stdout",
     "output_type": "stream",
     "text": [
      "STT 결과: \t 이제보여주고해주러온거뿐이에요\n",
      "대사에서 찾지 못함\n",
      "유사도: \t 0.00\n",
      "\n",
      "대사: \t\t 니가어제여기제발로찾아왔잖아\n",
      "STT 결과: \t 니가어제여기제발로찾아왔잖아\n",
      "유사도: \t 1.00\n",
      "\n",
      "대사: \t\t 아니내가모르는의상반출이있었어\n",
      "STT 결과: \t 아니내가모르는미사가집에있었어\n",
      "유사도: \t 0.67\n",
      "\n",
      "STT 결과: \t 어제여기와서아니아니야아니야\n",
      "대사에서 찾지 못함\n",
      "유사도: \t 1.00\n",
      "\n",
      "대사: \t\t 어떻게연구소를니멋대로\n",
      "STT 결과: \t 야어떻게여기서부터니멋대로\n",
      "유사도: \t 0.58\n",
      "\n",
      "STT 결과: \t 흘러도너무많이나와요\n",
      "대사에서 찾지 못함\n",
      "유사도: \t 0.00\n",
      "\n",
      "STT 결과: \t 우리가지나가는거봐야죠\n",
      "대사에서 찾지 못함\n",
      "유사도: \t 2.00\n",
      "\n",
      "STT 결과: \t 장군\n",
      "대사에서 찾지 못함\n",
      "유사도: \t 7.00\n",
      "\n"
     ]
    }
   ],
   "source": [
    "\n",
    "for i in range(len(s2)):\n",
    "    detect = 0\n",
    "    all_ratio = []\n",
    "    for j in range(len(s1)):\n",
    "        new_s1 = s1[j].replace(\" \", \"\")\n",
    "        new_s2 = s2[i].replace(\" \", \"\")\n",
    "        new_s1 = new_s1.replace(\".\", \"\")\n",
    "        new_s2 = new_s2.replace(\".\", \"\")\n",
    "        ratio = SequenceMatcher(None, new_s1, new_s2).ratio()\n",
    "        all_ratio.append(ratio)\n",
    "        if(ratio > 0.5):\n",
    "            detect = 1\n",
    "            print('대사: \\t\\t', new_s1)\n",
    "            print('STT 결과: \\t', new_s2)\n",
    "            print('유사도: \\t %.2f' % ratio)\n",
    "            print()\n",
    "            \n",
    "    if(not detect):\n",
    "        print('STT 결과: \\t', new_s2)\n",
    "        print('대사에서 찾지 못함')\n",
    "        print('유사도: \\t %.2f' % np.argmax(all_ratio))\n",
    "        print()"
   ]
  },
  {
   "cell_type": "code",
   "execution_count": 398,
   "metadata": {},
   "outputs": [
    {
     "data": {
      "text/plain": [
       "'장부를 적어야지 '"
      ]
     },
     "execution_count": 398,
     "metadata": {},
     "output_type": "execute_result"
    }
   ],
   "source": [
    "s1[7]"
   ]
  },
  {
   "cell_type": "code",
   "execution_count": 405,
   "metadata": {},
   "outputs": [
    {
     "name": "stdout",
     "output_type": "stream",
     "text": [
      "원본: 일단 아 잠깐만 잠깐만 변명하지 마 \n",
      "\n",
      "비교: 이제보여주고해주러온거뿐이에요\n",
      "0.00\n",
      "비교: 니가어제여기제발로찾아왔잖아\n",
      "0.07\n",
      "비교: 아니내가모르는미사가집에있었어\n",
      "0.07\n",
      "비교: 어제여기와서아니아니야아니야\n",
      "0.07\n",
      "비교: 야어떻게여기서부터니멋대로\n",
      "0.00\n",
      "비교: 흘러도너무많이나와요\n",
      "0.00\n",
      "비교: 우리가지나가는거봐야죠\n",
      "0.08\n",
      "비교: 장군\n",
      "0.00\n"
     ]
    }
   ],
   "source": [
    "print('원본:', s1[4], '\\n')\n",
    "for i in range(len(s1)):    \n",
    "    new_s1 = s1[4].replace(\" \", \"\")\n",
    "    new_s2 = s2[i].replace(\" \", \"\")\n",
    "    new_s1 = new_s1.replace(\".\", \"\")\n",
    "    new_s2 = new_s2.replace(\".\", \"\")\n",
    "    \n",
    "    print('비교:', new_s2)\n",
    "\n",
    "    ratio = SequenceMatcher(None, new_s1, new_s2).ratio()\n",
    "    print('%.2f' % ratio)"
   ]
  },
  {
   "cell_type": "code",
   "execution_count": 276,
   "metadata": {},
   "outputs": [
    {
     "name": "stdout",
     "output_type": "stream",
     "text": [
      "\n",
      "정답: 1\n",
      "예측: 1\n",
      "\n",
      "정답: 2\n",
      "예측: 2\n",
      "\n",
      "정답: 3\n",
      "예측: 3\n",
      "\n",
      "정답: 4\n",
      "예측: 4\n",
      "\n",
      "정답: 5\n",
      "예측: 5\n",
      "\n",
      "정답: 6\n",
      "예측: 6\n",
      "\n",
      "정답: 7\n",
      "예측: 7\n",
      "\n",
      "정답: 8\n",
      "예측: 8\n",
      "\n",
      "정답: 9\n",
      "예측: 9\n",
      "\n",
      "정답: 10\n",
      "예측: 10\n",
      "\n",
      "정답: 11\n",
      "예측: 11\n",
      "\n",
      "정답: 12\n",
      "예측: 12\n",
      "\n",
      "정답: 13\n",
      "예측: 13\n"
     ]
    }
   ],
   "source": [
    "\n",
    "for i in range(len(s1)): \n",
    "    all_ratio = []\n",
    "    print('\\n정답:', i+1)\n",
    "    for j in range(len(s2)):\n",
    "        new_s1 = s1[i].replace(\" \", \"\")\n",
    "        new_s2 = s2[j].replace(\" \", \"\")\n",
    "\n",
    "        ratio = SequenceMatcher(None, new_s1, new_s2).ratio()\n",
    "        all_ratio.append(ratio)\n",
    "        #print(j+1, ': %.2f' % ratio)\n",
    "    print('예측:', np.argmax(all_ratio)+1)"
   ]
  },
  {
   "cell_type": "code",
   "execution_count": null,
   "metadata": {},
   "outputs": [],
   "source": []
  },
  {
   "cell_type": "code",
   "execution_count": 378,
   "metadata": {},
   "outputs": [],
   "source": [
    "s1=['나는 마음을 돌리고 다시 주저앉았다.',\n",
    "'묵직한 발소리가 계단 열일곱 개를 올라 차츰 가까이에 왔다.',\n",
    "'마침 내 방 문 앞에서 발소리가 딱 멈추고 곧이어 노크 소리가 났다.',\n",
    "'예 들어오십시오','홈즈의 대답에 벌컥 문을 열고 방안으로 들어선 사람은 그리스 신화에 나오는 헤라클레스처럼 건장한 몸집에 위엄 있는 얼굴을 한 남자였다.',\n",
    "'입은 옷 또한 무척이나 화려했다.',\n",
    "'윗옷 소매와 깃 가장자리에 값진 아스트라칸 모피가 달려 있었으며',\n",
    "'어깨에 걸친 청색 망토의 안감은 눈에 확 띄는 노란 비단이었다.',\n",
    "'그리고 아름다운 에메랄드로 장식']\n",
    "\n",
    "s2 = ['나는 마음을 돌리고 다시 주저앉았다.',\n",
    "'묵직한 발소리가 계단 17개를 올라차츰 가까이에 왔다.',\n",
    "'마침 내 방문 앞에서 발소리가 딱 멈추고. 곧이어 노크 소리가 났다.',\n",
    "'들어오십시오','홍제의 대답에 벌컥 문을 열고 방 안으로 들어선 사람은. 그릇의 신화에 나오는 헤라클래스처럼 건장한 몸집에 위험이 있는 얼굴을 한 남자였다.',\n",
    "'입은 옷 또한 무척이나 화려했다.',\n",
    "'위도 소매와 기 가장자리에 값진 아스트라칸 모피가 달려 있었으며.',\n",
    "'어깨에 걸친 청색 망토의 안감은 눈에 확 띄는 노란 비단이었다.',\n",
    "'그리고 아름다운 에메랄드로 자식. 등']"
   ]
  },
  {
   "cell_type": "code",
   "execution_count": 278,
   "metadata": {},
   "outputs": [
    {
     "name": "stdout",
     "output_type": "stream",
     "text": [
      "\n",
      "정답: 1\n",
      "예측: 1\n",
      "\n",
      "정답: 2\n",
      "예측: 2\n",
      "\n",
      "정답: 3\n",
      "예측: 3\n",
      "\n",
      "정답: 4\n",
      "예측: 4\n",
      "\n",
      "정답: 5\n",
      "예측: 5\n",
      "\n",
      "정답: 6\n",
      "예측: 6\n",
      "\n",
      "정답: 7\n",
      "예측: 7\n",
      "\n",
      "정답: 8\n",
      "예측: 8\n"
     ]
    }
   ],
   "source": [
    "import numpy as np\n",
    "for i in range(len(s1)): \n",
    "    all_ratio = []\n",
    "    print('\\n정답:', i+1)\n",
    "    for j in range(len(s2)):\n",
    "        new_s1 = s1[i].replace(\" \", \"\")\n",
    "        new_s2 = s2[j].replace(\" \", \"\")\n",
    "\n",
    "        ratio = SequenceMatcher(None, new_s1, new_s2).ratio()\n",
    "        all_ratio.append(ratio)\n",
    "        #print(j+1, ': %.2f' % ratio)\n",
    "    print('예측:', np.argmax(all_ratio)+1)"
   ]
  },
  {
   "cell_type": "code",
   "execution_count": 382,
   "metadata": {},
   "outputs": [],
   "source": [
    "s1=['가족이라며 아프면 아프다 힘들면 힘들다 말할 수 있는 게 가족 아니야',\n",
    "'어.. 뭘 어떻게 해야 할지 잘 모르겠는데 내가 포기한 거 아니야',\n",
    "'나도 어떻게든 끝까지 하고 싶어',\n",
    "'그럼 하면 되잖아 오빠',\n",
    "'야 하고 싶은 마음만 있으면 우리 언제든 다시 시작할 수 있어 우리 젊어',\n",
    "'오빠 내가 어디서 들었는데 어떻게 해야 될지 모를 때는 그냥 하는 거래 그냥 막 하다 보면 거기 끝에 답이 보인다고 하더라고 어 무대뽀 정신 알겠지',\n",
    "'진아 무대뽀는 일본 잔재어잖아',\n",
    "'우리 표준어 써야지 표준어']\n",
    "\n",
    "s2=['가족이라며 아프면 아프다. 힘들면 말할 수 있는게 가족 아니야.',\n",
    "'어떻게 해야 할지 잘 모르겠어요. 내가 포기한 거 아니야.',\n",
    "'나도 어떻게든 끝까지 하고 싶어.',\n",
    "'하고 싶은 마음만 있으면 우리 언제든 다시 시작할 수 있어. 우리 젊어.',\n",
    "'내가 어디서 들었는데 어떻게 해야 될지 모를 때는 그냥 하는 거래. 그냥. 막 하다 보면 거기 끝에 답이 보인다고 하더라고. 어 운전보다. 알겠지',\n",
    "'신랑 모델 보는 일본 잔재 오잖아.',\n",
    "'우리 혁신 왔어요.']"
   ]
  },
  {
   "cell_type": "code",
   "execution_count": 284,
   "metadata": {},
   "outputs": [
    {
     "name": "stdout",
     "output_type": "stream",
     "text": [
      "\n",
      "정답: 1\n",
      "예측: 1\n",
      "\n",
      "정답: 2\n",
      "예측: 2\n",
      "\n",
      "정답: 3\n",
      "예측: 3\n",
      "\n",
      "정답: 4\n",
      "예측: 6\n",
      "\n",
      "정답: 5\n",
      "예측: 4\n",
      "\n",
      "정답: 6\n",
      "예측: 5\n",
      "\n",
      "정답: 7\n",
      "예측: 6\n",
      "\n",
      "정답: 8\n",
      "예측: 7\n"
     ]
    }
   ],
   "source": [
    "import numpy as np\n",
    "for i in range(len(s1)): \n",
    "    all_ratio = []\n",
    "    print('\\n정답:', i+1)\n",
    "    for j in range(len(s2)):\n",
    "        new_s1 = s1[i].replace(\" \", \"\")\n",
    "        new_s2 = s2[j].replace(\" \", \"\")\n",
    "\n",
    "        ratio = SequenceMatcher(None, new_s1, new_s2).ratio()\n",
    "        all_ratio.append(ratio)\n",
    "        #print(j+1, ': %.2f' % ratio)\n",
    "    print('예측:', np.argmax(all_ratio)+1)"
   ]
  },
  {
   "cell_type": "code",
   "execution_count": 389,
   "metadata": {},
   "outputs": [
    {
     "ename": "IndexError",
     "evalue": "list index out of range",
     "output_type": "error",
     "traceback": [
      "\u001b[1;31m---------------------------------------------------------------------------\u001b[0m",
      "\u001b[1;31mIndexError\u001b[0m                                Traceback (most recent call last)",
      "\u001b[1;32m<ipython-input-389-f5c14f17bf15>\u001b[0m in \u001b[0;36m<module>\u001b[1;34m\u001b[0m\n\u001b[1;32m----> 1\u001b[1;33m \u001b[0mprint\u001b[0m\u001b[1;33m(\u001b[0m\u001b[1;34m'원본:'\u001b[0m\u001b[1;33m,\u001b[0m \u001b[0ms1\u001b[0m\u001b[1;33m[\u001b[0m\u001b[1;36m5\u001b[0m\u001b[1;33m]\u001b[0m\u001b[1;33m,\u001b[0m \u001b[1;34m'\\n'\u001b[0m\u001b[1;33m)\u001b[0m\u001b[1;33m\u001b[0m\u001b[1;33m\u001b[0m\u001b[0m\n\u001b[0m\u001b[0;32m      2\u001b[0m \u001b[1;32mfor\u001b[0m \u001b[0mi\u001b[0m \u001b[1;32min\u001b[0m \u001b[0mrange\u001b[0m\u001b[1;33m(\u001b[0m\u001b[0mlen\u001b[0m\u001b[1;33m(\u001b[0m\u001b[0ms1\u001b[0m\u001b[1;33m)\u001b[0m\u001b[1;33m)\u001b[0m\u001b[1;33m:\u001b[0m\u001b[1;33m\u001b[0m\u001b[1;33m\u001b[0m\u001b[0m\n\u001b[0;32m      3\u001b[0m     \u001b[0mnew_s1\u001b[0m \u001b[1;33m=\u001b[0m \u001b[0ms1\u001b[0m\u001b[1;33m[\u001b[0m\u001b[1;36m5\u001b[0m\u001b[1;33m]\u001b[0m\u001b[1;33m.\u001b[0m\u001b[0mreplace\u001b[0m\u001b[1;33m(\u001b[0m\u001b[1;34m\" \"\u001b[0m\u001b[1;33m,\u001b[0m \u001b[1;34m\"\"\u001b[0m\u001b[1;33m)\u001b[0m\u001b[1;33m\u001b[0m\u001b[1;33m\u001b[0m\u001b[0m\n\u001b[0;32m      4\u001b[0m     \u001b[0mnew_s2\u001b[0m \u001b[1;33m=\u001b[0m \u001b[0ms2\u001b[0m\u001b[1;33m[\u001b[0m\u001b[0mi\u001b[0m\u001b[1;33m]\u001b[0m\u001b[1;33m.\u001b[0m\u001b[0mreplace\u001b[0m\u001b[1;33m(\u001b[0m\u001b[1;34m\" \"\u001b[0m\u001b[1;33m,\u001b[0m \u001b[1;34m\"\"\u001b[0m\u001b[1;33m)\u001b[0m\u001b[1;33m\u001b[0m\u001b[1;33m\u001b[0m\u001b[0m\n\u001b[0;32m      5\u001b[0m \u001b[1;33m\u001b[0m\u001b[0m\n",
      "\u001b[1;31mIndexError\u001b[0m: list index out of range"
     ]
    }
   ],
   "source": [
    "print('원본:', s1[5], '\\n')\n",
    "for i in range(len(s1)):    \n",
    "    new_s1 = s1[5].replace(\" \", \"\")\n",
    "    new_s2 = s2[i].replace(\" \", \"\")\n",
    "    \n",
    "    print('비교:', s2[i])\n",
    "\n",
    "    ratio = SequenceMatcher(None, new_s1, new_s2).ratio()\n",
    "    print('%.2f' % ratio)"
   ]
  },
  {
   "cell_type": "code",
   "execution_count": 336,
   "metadata": {},
   "outputs": [
    {
     "name": "stdout",
     "output_type": "stream",
     "text": [
      "원본: 우리 표준어 써야지 표준어 \n",
      "\n",
      "비교: 가족이라며 아프면 아프다. 힘들면 말할 수 있는게 가족 아니야.\n",
      "0.05\n",
      "비교: 어떻게 해야 할지 잘 모르겠어요. 내가 포기한 거 아니야.\n",
      "0.23\n",
      "비교: 나도 어떻게든 끝까지 하고 싶어.\n",
      "0.24\n",
      "비교: 하고 싶은 마음만 있으면 우리 언제든 다시 시작할 수 있어. 우리 젊어.\n",
      "0.20\n",
      "비교: 내가 어디서 들었는데 어떻게 해야 될지 모를 때는 그냥 하는 거래. 그냥. 막 하다 보면 거기 끝에 답이 보인다고 하더라고. 어 운전보다. 알겠지\n",
      "0.11\n",
      "비교: 신랑 모델 보는 일본 잔재 오잖아.\n",
      "0.00\n",
      "비교: 우리 혁신 왔어요.\n",
      "0.32\n"
     ]
    },
    {
     "ename": "IndexError",
     "evalue": "list index out of range",
     "output_type": "error",
     "traceback": [
      "\u001b[1;31m---------------------------------------------------------------------------\u001b[0m",
      "\u001b[1;31mIndexError\u001b[0m                                Traceback (most recent call last)",
      "\u001b[1;32m<ipython-input-336-b2225837c0a8>\u001b[0m in \u001b[0;36m<module>\u001b[1;34m\u001b[0m\n\u001b[0;32m      2\u001b[0m \u001b[1;32mfor\u001b[0m \u001b[0mi\u001b[0m \u001b[1;32min\u001b[0m \u001b[0mrange\u001b[0m\u001b[1;33m(\u001b[0m\u001b[0mlen\u001b[0m\u001b[1;33m(\u001b[0m\u001b[0ms1\u001b[0m\u001b[1;33m)\u001b[0m\u001b[1;33m)\u001b[0m\u001b[1;33m:\u001b[0m\u001b[1;33m\u001b[0m\u001b[1;33m\u001b[0m\u001b[0m\n\u001b[0;32m      3\u001b[0m     \u001b[0mnew_s1\u001b[0m \u001b[1;33m=\u001b[0m \u001b[0ms1\u001b[0m\u001b[1;33m[\u001b[0m\u001b[1;36m7\u001b[0m\u001b[1;33m]\u001b[0m\u001b[1;33m.\u001b[0m\u001b[0mreplace\u001b[0m\u001b[1;33m(\u001b[0m\u001b[1;34m\" \"\u001b[0m\u001b[1;33m,\u001b[0m \u001b[1;34m\"\"\u001b[0m\u001b[1;33m)\u001b[0m\u001b[1;33m\u001b[0m\u001b[1;33m\u001b[0m\u001b[0m\n\u001b[1;32m----> 4\u001b[1;33m     \u001b[0mnew_s2\u001b[0m \u001b[1;33m=\u001b[0m \u001b[0ms2\u001b[0m\u001b[1;33m[\u001b[0m\u001b[0mi\u001b[0m\u001b[1;33m]\u001b[0m\u001b[1;33m.\u001b[0m\u001b[0mreplace\u001b[0m\u001b[1;33m(\u001b[0m\u001b[1;34m\" \"\u001b[0m\u001b[1;33m,\u001b[0m \u001b[1;34m\"\"\u001b[0m\u001b[1;33m)\u001b[0m\u001b[1;33m\u001b[0m\u001b[1;33m\u001b[0m\u001b[0m\n\u001b[0m\u001b[0;32m      5\u001b[0m \u001b[1;33m\u001b[0m\u001b[0m\n\u001b[0;32m      6\u001b[0m     \u001b[0mprint\u001b[0m\u001b[1;33m(\u001b[0m\u001b[1;34m'비교:'\u001b[0m\u001b[1;33m,\u001b[0m \u001b[0ms2\u001b[0m\u001b[1;33m[\u001b[0m\u001b[0mi\u001b[0m\u001b[1;33m]\u001b[0m\u001b[1;33m)\u001b[0m\u001b[1;33m\u001b[0m\u001b[1;33m\u001b[0m\u001b[0m\n",
      "\u001b[1;31mIndexError\u001b[0m: list index out of range"
     ]
    }
   ],
   "source": [
    "print('원본:', s1[7], '\\n')\n",
    "for i in range(len(s1)):    \n",
    "    new_s1 = s1[7].replace(\" \", \"\")\n",
    "    new_s2 = s2[i].replace(\" \", \"\")\n",
    "    \n",
    "    print('비교:', s2[i])\n",
    "\n",
    "    ratio = SequenceMatcher(None, new_s1, new_s2).ratio()\n",
    "    print('%.2f' % ratio)"
   ]
  },
  {
   "cell_type": "code",
   "execution_count": 335,
   "metadata": {},
   "outputs": [
    {
     "name": "stdout",
     "output_type": "stream",
     "text": [
      "\n",
      "정답: 가족이라며 아프면 아프다 힘들면 힘들다 말할 수 있는 게 가족 아니야? 0\n",
      "0 가족이라며 아프면 아프다. 힘들면 말할 수 있는게 가족 아니야.\n",
      "\n",
      "정답: 어.. 뭘 어떻게 해야 할지 잘 모르겠는데 내가 포기한 거 아니야 1\n",
      "1 어떻게 해야 할지 잘 모르겠어요. 내가 포기한 거 아니야.\n",
      "\n",
      "정답: 나도 어떻게든 끝까지 하고 싶어 2\n",
      "2 나도 어떻게든 끝까지 하고 싶어.\n",
      "\n",
      "정답: 그럼 하면 되잖아 오빠 3\n",
      "0.0\n",
      "STT 결과 없음\n",
      "\n",
      "정답: 야 하고 싶은 마음만 있으면 우리 언제든 다시 시작할 수 있어 우리 젊어 4\n",
      "4 하고 싶은 마음만 있으면 우리 언제든 다시 시작할 수 있어. 우리 젊어.\n",
      "\n",
      "정답: 오빠 내가 어디서 들었는데 어떻게 해야 될지 모를 때는 그냥 하는 거래 그냥 막 하다 보면 거기 끝에 답이 보인다고 하더라고 어? 무대뽀 정신 알겠지 5\n",
      "5 내가 어디서 들었는데 어떻게 해야 될지 모를 때는 그냥 하는 거래. 그냥. 막 하다 보면 거기 끝에 답이 보인다고 하더라고. 어 운전보다. 알겠지\n",
      "\n",
      "정답: 진아 무대뽀는 일본 잔재어잖아 6\n",
      "0.09523809523809523\n",
      "STT 결과 없음\n",
      "\n",
      "정답: 우리 표준어 써야지 표준어 7\n",
      "0.3157894736842105\n",
      "STT 결과 없음\n"
     ]
    }
   ],
   "source": [
    "import numpy as np\n",
    "for i in range(len(s1)): \n",
    "    detect = 0\n",
    "    all_ratio = []\n",
    "    print('\\n정답:', s1[i], i)\n",
    "    for j in range(len(s2)):\n",
    "        new_s1 = s1[i].replace(\" \", \"\")\n",
    "        new_s2 = s2[j].replace(\" \", \"\")\n",
    "\n",
    "        ratio = SequenceMatcher(None, new_s1, new_s2).ratio()\n",
    "        \n",
    "        if(ratio > 0.7):\n",
    "            detect = 1\n",
    "            \n",
    "            print(i, s2[j])\n",
    "    if(not detect):\n",
    "        print(ratio)\n",
    "        print('STT 결과 없음')\n",
    "   "
   ]
  },
  {
   "cell_type": "code",
   "execution_count": 286,
   "metadata": {},
   "outputs": [
    {
     "name": "stdout",
     "output_type": "stream",
     "text": [
      "원본: 가족이라며 아프면 아프다 힘들면 힘들다 말할 수 있는 게 가족 아니야? \n",
      "\n",
      "비교: 가족이라며 아프면 아프다. 힘들면 말할 수 있는게 가족 아니야.\n",
      "0.89\n",
      "비교: 어떻게 해야 할지 잘 모르겠어요. 내가 포기한 거 아니야.\n",
      "0.15\n",
      "비교: 나도 어떻게든 끝까지 하고 싶어.\n",
      "0.05\n",
      "비교: 하고 싶은 마음만 있으면 우리 언제든 다시 시작할 수 있어. 우리 젊어.\n",
      "0.17\n",
      "비교: 내가 어디서 들었는데 어떻게 해야 될지 모를 때는 그냥 하는 거래. 그냥. 막 하다 보면 거기 끝에 답이 보인다고 하더라고. 어 운전보다. 알겠지\n",
      "0.09\n",
      "비교: 신랑 모델 보는 일본 잔재 오잖아.\n",
      "0.05\n",
      "비교: 우리 혁신 왔어요.\n",
      "0.00\n"
     ]
    },
    {
     "ename": "IndexError",
     "evalue": "list index out of range",
     "output_type": "error",
     "traceback": [
      "\u001b[1;31m---------------------------------------------------------------------------\u001b[0m",
      "\u001b[1;31mIndexError\u001b[0m                                Traceback (most recent call last)",
      "\u001b[1;32m<ipython-input-286-840861bc9cc3>\u001b[0m in \u001b[0;36m<module>\u001b[1;34m\u001b[0m\n\u001b[0;32m      2\u001b[0m \u001b[1;32mfor\u001b[0m \u001b[0mi\u001b[0m \u001b[1;32min\u001b[0m \u001b[0mrange\u001b[0m\u001b[1;33m(\u001b[0m\u001b[0mlen\u001b[0m\u001b[1;33m(\u001b[0m\u001b[0ms1\u001b[0m\u001b[1;33m)\u001b[0m\u001b[1;33m)\u001b[0m\u001b[1;33m:\u001b[0m\u001b[1;33m\u001b[0m\u001b[1;33m\u001b[0m\u001b[0m\n\u001b[0;32m      3\u001b[0m     \u001b[0mnew_s1\u001b[0m \u001b[1;33m=\u001b[0m \u001b[0ms1\u001b[0m\u001b[1;33m[\u001b[0m\u001b[1;36m0\u001b[0m\u001b[1;33m]\u001b[0m\u001b[1;33m.\u001b[0m\u001b[0mreplace\u001b[0m\u001b[1;33m(\u001b[0m\u001b[1;34m\" \"\u001b[0m\u001b[1;33m,\u001b[0m \u001b[1;34m\"\"\u001b[0m\u001b[1;33m)\u001b[0m\u001b[1;33m\u001b[0m\u001b[1;33m\u001b[0m\u001b[0m\n\u001b[1;32m----> 4\u001b[1;33m     \u001b[0mnew_s2\u001b[0m \u001b[1;33m=\u001b[0m \u001b[0ms2\u001b[0m\u001b[1;33m[\u001b[0m\u001b[0mi\u001b[0m\u001b[1;33m]\u001b[0m\u001b[1;33m.\u001b[0m\u001b[0mreplace\u001b[0m\u001b[1;33m(\u001b[0m\u001b[1;34m\" \"\u001b[0m\u001b[1;33m,\u001b[0m \u001b[1;34m\"\"\u001b[0m\u001b[1;33m)\u001b[0m\u001b[1;33m\u001b[0m\u001b[1;33m\u001b[0m\u001b[0m\n\u001b[0m\u001b[0;32m      5\u001b[0m \u001b[1;33m\u001b[0m\u001b[0m\n\u001b[0;32m      6\u001b[0m     \u001b[0mprint\u001b[0m\u001b[1;33m(\u001b[0m\u001b[1;34m'비교:'\u001b[0m\u001b[1;33m,\u001b[0m \u001b[0ms2\u001b[0m\u001b[1;33m[\u001b[0m\u001b[0mi\u001b[0m\u001b[1;33m]\u001b[0m\u001b[1;33m)\u001b[0m\u001b[1;33m\u001b[0m\u001b[1;33m\u001b[0m\u001b[0m\n",
      "\u001b[1;31mIndexError\u001b[0m: list index out of range"
     ]
    }
   ],
   "source": [
    "print('원본:', s1[0], '\\n')\n",
    "for i in range(len(s1)):    \n",
    "    new_s1 = s1[0].replace(\" \", \"\")\n",
    "    new_s2 = s2[i].replace(\" \", \"\")\n",
    "    \n",
    "    print('비교:', s2[i])\n",
    "\n",
    "    ratio = SequenceMatcher(None, new_s1, new_s2).ratio()\n",
    "    print('%.2f' % ratio)"
   ]
  },
  {
   "cell_type": "code",
   "execution_count": 387,
   "metadata": {},
   "outputs": [
    {
     "name": "stdout",
     "output_type": "stream",
     "text": [
      "0.80\n"
     ]
    }
   ],
   "source": [
    "s1 = '헤라클래스'\n",
    "s2 = '헤라클레스'\n",
    "\n",
    "ratio = SequenceMatcher(None, s1, s2).ratio()\n",
    "print('%.2f' % ratio)"
   ]
  },
  {
   "cell_type": "code",
   "execution_count": 326,
   "metadata": {},
   "outputs": [
    {
     "data": {
      "text/plain": [
       "array([[0.]])"
      ]
     },
     "execution_count": 326,
     "metadata": {},
     "output_type": "execute_result"
    }
   ],
   "source": [
    "sent = ('아스트라칸모피', '아스트라칸무비')\n",
    "\n",
    "tfidf_vectorizer = TfidfVectorizer()\n",
    "tfidf_matrix = tfidf_vectorizer.fit_transform(sent) #문장 벡터화 진행\n",
    "cosine_similarity(tfidf_matrix[0:1], tfidf_matrix[1:2]) #첫번째와 두번째 문장 비교"
   ]
  },
  {
   "cell_type": "code",
   "execution_count": 391,
   "metadata": {},
   "outputs": [],
   "source": [
    "s1 = ['갖다주러 온 것뿐이예요',\n",
    "'니가 어제 여기 제 발로 찾아왔잖아',\n",
    "'아니 내가 모르는 의상 반출이 있었어',\n",
    "'데려와 아 어제 여기 와서 페인트칠',\n",
    "'일단 아 잠깐만 잠깐만 변명하지 마',\n",
    "'말을 했어야 할거 아냐',\n",
    "'어떻게 연구소를 니 멋대로',\n",
    "'장부를 적어야지 ']\n",
    "\n",
    "s2 = ['이제 보여주고 해주러 온 거 뿐이에요.',\n",
    "'니가 어제 여기 제 발로 찾아왔잖아.',\n",
    "'아니 내가 모르는 미사가 집에 있었어.',\n",
    "'어제 여기 와서 아니 아니야 아니야.',\n",
    "'야. 어떻게 여기서부터 니 멋대로',\n",
    "'흘러도 너무 많이 나와요.',\n",
    "'우리가 지나가는 거 봐야죠.',\n",
    "'장군' ]"
   ]
  },
  {
   "cell_type": "code",
   "execution_count": 1,
   "metadata": {},
   "outputs": [],
   "source": [
    "script = ['아주 멀리까지 가 보고 싶어',\n",
    "          '그곳에선 누구를 만날 수가 있을지',\n",
    "          '아주 높이까지 오르고 싶어',\n",
    "          '얼마나 더 먼 곳을 바라볼 수 있을지',\n",
    "          '작은 물병 하나, 먼지 낀 카메라',\n",
    "          '때 묻은 지도 가방 안에 넣고서',\n",
    "\n",
    "          '언덕을 넘어 숲길을 헤치고',\n",
    "          '가벼운 발걸음 닿는 대로',\n",
    "          '끝없이 이어진 길을 천천히 걸어가네',\n",
    "\n",
    "\n",
    "          '멍하니 앉아서 쉬기도 하고',\n",
    "          '가끔 길을 잃어도 서두르지 않는 법',\n",
    "          '언젠가는 나도 알게 되겠지',\n",
    "          '이 길이 곧 나에게 가르쳐 줄 테니까',\n",
    "\n",
    "          '촉촉한 땅바닥 앞서 간 발자국',\n",
    "          '처음 보는 하늘 그래도 낯익은 길',\n",
    "\n",
    "          '언덕을 넘어 숲길을 헤치고',\n",
    "          '가벼운 발걸음 닿는 대로',\n",
    "          '끝없이 이어진 길을 천천히 걸어가네',\n",
    "\n",
    "\n",
    "          '새로운 풍경에 가슴이 뛰고',\n",
    "          '별것 아닌 일에도 호들갑을 떨면서',\n",
    "          '나는 걸어가네 휘파람 불며',\n",
    "          '때로는 넘어져도 내 길을 걸어가네',\n",
    "\n",
    "          '작은 물병 하나 먼지 낀 카메라',\n",
    "          '때 묻은 지도 가방 안에 넣고서',\n",
    "\n",
    "          '언덕을 넘어 숲길을 헤치고',\n",
    "          '가벼운 발걸음 닿는 대로',\n",
    "          '끝없이 이어진 길을 천천히 걸어가네',\n",
    "\n",
    "          '내가 자라고 정든 이 거리를',\n",
    "          '난 가끔 그리워하겠지만',\n",
    "          '이렇게 나는 떠나네 더 넓은 세상으로']"
   ]
  },
  {
   "cell_type": "code",
   "execution_count": 509,
   "metadata": {},
   "outputs": [],
   "source": [
    "present_sentence = '카메라 사고 싶다'"
   ]
  },
  {
   "cell_type": "code",
   "execution_count": 510,
   "metadata": {},
   "outputs": [
    {
     "name": "stdout",
     "output_type": "stream",
     "text": [
      "현재 대본:  작은 물병 하나 먼지 낀 카메라 0.25\n"
     ]
    }
   ],
   "source": [
    "present_sentence = present_sentence.replace(\" \", \"\")\n",
    "present_sentence = present_sentence.replace(\".\", \"\")\n",
    "ratio = []\n",
    "for i in range(len(script)):\n",
    "    script_sentence = script[i].replace(\" \", \"\")\n",
    "    script_sentence = script[i].replace(\".\", \"\")\n",
    "    \n",
    "    ratio.append(SequenceMatcher(None, present_sentence, script_sentence).ratio())\n",
    "print('현재 대본: ', script[np.argmax(ratio)], np.max(ratio))"
   ]
  },
  {
   "cell_type": "code",
   "execution_count": 493,
   "metadata": {},
   "outputs": [],
   "source": [
    "x = list(reversed(script))"
   ]
  },
  {
   "cell_type": "code",
   "execution_count": 478,
   "metadata": {},
   "outputs": [
    {
     "name": "stdout",
     "output_type": "stream",
     "text": [
      "['얼마나 더 먼 곳을 바라볼 수 있을지', '아주 높이까지 오르고 싶어', '그곳에선 누구를 만날 수가 있을지', '아주 멀리까지 가 보고 싶어']\n"
     ]
    }
   ],
   "source": [
    "print(x)"
   ]
  },
  {
   "cell_type": "code",
   "execution_count": 491,
   "metadata": {},
   "outputs": [],
   "source": [
    "y = []"
   ]
  },
  {
   "cell_type": "code",
   "execution_count": 503,
   "metadata": {},
   "outputs": [],
   "source": [
    "y.append(x.pop())"
   ]
  },
  {
   "cell_type": "code",
   "execution_count": 504,
   "metadata": {},
   "outputs": [
    {
     "data": {
      "text/plain": [
       "['아주 멀리까지 가 보고 싶어',\n",
       " '그곳에선 누구를 만날 수가 있을지',\n",
       " '아주 높이까지 오르고 싶어',\n",
       " '얼마나 더 먼 곳을 바라볼 수 있을지']"
      ]
     },
     "execution_count": 504,
     "metadata": {},
     "output_type": "execute_result"
    }
   ],
   "source": [
    "y"
   ]
  },
  {
   "cell_type": "code",
   "execution_count": 505,
   "metadata": {},
   "outputs": [
    {
     "data": {
      "text/plain": [
       "[]"
      ]
     },
     "execution_count": 505,
     "metadata": {},
     "output_type": "execute_result"
    }
   ],
   "source": [
    "x"
   ]
  },
  {
   "cell_type": "code",
   "execution_count": 21,
   "metadata": {},
   "outputs": [
    {
     "name": "stdout",
     "output_type": "stream",
     "text": [
      "0.8461538461538461\n"
     ]
    }
   ],
   "source": [
    "ratio = SequenceMatcher(None, '아주멀리까지가보고싶어    ', '아주멀리까지가보고싶어').ratio()\n",
    "print(ratio)"
   ]
  },
  {
   "cell_type": "code",
   "execution_count": 43,
   "metadata": {},
   "outputs": [
    {
     "name": "stdout",
     "output_type": "stream",
     "text": [
      "0.875\n"
     ]
    }
   ],
   "source": [
    "ratio = SequenceMatcher(None, '그곳에선 누구를 만날 수가 있을지', '그곳에선누구를만날수가있을지').ratio()\n",
    "print(ratio)"
   ]
  },
  {
   "cell_type": "code",
   "execution_count": 10,
   "metadata": {},
   "outputs": [
    {
     "name": "stdout",
     "output_type": "stream",
     "text": [
      "0.85\n"
     ]
    }
   ],
   "source": [
    "ratio = SequenceMatcher(None, '얼마나 더 먹고 실 바라볼 수 있을지', '얼마나 더 먼 곳을 바라볼 수 있을지').ratio()\n",
    "print(ratio)"
   ]
  },
  {
   "cell_type": "code",
   "execution_count": 11,
   "metadata": {},
   "outputs": [
    {
     "data": {
      "text/plain": [
       "9"
      ]
     },
     "execution_count": 11,
     "metadata": {},
     "output_type": "execute_result"
    }
   ],
   "source": [
    "s1 = '123456789'\n",
    "len(s1)"
   ]
  },
  {
   "cell_type": "code",
   "execution_count": 18,
   "metadata": {},
   "outputs": [
    {
     "name": "stdout",
     "output_type": "stream",
     "text": [
      "0.8275862068965517\n"
     ]
    }
   ],
   "source": [
    "ratio = SequenceMatcher(None, '작은물병하나먼지낀카메라     ', '작은물병하나먼지낀카메라').ratio()\n",
    "print(ratio)"
   ]
  },
  {
   "cell_type": "code",
   "execution_count": 25,
   "metadata": {},
   "outputs": [],
   "source": [
    "import csv\n",
    " \n",
    "f = open('script.csv','r')\n",
    "script = csv.reader(f)\n",
    "script_list = []\n",
    "time_list = []\n",
    "for line in script:\n",
    "    time_list.append(line[0])\n",
    "    script_list.append(line[1])\n",
    "f.close()"
   ]
  },
  {
   "cell_type": "code",
   "execution_count": 34,
   "metadata": {},
   "outputs": [
    {
     "data": {
      "text/plain": [
       "['이렇게 나는 떠나네, 더 넓은 세상으로',\n",
       " '난 가끔 그리워하겠지만',\n",
       " '내가 자라고 정든 이 거리를',\n",
       " '끝없이 이어진 길을 천천히 걸어가네',\n",
       " '가벼운 발걸음 닿는 대로',\n",
       " '언덕을 넘어 숲길을 헤치고',\n",
       " '때 묻은 지도 가방 안에 넣고서',\n",
       " '작은 물병 하나, 먼지 낀 카메라,',\n",
       " '때로는 넘어져도 내 길을 걸어가네',\n",
       " '나는 걸어가네 휘파람 불며',\n",
       " '별것 아닌 일에도 호들갑을 떨면서',\n",
       " '새로운 풍경에 가슴이 뛰고',\n",
       " '끝없이 이어진 길을 천천히 걸어가네',\n",
       " '가벼운 발걸음 닿는 대로',\n",
       " '언덕을 넘어 숲길을 헤치고',\n",
       " '처음 보는 하늘, 그래도 낯익은 길',\n",
       " '촉촉한 땅바닥, 앞서 간 발자국,',\n",
       " '이 길이 곧 나에게 가르쳐 줄 테니까',\n",
       " '언젠가는 나도 알게 되겠지',\n",
       " '가끔 길을 잃어도 서두르지 않는 법',\n",
       " '멍하니 앉아서 쉬기도 하고',\n",
       " '끝없이 이어진 길을 천천히 걸어가네',\n",
       " '가벼운 발걸음 닿는 대로',\n",
       " '언덕을 넘어 숲길을 헤치고',\n",
       " '때 묻은 지도 가방 안에 넣고서',\n",
       " '작은 물병 하나, 먼지 낀 카메라,',\n",
       " '얼마나 더 먼 곳을 바라볼 수 있을지',\n",
       " '아주 높이까지 오르고 싶어',\n",
       " '그곳에선 누구를 만날 수가 있을지',\n",
       " '아주 멀리까지 가 보고 싶어']"
      ]
     },
     "execution_count": 34,
     "metadata": {},
     "output_type": "execute_result"
    }
   ],
   "source": [
    "script_list"
   ]
  },
  {
   "cell_type": "code",
   "execution_count": 33,
   "metadata": {},
   "outputs": [],
   "source": [
    "script_list.reverse()"
   ]
  },
  {
   "cell_type": "code",
   "execution_count": 39,
   "metadata": {},
   "outputs": [],
   "source": [
    "use_list = []"
   ]
  },
  {
   "cell_type": "code",
   "execution_count": 36,
   "metadata": {},
   "outputs": [
    {
     "name": "stdout",
     "output_type": "stream",
     "text": [
      "현재 대본:  작은 물병 하나, 먼지 낀 카메라, 8\n"
     ]
    }
   ],
   "source": [
    "present_sentence = '작은 물병 하나, 먼지 낀 카메라,'\n",
    "ratio = []\n",
    "for i in range(len(script_list)):\n",
    "    script_sentence = script_list[i].replace(\" \", \"\")\n",
    "    script_sentence = script_sentence.replace(\".\", \"\")\n",
    "\n",
    "    ratio.append(SequenceMatcher(None, present_sentence, script_sentence).ratio())\n",
    "\n",
    "if(np.max(ratio) > 0.5):\n",
    "    print('현재 대본: ', script_list[np.argmax(ratio)], time_list[np.argmax(ratio)])\n",
    "    use_list.append(script_list.pop)\n",
    "else:\n",
    "    print('대본에 없음')"
   ]
  },
  {
   "cell_type": "code",
   "execution_count": 40,
   "metadata": {},
   "outputs": [
    {
     "data": {
      "text/plain": [
       "[]"
      ]
     },
     "execution_count": 40,
     "metadata": {},
     "output_type": "execute_result"
    }
   ],
   "source": [
    "use_list"
   ]
  },
  {
   "cell_type": "code",
   "execution_count": 48,
   "metadata": {},
   "outputs": [
    {
     "data": {
      "text/plain": [
       "['이렇게 나는 떠나네, 더 넓은 세상으로',\n",
       " '난 가끔 그리워하겠지만',\n",
       " '내가 자라고 정든 이 거리를',\n",
       " '끝없이 이어진 길을 천천히 걸어가네',\n",
       " '가벼운 발걸음 닿는 대로',\n",
       " '언덕을 넘어 숲길을 헤치고',\n",
       " '때 묻은 지도 가방 안에 넣고서',\n",
       " '작은 물병 하나, 먼지 낀 카메라,',\n",
       " '때로는 넘어져도 내 길을 걸어가네',\n",
       " '나는 걸어가네 휘파람 불며',\n",
       " '별것 아닌 일에도 호들갑을 떨면서',\n",
       " '새로운 풍경에 가슴이 뛰고',\n",
       " '끝없이 이어진 길을 천천히 걸어가네',\n",
       " '가벼운 발걸음 닿는 대로',\n",
       " '언덕을 넘어 숲길을 헤치고',\n",
       " '처음 보는 하늘, 그래도 낯익은 길',\n",
       " '촉촉한 땅바닥, 앞서 간 발자국,',\n",
       " '이 길이 곧 나에게 가르쳐 줄 테니까',\n",
       " '언젠가는 나도 알게 되겠지',\n",
       " '가끔 길을 잃어도 서두르지 않는 법',\n",
       " '멍하니 앉아서 쉬기도 하고',\n",
       " '끝없이 이어진 길을 천천히 걸어가네',\n",
       " '가벼운 발걸음 닿는 대로',\n",
       " '언덕을 넘어 숲길을 헤치고',\n",
       " '때 묻은 지도 가방 안에 넣고서',\n",
       " '작은 물병 하나, 먼지 낀 카메라,',\n",
       " '얼마나 더 먼 곳을 바라볼 수 있을지',\n",
       " '아주 높이까지 오르고 싶어',\n",
       " '그곳에선 누구를 만날 수가 있을지',\n",
       " '아주 멀리까지 가 보고 싶어']"
      ]
     },
     "execution_count": 48,
     "metadata": {},
     "output_type": "execute_result"
    }
   ],
   "source": [
    "script_list"
   ]
  },
  {
   "cell_type": "code",
   "execution_count": 138,
   "metadata": {},
   "outputs": [],
   "source": [
    "a = '모든지도가방안에넣고서'\n",
    "b = '때묻은지도가방안에넣고서'\n",
    "answer = SequenceMatcher(None, a, b).get_matching_blocks()"
   ]
  },
  {
   "cell_type": "code",
   "execution_count": 139,
   "metadata": {},
   "outputs": [
    {
     "data": {
      "text/plain": [
       "[Match(a=2, b=3, size=9), Match(a=11, b=12, size=0)]"
      ]
     },
     "execution_count": 139,
     "metadata": {},
     "output_type": "execute_result"
    }
   ],
   "source": [
    "answer"
   ]
  },
  {
   "cell_type": "code",
   "execution_count": 140,
   "metadata": {},
   "outputs": [
    {
     "name": "stdout",
     "output_type": "stream",
     "text": [
      "Match(a=2, b=3, size=9)\n"
     ]
    },
    {
     "data": {
      "text/plain": [
       "3"
      ]
     },
     "execution_count": 140,
     "metadata": {},
     "output_type": "execute_result"
    }
   ],
   "source": [
    "print(answer[0])\n",
    "len(answer[0])"
   ]
  },
  {
   "cell_type": "code",
   "execution_count": 141,
   "metadata": {},
   "outputs": [
    {
     "name": "stdout",
     "output_type": "stream",
     "text": [
      "2\n",
      "3\n",
      "9\n"
     ]
    }
   ],
   "source": [
    "print(answer[0][0])\n",
    "print(answer[0][1])\n",
    "print(answer[0][2])"
   ]
  },
  {
   "cell_type": "code",
   "execution_count": 142,
   "metadata": {},
   "outputs": [
    {
     "name": "stdout",
     "output_type": "stream",
     "text": [
      "지도가방안에넣고서  \n"
     ]
    }
   ],
   "source": [
    "correct = ''\n",
    "for i in answer:\n",
    "    for k in range(i[1], i[1]+i[2]):\n",
    "        correct = correct+b[k]\n",
    "    correct = correct + ' '\n",
    "print(correct)"
   ]
  },
  {
   "cell_type": "code",
   "execution_count": 143,
   "metadata": {},
   "outputs": [],
   "source": [
    "right = '이 길이 곧 나에게 가르쳐 줄 테니까'"
   ]
  },
  {
   "cell_type": "code",
   "execution_count": 144,
   "metadata": {},
   "outputs": [
    {
     "name": "stdout",
     "output_type": "stream",
     "text": [
      "이\n",
      " \n",
      "길\n",
      "이\n",
      " \n",
      "곧\n",
      " \n",
      "나\n",
      "에\n",
      "게\n",
      " \n",
      "가\n",
      "르\n",
      "쳐\n",
      " \n",
      "줄\n",
      " \n",
      "테\n",
      "니\n",
      "까\n"
     ]
    }
   ],
   "source": [
    "for i in right:\n",
    "    print(i)"
   ]
  },
  {
   "cell_type": "code",
   "execution_count": 126,
   "metadata": {},
   "outputs": [
    {
     "data": {
      "text/plain": [
       "[Match(a=0, b=0, size=1),\n",
       " Match(a=1, b=5, size=1),\n",
       " Match(a=2, b=7, size=3),\n",
       " Match(a=5, b=11, size=3),\n",
       " Match(a=8, b=15, size=1),\n",
       " Match(a=9, b=17, size=3),\n",
       " Match(a=12, b=20, size=0)]"
      ]
     },
     "execution_count": 126,
     "metadata": {},
     "output_type": "execute_result"
    }
   ],
   "source": [
    "SequenceMatcher(None, correct, right).get_matching_blocks()"
   ]
  },
  {
   "cell_type": "code",
   "execution_count": 115,
   "metadata": {},
   "outputs": [
    {
     "data": {
      "text/plain": [
       "'이곧나에게가르쳐줄테니까'"
      ]
     },
     "execution_count": 115,
     "metadata": {},
     "output_type": "execute_result"
    }
   ],
   "source": [
    "correct"
   ]
  },
  {
   "cell_type": "code",
   "execution_count": 5,
   "metadata": {},
   "outputs": [
    {
     "data": {
      "text/plain": [
       "0.8"
      ]
     },
     "execution_count": 5,
     "metadata": {},
     "output_type": "execute_result"
    }
   ],
   "source": [
    "a = '엔 화'\n",
    "b = '엔화'\n",
    "SequenceMatcher(None, a, b).ratio()"
   ]
  },
  {
   "cell_type": "code",
   "execution_count": 4,
   "metadata": {},
   "outputs": [
    {
     "data": {
      "text/plain": [
       "1.0"
      ]
     },
     "execution_count": 4,
     "metadata": {},
     "output_type": "execute_result"
    }
   ],
   "source": [
    "a = '전자의경우엔화가많고'\n",
    "b = '전자의경우엔화가많고'\n",
    "SequenceMatcher(None, a, b).ratio()"
   ]
  },
  {
   "cell_type": "code",
   "execution_count": 26,
   "metadata": {},
   "outputs": [],
   "source": [
    "a = '모든지도 가방 안에 넣고서'\n",
    "b = '때 묻은 지도는 가방 안에 넣고서'\n",
    "answer = SequenceMatcher(None, a, b).get_matching_blocks()"
   ]
  },
  {
   "cell_type": "code",
   "execution_count": 27,
   "metadata": {},
   "outputs": [
    {
     "data": {
      "text/plain": [
       "[Match(a=2, b=5, size=2), Match(a=4, b=8, size=10), Match(a=14, b=18, size=0)]"
      ]
     },
     "execution_count": 27,
     "metadata": {},
     "output_type": "execute_result"
    }
   ],
   "source": [
    "answer"
   ]
  },
  {
   "cell_type": "code",
   "execution_count": 28,
   "metadata": {},
   "outputs": [],
   "source": []
  },
  {
   "cell_type": "code",
   "execution_count": null,
   "metadata": {},
   "outputs": [],
   "source": []
  },
  {
   "cell_type": "code",
   "execution_count": 16,
   "metadata": {},
   "outputs": [
    {
     "data": {
      "text/plain": [
       "17"
      ]
     },
     "execution_count": 16,
     "metadata": {},
     "output_type": "execute_result"
    }
   ],
   "source": [
    "len(b)"
   ]
  },
  {
   "cell_type": "code",
   "execution_count": 78,
   "metadata": {},
   "outputs": [],
   "source": [
    "check_list = [0]*len(b)\n",
    "black = ''\n",
    "red = ''"
   ]
  },
  {
   "cell_type": "code",
   "execution_count": 79,
   "metadata": {},
   "outputs": [],
   "source": [
    "for i in answer:\n",
    "    for k in range(i[1], i[1]+i[2]):\n",
    "        check_list[k] = 1"
   ]
  },
  {
   "cell_type": "code",
   "execution_count": 80,
   "metadata": {},
   "outputs": [
    {
     "data": {
      "text/plain": [
       "[0, 0, 0, 0, 0, 1, 1, 0, 1, 1, 1, 1, 1, 1, 1, 1, 1, 1]"
      ]
     },
     "execution_count": 80,
     "metadata": {},
     "output_type": "execute_result"
    }
   ],
   "source": [
    "check_list"
   ]
  },
  {
   "cell_type": "code",
   "execution_count": 81,
   "metadata": {},
   "outputs": [],
   "source": [
    "for point in range(len(b)):\n",
    "    if(check_list[point]):\n",
    "        red = red + b[point]\n",
    "        if(b[point] == ' '):\n",
    "            black = black + ' '\n",
    "        else:\n",
    "            black = black + '   '\n",
    "        \n",
    "    else:\n",
    "        black = black + b[point]\n",
    "        if(b[point] == ' '):\n",
    "            red = red + ' '\n",
    "        else:\n",
    "            red = red + '   '"
   ]
  },
  {
   "cell_type": "code",
   "execution_count": 82,
   "metadata": {},
   "outputs": [
    {
     "data": {
      "text/plain": [
       "'           지도    가방 안에 넣고서'"
      ]
     },
     "execution_count": 82,
     "metadata": {},
     "output_type": "execute_result"
    }
   ],
   "source": [
    "red"
   ]
  },
  {
   "cell_type": "code",
   "execution_count": 83,
   "metadata": {},
   "outputs": [
    {
     "data": {
      "text/plain": [
       "'때 묻은       는                        '"
      ]
     },
     "execution_count": 83,
     "metadata": {},
     "output_type": "execute_result"
    }
   ],
   "source": [
    "black"
   ]
  },
  {
   "cell_type": "code",
   "execution_count": 84,
   "metadata": {},
   "outputs": [
    {
     "data": {
      "text/plain": [
       "True"
      ]
     },
     "execution_count": 84,
     "metadata": {},
     "output_type": "execute_result"
    }
   ],
   "source": [
    "b[1] == ' '"
   ]
  },
  {
   "cell_type": "code",
   "execution_count": 4,
   "metadata": {},
   "outputs": [
    {
     "data": {
      "text/plain": [
       "['아주 멀리까지 가 보고 싶어',\n",
       " '그곳에선 누구를 만날 수가 있을지',\n",
       " '아주 높이까지 오르고 싶어',\n",
       " '얼마나 더 먼 곳을 바라볼 수 있을지',\n",
       " '작은 물병 하나, 먼지 낀 카메라']"
      ]
     },
     "execution_count": 4,
     "metadata": {},
     "output_type": "execute_result"
    }
   ],
   "source": [
    "script[0:5]"
   ]
  },
  {
   "cell_type": "code",
   "execution_count": 18,
   "metadata": {},
   "outputs": [],
   "source": [
    "script_data = ['동해물과 백두산이 마르고 닳도록',\n",
    "               '하느님이 보우하사 우리나라 만세',\n",
    "               '무궁화 삼천리 화려 강산',\n",
    "               '대한 사람 대한으로 길이 보전하세',\n",
    "               '남산 위에 저 소나무 철갑을 두른 듯',\n",
    "               '바람 서리 불변함은 우리 기상일세',\n",
    "               '가을 하늘 공활한데 높고 구름 없이',\n",
    "               '밝은 달은 우리 가슴 일편단심일세',\n",
    "               '이 기상과 이 맘으로 충성을 다하여',\n",
    "               '괴로우나 즐거우나 나라 사랑하세',\n",
    "               '아름다운 이 땅에 금수강산에']"
   ]
  },
  {
   "cell_type": "code",
   "execution_count": 26,
   "metadata": {},
   "outputs": [],
   "source": [
    "def similarity3(script_data, present_sentence):\n",
    "    ratio = []\n",
    "    for i in range(len(script_data)):\n",
    "        script_sentence = script_data[i].replace(\" \", \"\")\n",
    "        script_sentence = script_sentence.replace(\".\", \"\")\n",
    "        ratio.append(SequenceMatcher(None, present_sentence, script_sentence).ratio())\n",
    "    return ratio"
   ]
  },
  {
   "cell_type": "code",
   "execution_count": 28,
   "metadata": {},
   "outputs": [
    {
     "name": "stdout",
     "output_type": "stream",
     "text": [
      "0.1111111111111111\n",
      "0.4444444444444444\n",
      "0.0\n",
      "0.1111111111111111\n",
      "0.0\n",
      "0.0\n",
      "0.2222222222222222\n",
      "0.0\n",
      "0.1111111111111111\n",
      "0.1111111111111111\n",
      "0.125\n"
     ]
    }
   ],
   "source": [
    "similarity3(script_data, '하느님이')"
   ]
  },
  {
   "cell_type": "code",
   "execution_count": 4,
   "metadata": {},
   "outputs": [
    {
     "name": "stdout",
     "output_type": "stream",
     "text": [
      "[Match(a=0, b=1, size=1), Match(a=2, b=2, size=0)]\n"
     ]
    }
   ],
   "source": [
    "print(SequenceMatcher(None, 'ab', 'ba').get_matching_blocks())"
   ]
  },
  {
   "cell_type": "code",
   "execution_count": 25,
   "metadata": {},
   "outputs": [
    {
     "name": "stdout",
     "output_type": "stream",
     "text": [
      "0.5882352941176471\n"
     ]
    }
   ],
   "source": [
    "print(SequenceMatcher(None, '하느님이보우하사우리나라만세무궁화삼천리화려강산', '무궁화삼천리화려강산').ratio())"
   ]
  },
  {
   "cell_type": "code",
   "execution_count": 27,
   "metadata": {},
   "outputs": [
    {
     "name": "stdout",
     "output_type": "stream",
     "text": [
      "0.37037037037037035\n"
     ]
    }
   ],
   "source": [
    "s1 = '남편은 유령 같은 내게 불만이 많아요.'\n",
    "s2 = '남편은 이름 같은 일을 꾸미는.'\n",
    "\n",
    "new_s1 = s1.replace(\" \", \"\")\n",
    "new_s1 = new_s1.replace(\".\", \"\")\n",
    "new_s2 = s2.replace(\" \", \"\")\n",
    "new_s2 = new_s2.replace(\".\", \"\")\n",
    "\n",
    "print(SequenceMatcher(None, new_s1, new_s2).ratio())"
   ]
  },
  {
   "cell_type": "code",
   "execution_count": 213,
   "metadata": {},
   "outputs": [],
   "source": [
    "with open('conti_script_print.txt', 'r') as f:\n",
    "    data = f.read()\n",
    "file_list = data.splitlines()"
   ]
  },
  {
   "cell_type": "code",
   "execution_count": 10,
   "metadata": {},
   "outputs": [
    {
     "name": "stdout",
     "output_type": "stream",
     "text": [
      "0 0.0\n",
      "1 0.0\n",
      "2 0.0\n",
      "3 0.0\n",
      "4 0.0\n",
      "5 0.1111111111111111\n",
      "6 0.4444444444444444\n",
      "7 0.0\n",
      "8 0.1111111111111111\n",
      "9 0.0\n",
      "10 0.0\n"
     ]
    }
   ],
   "source": [
    "x = similarity3(file_list[0:11], '하느님이')"
   ]
  },
  {
   "cell_type": "code",
   "execution_count": 27,
   "metadata": {},
   "outputs": [],
   "source": [
    "result = {0: similarity3(file_list[0:11], '하')}"
   ]
  },
  {
   "cell_type": "code",
   "execution_count": 51,
   "metadata": {},
   "outputs": [],
   "source": [
    "result[13] = similarity3(file_list[0:11], '하느님이보우하사우리나라만세')"
   ]
  },
  {
   "cell_type": "code",
   "execution_count": 61,
   "metadata": {},
   "outputs": [],
   "source": [
    "result_list = []"
   ]
  },
  {
   "cell_type": "code",
   "execution_count": 124,
   "metadata": {},
   "outputs": [],
   "source": [
    "result_list.append(similarity3(file_list[0:11], '하느님이보우하사우리나라만세무궁화삼천리화려강산'))"
   ]
  },
  {
   "cell_type": "code",
   "execution_count": 80,
   "metadata": {},
   "outputs": [
    {
     "data": {
      "text/plain": [
       "[0.0,\n",
       " 0.0,\n",
       " 0.0,\n",
       " 0.0,\n",
       " 0.0,\n",
       " 0.07142857142857142,\n",
       " 1.0,\n",
       " 0.08333333333333333,\n",
       " 0.2857142857142857,\n",
       " 0.07142857142857142,\n",
       " 0.21428571428571427]"
      ]
     },
     "execution_count": 80,
     "metadata": {},
     "output_type": "execute_result"
    }
   ],
   "source": [
    "result_list[13]"
   ]
  },
  {
   "cell_type": "code",
   "execution_count": 98,
   "metadata": {},
   "outputs": [],
   "source": [
    "result_list_1 = np.array(result_list).T"
   ]
  },
  {
   "cell_type": "code",
   "execution_count": 226,
   "metadata": {},
   "outputs": [],
   "source": [
    "s1 = result_list[:13]"
   ]
  },
  {
   "cell_type": "code",
   "execution_count": 240,
   "metadata": {},
   "outputs": [
    {
     "data": {
      "image/png": "[encoded data removed]",
      "text/plain": [
       "<Figure size 432x288 with 1 Axes>"
      ]
     },
     "metadata": {
      "needs_background": "light"
     },
     "output_type": "display_data"
    }
   ],
   "source": [
    "from matplotlib import pyplot as plt\n",
    " \n",
    "plt.plot(s1)\n",
    "name = '한국말'\n",
    "plt.savefig('similarity_graph/'+name+'.png')\n",
    "# plt.show()"
   ]
  },
  {
   "cell_type": "code",
   "execution_count": 228,
   "metadata": {},
   "outputs": [],
   "source": [
    "s2 = result_list"
   ]
  },
  {
   "cell_type": "code",
   "execution_count": 229,
   "metadata": {},
   "outputs": [
    {
     "data": {
      "image/png": "[encoded data removed]",
      "text/plain": [
       "<Figure size 432x288 with 1 Axes>"
      ]
     },
     "metadata": {
      "needs_background": "light"
     },
     "output_type": "display_data"
    }
   ],
   "source": [
    "plt.plot(s2)\n",
    "plt.legend(['0', '1', '2', '3', '4', '5', '6', '7', '8', '9', '10'], bbox_to_anchor=(1, 1))\n",
    "plt.show()"
   ]
  },
  {
   "cell_type": "code",
   "execution_count": 174,
   "metadata": {},
   "outputs": [],
   "source": [
    "a = []"
   ]
  },
  {
   "cell_type": "code",
   "execution_count": 186,
   "metadata": {},
   "outputs": [],
   "source": [
    "a.append([10,9,8,7,6,5,4,3,2,1,0])"
   ]
  },
  {
   "cell_type": "code",
   "execution_count": 187,
   "metadata": {},
   "outputs": [
    {
     "data": {
      "image/png": "[encoded data removed]",
      "text/plain": [
       "<Figure size 432x288 with 1 Axes>"
      ]
     },
     "metadata": {
      "needs_background": "light"
     },
     "output_type": "display_data"
    }
   ],
   "source": [
    "plt.plot(a)\n",
    "plt.legend(['0', '1', '2', '3', '4', '5', '6', '7', '8', '9', '10'], bbox_to_anchor=(1, 1))\n",
    "plt.show()"
   ]
  },
  {
   "cell_type": "code",
   "execution_count": 214,
   "metadata": {},
   "outputs": [
    {
     "data": {
      "text/plain": [
       "[' ',\n",
       " ' ',\n",
       " ' ',\n",
       " ' ',\n",
       " ' ',\n",
       " '3월인데 여전히 춥다. ',\n",
       " '분명히 C동 1층이었는데.',\n",
       " '여기쯤인데. 왜 팻말이 없지?',\n",
       " '',\n",
       " '잠시만요!!',\n",
       " '저기 괜찮아요?',\n",
       " '아!!! 아파!! 아파~~~!!',\n",
       " '이 변태 새끼야!',\n",
       " '',\n",
       " '“위 동아리는 2019년 11월 30일 자로 폐부를 통지함. 해당 일까지 동아리 방을 비우고 동아리 연합회에 폐부신고서를 제출하기 바람” 형, 누나, 어떡해! 설마가 진짜가 됐어!',\n",
       " '',\n",
       " '뭐야! 안 놀래? ',\n",
       " '',\n",
       " '작년에 폐부 권고 통지받았고, 그거대로 올해 폐부통지서가 온 거잖아.',\n",
       " '우리 연극부의 겸둥이 유가 놀람 모드로 급 등장. 우리 유 진짜 이쁘죠? 제가 빠른 시일 내 유랑 같이 연극 분장 라방 준비할게요. 밤 열한시에 다시 만나요. 안녕 ~',\n",
       " '누나아-',\n",
       " '폐부 권고 아니었음 도래 오빠가 공연 올릴 맘도 안 먹었을걸? 불행 중 다행이라 생각해.',\n",
       " '버퍼링 긴 도래한테는 이 정도는 되야 자극이 되나봐. ',\n",
       " '연극부 들어와서 1년 반 만에 제대로 된 연극할 줄 알았는데 폐부라니! 말도 안돼! 폐부 되면 난 어디가?',\n",
       " '군대. ',\n",
       " '뭐야, 형! 팔 왜 그래? ',\n",
       " '말하자면 사연이 길다.   ',\n",
       " '또 어디서 뒹굴었어?',\n",
       " '짜잔! 여기 집중! 내 팔을 이 지경으로 만든 가해자이자 연극부 신입 부원, 철학과 3학년 이찬란을 소개합니다.',\n",
       " '헐, 신입부원?',\n",
       " '안녕하세요. 기획을 맡은 최시온입니다.',\n",
       " '난 분장, 의상 담당 진.',\n",
       " '전 활기 담당 유라고 해~유! ',\n",
       " '난 연극부 회장 윤도래.',\n",
       " '연극부에 오신 걸 다시 한번 환영합니다! ',\n",
       " '잠깐만요, 무슨 오해가 있는 것 같은데, 전 여기서 빌려 간 옷을 돌려주려 온 것 뿐이에요.',\n",
       " '어제, 여기 제 발로 찾아왔잖아.',\n",
       " '옷? 내가 모르는 의상 반출이 있었어?',\n",
       " '어제 페인트통 발로 팍, 옷에 찍! ',\n",
       " '나중이라도 나한테 말을 해줬어야지!',\n",
       " '얘가 내 팔 이렇게 만들고...',\n",
       " '그건 고의가 아니라 실수였어요. 변태인줄....',\n",
       " '애니웨이!! 페인트 뒤집어쓴 채 다닐 순 없어서 연극부 의상 렌트.',\n",
       " '그건 그쪽이 막무가내로.',\n",
       " '인간적으로 그냥 돌려보낼 수는 없잖아.',\n",
       " '저기요! 어쨌든 전 제 할 일 다 했어요. 안녕히 계세요.',\n",
       " '잠깐, 너, 내 팔을 이렇게 만들어 놓고 이렇게 가겠다고? 신입 부원 등록 해야지.',\n",
       " '정말 일관되게 무례하시네요.',\n",
       " '저기! 실례가 안 된다면 제가 잠시 개입을. 어떤 상황인지 이제 알겠네요. 찬란씨, 당황스럽게 한 점 대신 사과드릴게요. 반드시 연극부에 들어올 필요는 없지만, 그래도 한 번 제대로 된 설명 들어보고 생각해보면 어떨까요? 여기는 지난 몇 년 동안 공연을 올리지 않은 유령 연극부예요. 작년에 폐부 권고를 받았는데, 올해 말, 폐부 되기 전에 마지막으로 저희가 공연을 올리려고 합니다. 그래서 1년 동안 함께해줄 신입 부원을 찾다가, 글쎄, 이 녀석이 그쪽이 무척 마음에 들었나 봐요.',\n",
       " '4차 산업혁명 시대에 무슨 연극인가 싶죠? 좀 올드하긴 한데 완전 아날로그 연극작업이 은근 재밌어요. ',\n",
       " '여기 저 빼고 다 4학년이에요, 복학 둘, 재수하나. 전 파릇파릇한 현역 2학년. ',\n",
       " '부담스럽겠지만 한번 진지하게 고민을...',\n",
       " '저는...',\n",
       " '저는?',\n",
       " '그렇게 한가하지 못합니다.',\n",
       " ' ',\n",
       " ' ',\n",
       " ' ',\n",
       " ' ',\n",
       " ' ']"
      ]
     },
     "execution_count": 214,
     "metadata": {},
     "output_type": "execute_result"
    }
   ],
   "source": [
    "file_list"
   ]
  },
  {
   "cell_type": "code",
   "execution_count": 215,
   "metadata": {},
   "outputs": [],
   "source": [
    "for i in range (len(file_list)):\n",
    "    sentence = file_list[i].replace(\" \", \"\")\n",
    "    sentence = sentence.replace(\".\", \"\")\n",
    "    sentence = sentence.replace(\",\", \"\")\n",
    "    sentence = sentence.replace(\"!\", \"\")\n",
    "    sentence = sentence.replace(\"?\", \"\")\n",
    "    sentence = sentence.replace(\"~\", \"\")\n",
    "    sentence = sentence.replace('“', \"\")\n",
    "    sentence = sentence.replace('”', \"\")\n",
    "    sentence = sentence.replace('\"', \"\")\n",
    "    sentence = sentence.replace('-', \"\")\n",
    "    file_list[i] = sentence"
   ]
  },
  {
   "cell_type": "code",
   "execution_count": 216,
   "metadata": {},
   "outputs": [
    {
     "data": {
      "text/plain": [
       "['',\n",
       " '',\n",
       " '',\n",
       " '',\n",
       " '',\n",
       " '3월인데여전히춥다',\n",
       " '분명히C동1층이었는데',\n",
       " '여기쯤인데왜팻말이없지',\n",
       " '',\n",
       " '잠시만요',\n",
       " '저기괜찮아요',\n",
       " '아아파아파',\n",
       " '이변태새끼야',\n",
       " '',\n",
       " '위동아리는2019년11월30일자로폐부를통지함해당일까지동아리방을비우고동아리연합회에폐부신고서를제출하기바람형누나어떡해설마가진짜가됐어',\n",
       " '',\n",
       " '뭐야안놀래',\n",
       " '',\n",
       " '작년에폐부권고통지받았고그거대로올해폐부통지서가온거잖아',\n",
       " '우리연극부의겸둥이유가놀람모드로급등장우리유진짜이쁘죠제가빠른시일내유랑같이연극분장라방준비할게요밤열한시에다시만나요안녕',\n",
       " '누나아',\n",
       " '폐부권고아니었음도래오빠가공연올릴맘도안먹었을걸불행중다행이라생각해',\n",
       " '버퍼링긴도래한테는이정도는되야자극이되나봐',\n",
       " '연극부들어와서1년반만에제대로된연극할줄알았는데폐부라니말도안돼폐부되면난어디가',\n",
       " '군대',\n",
       " '뭐야형팔왜그래',\n",
       " '말하자면사연이길다',\n",
       " '또어디서뒹굴었어',\n",
       " '짜잔여기집중내팔을이지경으로만든가해자이자연극부신입부원철학과3학년이찬란을소개합니다',\n",
       " '헐신입부원',\n",
       " '안녕하세요기획을맡은최시온입니다',\n",
       " '난분장의상담당진',\n",
       " '전활기담당유라고해유',\n",
       " '난연극부회장윤도래',\n",
       " '연극부에오신걸다시한번환영합니다',\n",
       " '잠깐만요무슨오해가있는것같은데전여기서빌려간옷을돌려주려온것뿐이에요',\n",
       " '어제여기제발로찾아왔잖아',\n",
       " '옷내가모르는의상반출이있었어',\n",
       " '어제페인트통발로팍옷에찍',\n",
       " '나중이라도나한테말을해줬어야지',\n",
       " '얘가내팔이렇게만들고',\n",
       " '그건고의가아니라실수였어요변태인줄',\n",
       " '애니웨이페인트뒤집어쓴채다닐순없어서연극부의상렌트',\n",
       " '그건그쪽이막무가내로',\n",
       " '인간적으로그냥돌려보낼수는없잖아',\n",
       " '저기요어쨌든전제할일다했어요안녕히계세요',\n",
       " '잠깐너내팔을이렇게만들어놓고이렇게가겠다고신입부원등록해야지',\n",
       " '정말일관되게무례하시네요',\n",
       " '저기실례가안된다면제가잠시개입을어떤상황인지이제알겠네요찬란씨당황스럽게한점대신사과드릴게요반드시연극부에들어올필요는없지만그래도한번제대로된설명들어보고생각해보면어떨까요여기는지난몇년동안공연을올리지않은유령연극부예요작년에폐부권고를받았는데올해말폐부되기전에마지막으로저희가공연을올리려고합니다그래서1년동안함께해줄신입부원을찾다가글쎄이녀석이그쪽이무척마음에들었나봐요',\n",
       " '4차산업혁명시대에무슨연극인가싶죠좀올드하긴한데완전아날로그연극작업이은근재밌어요',\n",
       " '여기저빼고다4학년이에요복학둘재수하나전파릇파릇한현역2학년',\n",
       " '부담스럽겠지만한번진지하게고민을',\n",
       " '저는',\n",
       " '저는',\n",
       " '그렇게한가하지못합니다',\n",
       " '',\n",
       " '',\n",
       " '',\n",
       " '',\n",
       " '']"
      ]
     },
     "execution_count": 216,
     "metadata": {},
     "output_type": "execute_result"
    }
   ],
   "source": [
    "file_list"
   ]
  },
  {
   "cell_type": "code",
   "execution_count": 220,
   "metadata": {},
   "outputs": [],
   "source": [
    "with open('conti_script_compare.txt', 'w') as f:\n",
    "    for line in file_list:\n",
    "        f.writelines(line+'\\n')"
   ]
  },
  {
   "cell_type": "code",
   "execution_count": 222,
   "metadata": {},
   "outputs": [],
   "source": [
    "with open('conti_script_compare.txt', 'r') as f:\n",
    "    data = f.read()\n",
    "script_data = data.splitlines()"
   ]
  },
  {
   "cell_type": "code",
   "execution_count": 247,
   "metadata": {},
   "outputs": [
    {
     "data": {
      "text/plain": [
       "1.0"
      ]
     },
     "execution_count": 247,
     "metadata": {},
     "output_type": "execute_result"
    }
   ],
   "source": [
    "SequenceMatcher(None, '동해물과백두산이마르고닳도록', '동해물과백두산이마르고닳도록').ratio()"
   ]
  },
  {
   "cell_type": "code",
   "execution_count": 248,
   "metadata": {},
   "outputs": [
    {
     "data": {
      "text/plain": [
       "0.0"
      ]
     },
     "execution_count": 248,
     "metadata": {},
     "output_type": "execute_result"
    }
   ],
   "source": [
    "SequenceMatcher(None, '', '동해물과백두산이마르고닳도록').ratio()"
   ]
  },
  {
   "cell_type": "code",
   "execution_count": 250,
   "metadata": {},
   "outputs": [],
   "source": [
    "a = [[0.0, 0.0, 0.0, 0.0, 0.0, 0.0, 0.0, 0.0, 0.0, 0.0, 0.0]]"
   ]
  },
  {
   "cell_type": "code",
   "execution_count": 251,
   "metadata": {},
   "outputs": [
    {
     "data": {
      "text/plain": [
       "0"
      ]
     },
     "execution_count": 251,
     "metadata": {},
     "output_type": "execute_result"
    }
   ],
   "source": [
    "np.argmax(a)"
   ]
  },
  {
   "cell_type": "code",
   "execution_count": 253,
   "metadata": {},
   "outputs": [],
   "source": [
    "def similarity2(script, present_sentence, present_point):\n",
    "#     print('present_point', present_point)\n",
    "    print('present_sentence', present_sentence)\n",
    "    present_sentence = present_sentence.replace(\" \", \"\")\n",
    "    present_sentence = present_sentence.replace(\".\", \"\")\n",
    "    ratio = []\n",
    "    for i in range(len(script)):\n",
    "        script_sentence = script[i].replace(\" \", \"\")\n",
    "        script_sentence = script_sentence.replace(\".\", \"\")\n",
    "    \n",
    "        ratio.append(SequenceMatcher(None, present_sentence, script_sentence).ratio())\n",
    "    #경험적으로, ratio() 값이 0.6 이상이면 시퀀스가 근접하게 일치함을 뜻합니다:\n",
    "    print(ratio)\n",
    "    if(np.max(ratio) > 0.4):\n",
    "        print('현재 대본: ', script[np.argmax(ratio)], np.max(ratio) ,\"                                           \")\n",
    "        return np.argmax(ratio) + present_point - 5\n",
    "    else:\n",
    "        print('현재 대본 : 없음                                                       ')\n",
    "        return present_point"
   ]
  },
  {
   "cell_type": "code",
   "execution_count": 254,
   "metadata": {},
   "outputs": [
    {
     "name": "stdout",
     "output_type": "stream",
     "text": [
      "present_sentence 아아\n",
      "[0.0, 0.0, 0.0, 0.0, 0.0, 0.0, 0.0, 0.0, 0.0, 0.0, 0.25]\n",
      "현재 대본 : 없음                                                       \n"
     ]
    },
    {
     "data": {
      "text/plain": [
       "5"
      ]
     },
     "execution_count": 254,
     "metadata": {},
     "output_type": "execute_result"
    }
   ],
   "source": [
    "similarity2(file_list[:11], '아아', 5)"
   ]
  },
  {
   "cell_type": "code",
   "execution_count": 277,
   "metadata": {},
   "outputs": [],
   "source": [
    "with open('conti_script_print.txt', 'r') as f:\n",
    "    data = f.read()\n",
    "script_data = data.splitlines()\n",
    "present_point = 5"
   ]
  },
  {
   "cell_type": "code",
   "execution_count": 289,
   "metadata": {},
   "outputs": [],
   "source": [
    "def similarity4(script, present_sentence):\n",
    "    present_sentence = present_sentence.replace(\" \", \"\")\n",
    "    present_sentence = present_sentence.replace(\".\", \"\")\n",
    "    ratio = []\n",
    "    for i in range(len(script)):\n",
    "        script_sentence = script[i].replace(\" \", \"\")\n",
    "        script_sentence = script_sentence.replace(\".\", \"\")\n",
    "    \n",
    "        ratio.append(SequenceMatcher(None, present_sentence, script_sentence).ratio())\n",
    "    return ratio"
   ]
  },
  {
   "cell_type": "code",
   "execution_count": 279,
   "metadata": {},
   "outputs": [],
   "source": [
    "result_list = []\n",
    "result_list.append(similarity4(script_data[present_point-5:present_point+6], '뭐야 형',present_point))"
   ]
  },
  {
   "cell_type": "code",
   "execution_count": 280,
   "metadata": {},
   "outputs": [
    {
     "data": {
      "text/plain": [
       "[<matplotlib.lines.Line2D at 0x15d67eacb20>,\n",
       " <matplotlib.lines.Line2D at 0x15d67eacc10>,\n",
       " <matplotlib.lines.Line2D at 0x15d67eaccd0>,\n",
       " <matplotlib.lines.Line2D at 0x15d67eacd90>,\n",
       " <matplotlib.lines.Line2D at 0x15d67eace50>,\n",
       " <matplotlib.lines.Line2D at 0x15d67eacf10>,\n",
       " <matplotlib.lines.Line2D at 0x15d67eacfd0>,\n",
       " <matplotlib.lines.Line2D at 0x15d67ece0d0>,\n",
       " <matplotlib.lines.Line2D at 0x15d67ece190>,\n",
       " <matplotlib.lines.Line2D at 0x15d67ece250>,\n",
       " <matplotlib.lines.Line2D at 0x15d67e8b8e0>]"
      ]
     },
     "execution_count": 280,
     "metadata": {},
     "output_type": "execute_result"
    },
    {
     "data": {
      "image/png": "[encoded data removed]",
      "text/plain": [
       "<Figure size 432x288 with 1 Axes>"
      ]
     },
     "metadata": {
      "needs_background": "light"
     },
     "output_type": "display_data"
    }
   ],
   "source": [
    "plt.plot(result_list)"
   ]
  },
  {
   "cell_type": "code",
   "execution_count": 281,
   "metadata": {},
   "outputs": [
    {
     "data": {
      "text/plain": [
       "[[0.0, 0.0, 0.0, 0.0, 0.0, 0.0, 0.0, 0.0, 0.0, 0.0, 0.0]]"
      ]
     },
     "execution_count": 281,
     "metadata": {},
     "output_type": "execute_result"
    }
   ],
   "source": [
    "result_list"
   ]
  },
  {
   "cell_type": "code",
   "execution_count": 282,
   "metadata": {},
   "outputs": [
    {
     "data": {
      "text/plain": [
       "[' ',\n",
       " ' ',\n",
       " ' ',\n",
       " ' ',\n",
       " ' ',\n",
       " '3월인데 여전히 춥다. ',\n",
       " '분명히 C동 1층이었는데.',\n",
       " '여기쯤인데. 왜 팻말이 없지?',\n",
       " '',\n",
       " '잠시만요!!',\n",
       " '저기 괜찮아요?']"
      ]
     },
     "execution_count": 282,
     "metadata": {},
     "output_type": "execute_result"
    }
   ],
   "source": [
    "script_data[present_point-5:present_point+6]"
   ]
  },
  {
   "cell_type": "code",
   "execution_count": 287,
   "metadata": {},
   "outputs": [
    {
     "data": {
      "text/plain": [
       "False"
      ]
     },
     "execution_count": 287,
     "metadata": {},
     "output_type": "execute_result"
    }
   ],
   "source": [
    "present_point = 5\n",
    "present_point < 5"
   ]
  },
  {
   "cell_type": "code",
   "execution_count": 288,
   "metadata": {},
   "outputs": [],
   "source": [
    "script = ['3월인데여전히춥다',\n",
    "'분명히C동1층이었는데',\n",
    "'여기쯤인데왜팻말이없지',\n",
    "\n",
    "'잠시만요',\n",
    "'저기괜찮아요',\n",
    "'아아파아파',\n",
    "'이변태새끼야',\n",
    "\n",
    "'위동아리는2019년11월30일자로폐부를통지함해당일까지동아리방을비우고동아리연합회에폐부신고서를제출하기바람형누나어떡해설마가진짜가됐어',\n",
    "\n",
    "'뭐야안놀래',\n",
    "\n",
    "'작년에폐부권고통지받았고그거대로올해폐부통지서가온거잖아']"
   ]
  },
  {
   "cell_type": "code",
   "execution_count": 331,
   "metadata": {},
   "outputs": [],
   "source": [
    "script = ['어제여기제발로찾아왔잖아',\n",
    "'옷내가모르는의상반출이있었어',\n",
    "'어제페인트통발로팍옷에찍',\n",
    "'나중이라도나한테말을해줬어야지',\n",
    "'얘가내팔이렇게만들고',\n",
    "'그건고의가아니라실수였어요변태인줄',\n",
    "'애니웨이페인트뒤집어쓴채다닐순없어서연극부의상렌트',\n",
    "'그건그쪽이막무가내로',\n",
    "'인간적으로그냥돌려보낼수는없잖아',\n",
    "'저기요어쨌든전제할일다했어요안녕히계세요',\n",
    "'잠깐너내팔을이렇게만들어놓고이렇게가겠다고신입부원등록해야지']"
   ]
  },
  {
   "cell_type": "code",
   "execution_count": 347,
   "metadata": {},
   "outputs": [],
   "source": [
    "script = ['버퍼링긴도래한테는이정도는되야자극이되나봐',\n",
    "'연극부들어와서1년반만에제대로된연극할줄알았는데폐부라니말도안돼폐부되면난어디가',\n",
    "'군대',\n",
    "'뭐야형팔왜그래',\n",
    "'말하자면사연이길다',\n",
    "'또어디서뒹굴었어',\n",
    "'짜잔여기집중내팔을이지경으로만든가해자이자연극부신입부원철학과3학년이찬란을소개합니다',\n",
    "'헐신입부원',\n",
    "'안녕하세요기획을맡은최시온입니다',\n",
    "'난분장의상담당진',\n",
    "'전활기담당유라고해유']"
   ]
  },
  {
   "cell_type": "code",
   "execution_count": 360,
   "metadata": {},
   "outputs": [],
   "source": [
    "script = ['목민심서 정약용',\n",
    "'녹두장군 전봉준 순교 김대건',\n",
    "'서화가무 황진이',\n",
    "'못살겠다 홍경래 삼일천하 김옥균',\n",
    "'안중근은 애국 이완용은 매국',\n",
    "'별헤는 밤 윤동주 종두 지석영',\n",
    "'삼십삼인 손병희',\n",
    "'만세만세 유관순 도산 안창호',\n",
    "'어린이날 방정환',\n",
    "'이수일과 심순애 장군의 아들 김두한',\n",
    "'날자꾸나 이상 황소그림 중섭']"
   ]
  },
  {
   "cell_type": "code",
   "execution_count": null,
   "metadata": {},
   "outputs": [],
   "source": [
    "별의\n",
    " 별헤는\n",
    " 별헤는밤\n",
    " 별 헤는 밤 윤동주\n",
    " 별 헤는 밤 윤동주 줘\n",
    " 별 헤는 밤 윤동주 종두\n",
    " 별 헤는 밤 윤동주\n",
    " 별 헤는 밤 윤동주\n",
    " 별 헤는 밤 윤동주 종두\n",
    " 별 헤는 밤 윤동주 종두 지석영\n",
    " 별 헤는 밤 윤동주 종두 지석영\n",
    " 별 헤는 밤 윤동주 종두 지석영 33인\n",
    " 별 헤는 밤 윤동주 종두 지석영 33인\n",
    " 별 헤는 밤 윤동주 종두 지석영 33인 손병희\n",
    " 별 헤는 밤 윤동주 종두 지석영 33인 손병희\n",
    " 별 헤는 밤 윤동주 종두 지석영 33인 손병희\n",
    " 별 헤는 밤 윤동주 종두 지석영 33인 손병희 만세 만세\n",
    " 별 헤는 밤 윤동주 종두 지석영 33인 손병희 만세 만세 유관순\n",
    " 별 헤는 밤 윤동주 종두 지석영 33인 손병희 만세 만세 유관순"
   ]
  },
  {
   "cell_type": "code",
   "execution_count": 379,
   "metadata": {},
   "outputs": [],
   "source": [
    "result_list = []"
   ]
  },
  {
   "cell_type": "code",
   "execution_count": 398,
   "metadata": {},
   "outputs": [],
   "source": [
    "result_list.append(similarity4(script, '별헤는밤윤동주종두지석영33인손병희만세만세유관순'))"
   ]
  },
  {
   "cell_type": "code",
   "execution_count": 468,
   "metadata": {},
   "outputs": [
    {
     "data": {
      "image/png": "[encoded data removed]",
      "text/plain": [
       "<Figure size 432x288 with 1 Axes>"
      ]
     },
     "metadata": {
      "needs_background": "light"
     },
     "output_type": "display_data"
    }
   ],
   "source": [
    "plt.clf()\n",
    "plt.plot(result_list)\n",
    "plt.legend(['0', '1', '2', '3', '4', '5', '6', '7', '8', '9', '10'], bbox_to_anchor=(1, 1))\n",
    "plt.savefig('similarity_graph/별헤는밤.png')"
   ]
  },
  {
   "cell_type": "code",
   "execution_count": 330,
   "metadata": {},
   "outputs": [
    {
     "data": {
      "text/plain": [
       "'그건그쪽이막무가내로'"
      ]
     },
     "execution_count": 330,
     "metadata": {},
     "output_type": "execute_result"
    }
   ],
   "source": [
    "script[7]"
   ]
  },
  {
   "cell_type": "code",
   "execution_count": 469,
   "metadata": {},
   "outputs": [],
   "source": [
    "a = result_list"
   ]
  },
  {
   "cell_type": "code",
   "execution_count": 406,
   "metadata": {},
   "outputs": [
    {
     "data": {
      "text/plain": [
       "19"
      ]
     },
     "execution_count": 406,
     "metadata": {},
     "output_type": "execute_result"
    }
   ],
   "source": [
    "a[1][0]-a[0][0]\n",
    "len(a)"
   ]
  },
  {
   "cell_type": "code",
   "execution_count": 539,
   "metadata": {},
   "outputs": [],
   "source": [
    "inside = []\n",
    "outside = []\n",
    "for i in range(len(a)-1):\n",
    "    inside = []\n",
    "    for k in range(10):\n",
    "        inside.append((a[i+1][k]-a[i][k])**2)\n",
    "    outside.append(inside)"
   ]
  },
  {
   "cell_type": "code",
   "execution_count": 541,
   "metadata": {},
   "outputs": [
    {
     "data": {
      "text/plain": [
       "<matplotlib.legend.Legend at 0x15d6c675a00>"
      ]
     },
     "execution_count": 541,
     "metadata": {},
     "output_type": "execute_result"
    },
    {
     "data": {
      "image/png": "[encoded data removed]",
      "text/plain": [
       "<Figure size 432x288 with 1 Axes>"
      ]
     },
     "metadata": {
      "needs_background": "light"
     },
     "output_type": "display_data"
    }
   ],
   "source": [
    "plt.clf()\n",
    "plt.plot(outside)\n",
    "plt.axvline(x=10, color='r', linewidth=1)\n",
    "plt.axvline(x=15, color='r', linewidth=1)\n",
    "plt.legend(['0', '1', '2', '3', '4', '5', '6', '7', '8', '9', '10'], bbox_to_anchor=(1, 1))"
   ]
  },
  {
   "cell_type": "code",
   "execution_count": 457,
   "metadata": {},
   "outputs": [
    {
     "name": "stdout",
     "output_type": "stream",
     "text": [
      "5 0.2571428571428572\n",
      "5 0.09999999999999998\n",
      "5 0.23684210526315785\n",
      "0 0.0\n",
      "5 0.15714285714285714\n",
      "0 0.0\n",
      "0 0.0\n",
      "5 0.12030075187969924\n",
      "5 0.1428571428571429\n",
      "0 0.0\n",
      "6 0.09090909090909091\n",
      "0 0.0\n",
      "6 0.2290909090909091\n",
      "0 0.0\n",
      "0 0.0\n",
      "7 0.23529411764705882\n",
      "7 0.14308426073131958\n",
      "0 0.0\n"
     ]
    }
   ],
   "source": [
    "for i in outside:\n",
    "    print(np.argmax(i), i[np.argmax(i)])\n",
    "    "
   ]
  },
  {
   "cell_type": "code",
   "execution_count": 542,
   "metadata": {},
   "outputs": [
    {
     "data": {
      "text/plain": [
       "<matplotlib.legend.Legend at 0x15d6c773ca0>"
      ]
     },
     "execution_count": 542,
     "metadata": {},
     "output_type": "execute_result"
    },
    {
     "data": {
      "image/png": "[encoded data removed]",
      "text/plain": [
       "<Figure size 432x288 with 1 Axes>"
      ]
     },
     "metadata": {
      "needs_background": "light"
     },
     "output_type": "display_data"
    }
   ],
   "source": [
    "plt.clf()\n",
    "plt.plot(result_list)\n",
    "plt.axvline(x=10, color='r', linewidth=1)\n",
    "plt.axvline(x=15, color='r', linewidth=1)\n",
    "plt.legend(['0', '1', '2', '3', '4', '5', '6', '7', '8', '9', '10'], bbox_to_anchor=(1, 1))"
   ]
  },
  {
   "cell_type": "code",
   "execution_count": null,
   "metadata": {},
   "outputs": [],
   "source": []
  }
 ],
 "metadata": {
  "kernelspec": {
   "display_name": "Python 3",
   "language": "python",
   "name": "python3"
  },
  "language_info": {
   "codemirror_mode": {
    "name": "ipython",
    "version": 3
   },
   "file_extension": ".py",
   "mimetype": "text/x-python",
   "name": "python",
   "nbconvert_exporter": "python",
   "pygments_lexer": "ipython3",
   "version": "3.8.3"
  }
 },
 "nbformat": 4,
 "nbformat_minor": 4
}
