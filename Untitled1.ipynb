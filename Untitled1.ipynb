{
 "cells": [
  {
   "cell_type": "code",
   "execution_count": 1,
   "metadata": {},
   "outputs": [],
   "source": [
    "import librosa\n",
    "import soundfile as sf\n",
    "import matplotlib.pyplot as plt\n",
    "import librosa.display\n",
    "import numpy as np\n",
    "import shutil\n",
    "\n",
    "\n",
    "import os\n",
    "import IPython.display"
   ]
  },
  {
   "cell_type": "code",
   "execution_count": 2,
   "metadata": {},
   "outputs": [],
   "source": [
    "def load(file_name):\n",
    "    wav = file_name\n",
    "\n",
    "    file_sr = librosa.get_samplerate(wav)\n",
    "    y, sr = librosa.load(wav, sr=file_sr)\n",
    "    return y, sr"
   ]
  },
  {
   "cell_type": "code",
   "execution_count": 12,
   "metadata": {},
   "outputs": [],
   "source": [
    "def split(y, sr, outputdir, name):\n",
    "    during = 59 * sr\n",
    "    amount = int(len(y) / during)\n",
    "    \n",
    "    for i in range(amount):\n",
    "        start = (i*59) * sr\n",
    "        end = start + during\n",
    "        newy = y[start:end]\n",
    "        resample = librosa.resample(newy, sr, 16000)\n",
    "        sf.write(outputdir + name + str(i) + \".wav\", resample, 16000, subtype='PCM_16')"
   ]
  },
  {
   "cell_type": "code",
   "execution_count": 13,
   "metadata": {},
   "outputs": [],
   "source": [
    "directory = 'STT_audiobook/wav/'\n",
    "filelist = os.listdir(directory)\n",
    "\n",
    "for file in filelist:\n",
    "    y, sr = load(directory+ file)\n",
    "    split(y, sr, 'STT_audiobook/split2/', file)"
   ]
  },
  {
   "cell_type": "code",
   "execution_count": 11,
   "metadata": {},
   "outputs": [
    {
     "data": {
      "text/plain": [
       "44100"
      ]
     },
     "execution_count": 11,
     "metadata": {},
     "output_type": "execute_result"
    }
   ],
   "source": [
    "sr"
   ]
  },
  {
   "cell_type": "code",
   "execution_count": 4,
   "metadata": {},
   "outputs": [],
   "source": [
    "y, sr = load('STT_audiobook/split/1.wav0.wav')"
   ]
  },
  {
   "cell_type": "code",
   "execution_count": 18,
   "metadata": {},
   "outputs": [
    {
     "data": {
      "text/plain": [
       "5348181.333333333"
      ]
     },
     "execution_count": 18,
     "metadata": {},
     "output_type": "execute_result"
    }
   ],
   "source": [
    "len(y)/3"
   ]
  },
  {
   "cell_type": "code",
   "execution_count": 21,
   "metadata": {},
   "outputs": [],
   "source": [
    "sf.write(\"00009_1.wav\", y[:5000000], sr, subtype='PCM_16')"
   ]
  },
  {
   "cell_type": "code",
   "execution_count": 22,
   "metadata": {},
   "outputs": [
    {
     "ename": "NameError",
     "evalue": "name 'subprocess' is not defined",
     "output_type": "error",
     "traceback": [
      "\u001b[1;31m---------------------------------------------------------------------------\u001b[0m",
      "\u001b[1;31mNameError\u001b[0m                                 Traceback (most recent call last)",
      "\u001b[1;32m<ipython-input-22-f98637ab6e04>\u001b[0m in \u001b[0;36m<module>\u001b[1;34m\u001b[0m\n\u001b[1;32m----> 1\u001b[1;33m \u001b[0msubprocess\u001b[0m\u001b[1;33m.\u001b[0m\u001b[0mcall\u001b[0m\u001b[1;33m(\u001b[0m\u001b[1;33m[\u001b[0m\u001b[1;34m'avconv'\u001b[0m\u001b[1;33m,\u001b[0m \u001b[1;34m'-i'\u001b[0m\u001b[1;33m,\u001b[0m \u001b[1;34m'00009.wav'\u001b[0m\u001b[1;33m,\u001b[0m \u001b[1;34m'-y'\u001b[0m\u001b[1;33m,\u001b[0m \u001b[1;34m'-ar'\u001b[0m\u001b[1;33m,\u001b[0m \u001b[1;34m'16000'\u001b[0m\u001b[1;33m,\u001b[0m \u001b[1;34m'-ac'\u001b[0m\u001b[1;33m,\u001b[0m \u001b[1;34m'1'\u001b[0m\u001b[1;33m,\u001b[0m \u001b[1;34m'00009.flac'\u001b[0m\u001b[1;33m]\u001b[0m\u001b[1;33m)\u001b[0m\u001b[1;33m\u001b[0m\u001b[1;33m\u001b[0m\u001b[0m\n\u001b[0m",
      "\u001b[1;31mNameError\u001b[0m: name 'subprocess' is not defined"
     ]
    }
   ],
   "source": []
  },
  {
   "cell_type": "code",
   "execution_count": 56,
   "metadata": {},
   "outputs": [],
   "source": [
    "y1, sr1 = load('STT_audiobook/split2/9.wav3.wav')\n",
    "y2, sr2 = load('audio/split/00008.wav4.wav')\n",
    "y3, sr3 = load('audio/split/00006.wav5.wav')"
   ]
  },
  {
   "cell_type": "code",
   "execution_count": 58,
   "metadata": {},
   "outputs": [],
   "source": [
    "wav = np.concatenate((y1, y2, y3), axis=0)"
   ]
  },
  {
   "cell_type": "code",
   "execution_count": 59,
   "metadata": {},
   "outputs": [],
   "source": [
    "sf.write(\"example4.wav\", wav, sr1, subtype='PCM_16')"
   ]
  },
  {
   "cell_type": "code",
   "execution_count": 57,
   "metadata": {},
   "outputs": [
    {
     "data": {
      "text/plain": [
       "16000"
      ]
     },
     "execution_count": 57,
     "metadata": {},
     "output_type": "execute_result"
    }
   ],
   "source": [
    "sr2"
   ]
  },
  {
   "cell_type": "code",
   "execution_count": 45,
   "metadata": {},
   "outputs": [
    {
     "name": "stdout",
     "output_type": "stream",
     "text": [
      "[ 0.01480103  0.02450562  0.02197266 ... -0.05654907 -0.05111694\n",
      " -0.04678345]\n"
     ]
    }
   ],
   "source": [
    "print(wav)"
   ]
  },
  {
   "cell_type": "code",
   "execution_count": null,
   "metadata": {},
   "outputs": [],
   "source": []
  }
 ],
 "metadata": {
  "kernelspec": {
   "display_name": "Python 3",
   "language": "python",
   "name": "python3"
  },
  "language_info": {
   "codemirror_mode": {
    "name": "ipython",
    "version": 3
   },
   "file_extension": ".py",
   "mimetype": "text/x-python",
   "name": "python",
   "nbconvert_exporter": "python",
   "pygments_lexer": "ipython3",
   "version": "3.8.3"
  }
 },
 "nbformat": 4,
 "nbformat_minor": 4
}
