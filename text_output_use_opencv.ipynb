{
 "cells": [
  {
   "cell_type": "code",
   "execution_count": 6,
   "metadata": {},
   "outputs": [],
   "source": [
    "import numpy as np\n",
    "from PIL import ImageFont, ImageDraw, Image\n",
    "import cv2\n",
    "\n",
    "font = ImageFont.truetype(\"fonts/gulim.ttc\", 20)\n",
    "\n",
    "img = np.full((600,800,3), (255,255, 255), np.uint8)\n",
    "img = Image.fromarray(img)\n",
    "\n",
    "draw = ImageDraw.Draw(img)\n",
    "text = '           지도    가방 안에 넣고서'\n",
    "text2 = '때 묻은       는                        '\n",
    "\n",
    "draw.text((30, 50), text, font=font, fill=(0,0,255))\n",
    "draw.text((30, 50), text2, font=font, fill=(0,0,0))\n",
    "\n",
    "img = np.array(img)\n",
    "# img = cv2.rectangle(img, (30, 50), (700, 70), (255,255,255), -1)\n",
    "\n",
    "cv2.namedWindow('text')\n",
    "cv2.imshow(\"text\", img)\n",
    "\n",
    "cv2.waitKey()\n",
    "cv2.destroyAllWindows()"
   ]
  },
  {
   "cell_type": "code",
   "execution_count": null,
   "metadata": {},
   "outputs": [],
   "source": [
    "import numpy as np\n",
    "from PIL import ImageFont, ImageDraw, Image\n",
    "import cv2\n",
    "\n",
    "x = 0\n",
    "img = np.full((600,800,3), (255,255, 255), np.uint8)\n",
    "img = Image.fromarray(img)\n",
    "draw = ImageDraw.Draw(img)\n",
    "cv2.namedWindow('text')\n",
    "\n",
    "font = cv2.FONT_HERSHEY_PLAIN\n",
    "\n",
    "\n",
    "while(1):\n",
    "    x = x + 1\n",
    "    text = '           지도    가방 안에 넣고서' + str(x)\n",
    "    text2 = '때 묻은       는                        ' + str(x)\n",
    "    \n",
    "    draw.text((30+x, 50), text, font=font, fill=(0,0,255))\n",
    "    draw.text((30, 50+x), text2, font=font, fill=(0,0,0))\n",
    "\n",
    "    img = np.array(img)\n",
    "    \n",
    "    cv2.putText(img, '한글', (30, 50), font, 5, (0,0,0), 7, cv2.LINE_AA)\n",
    "\n",
    "    \n",
    "#     img = cv2.rectangle(img, (30, 50), (700, 70), (255,255,255), -1)\n",
    "\n",
    "    cv2.imshow(\"text\", img)    \n",
    "    if cv2.waitKey(1) & 0xFF == ord('q'): # 'q' : 종료\n",
    "        start = False\n",
    "        break\n",
    "cv2.destroyAllWindows()"
   ]
  },
  {
   "cell_type": "code",
   "execution_count": 4,
   "metadata": {},
   "outputs": [],
   "source": [
    "import numpy as np\n",
    "from PIL import ImageFont, ImageDraw, Image\n",
    "import cv2\n",
    "\n",
    "x = 0\n",
    "img = np.full((600,800,3), (255,255, 255), np.uint8)\n",
    "img = Image.fromarray(img)\n",
    "draw = ImageDraw.Draw(img)\n",
    "cv2.namedWindow('text')\n",
    "\n",
    "font = cv2.FONT_HERSHEY_PLAIN\n",
    "\n",
    "\n",
    "while(1):\n",
    "    x = x +1\n",
    "    text = '           지도    가방 안에 넣고서' + str(x)\n",
    "    text2 = '때 묻은       는                        ' + str(x)\n",
    "    \n",
    "#     draw.text((30+x, 50), text, font=font, fill=(0,0,255))\n",
    "#     draw.text((30, 50+x), text2, font=font, fill=(0,0,0))\n",
    "\n",
    "    img = np.array(img)\n",
    "    \n",
    "    cv2.putText(img, '한글', (30, 50), font, 5, (0,0,0), 7, cv2.LINE_AA)\n",
    "\n",
    "    \n",
    "#     img = cv2.rectangle(img, (30, 50), (700, 70), (255,255,255), -1)\n",
    "\n",
    "    cv2.imshow(\"text\", img)    \n",
    "    if cv2.waitKey(1) & 0xFF == ord('q'): # 'q' : 종료\n",
    "        start = False\n",
    "        break\n",
    "cv2.destroyAllWindows()"
   ]
  },
  {
   "cell_type": "code",
   "execution_count": 2,
   "metadata": {},
   "outputs": [],
   "source": [
    "import numpy as np\n",
    "from PIL import ImageFont, ImageDraw, Image\n",
    "import cv2\n",
    "\n",
    "font = ImageFont.truetype(\"fonts/gulim.ttc\", 20)\n",
    "\n",
    "img = np.full((600,800,3), (255,255, 255), np.uint8)\n",
    "img = Image.fromarray(img)\n",
    "\n",
    "draw = ImageDraw.Draw(img)\n",
    "text = '           지도    가방 안에 넣고서'\n",
    "text2 = '때 묻은       는                        '\n",
    "for i in range(10):\n",
    "    x = i * 10\n",
    "    draw.text((30+x, 50), text, font=font, fill=(0,0,255))\n",
    "    draw.text((30, 50+x), text2, font=font, fill=(0,0,0))\n",
    "    img = np.array(img)\n",
    "    cv2.namedWindow('text')\n",
    "    cv2.imshow(\"text\", img)\n",
    "\n",
    "img = np.array(img)\n",
    "\n",
    "cv2.namedWindow('text')\n",
    "cv2.imshow(\"text\", img)\n",
    "\n",
    "cv2.waitKey()\n",
    "cv2.destroyAllWindows()"
   ]
  },
  {
   "cell_type": "code",
   "execution_count": null,
   "metadata": {},
   "outputs": [],
   "source": [
    "import numpy as np\n",
    "from PIL import ImageFont, ImageDraw, Image\n",
    "import cv2\n",
    "\n",
    "while(True):"
   ]
  },
  {
   "cell_type": "code",
   "execution_count": 5,
   "metadata": {},
   "outputs": [
    {
     "data": {
      "text/plain": [
       "0.0"
      ]
     },
     "execution_count": 5,
     "metadata": {},
     "output_type": "execute_result"
    }
   ],
   "source": [
    "cap.get(4)"
   ]
  },
  {
   "cell_type": "code",
   "execution_count": null,
   "metadata": {},
   "outputs": [],
   "source": []
  }
 ],
 "metadata": {
  "kernelspec": {
   "display_name": "Python 3",
   "language": "python",
   "name": "python3"
  },
  "language_info": {
   "codemirror_mode": {
    "name": "ipython",
    "version": 3
   },
   "file_extension": ".py",
   "mimetype": "text/x-python",
   "name": "python",
   "nbconvert_exporter": "python",
   "pygments_lexer": "ipython3",
   "version": "3.8.3"
  }
 },
 "nbformat": 4,
 "nbformat_minor": 4
}
