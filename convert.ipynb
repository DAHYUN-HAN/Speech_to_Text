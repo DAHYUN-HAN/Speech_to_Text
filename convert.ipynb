{
 "cells": [
  {
   "cell_type": "code",
   "execution_count": 1,
   "metadata": {},
   "outputs": [],
   "source": [
    "import subprocess\n",
    "import os, sys\n",
    "import librosa\n",
    "import soundfile as sf"
   ]
  },
  {
   "cell_type": "code",
   "execution_count": 10,
   "metadata": {},
   "outputs": [
    {
     "name": "stdout",
     "output_type": "stream",
     "text": [
      "송상훈_4.m4a\n",
      "ffmpeg -i ../mega/data/1202/누락/송상훈_4.m4a -acodec pcm_s16le -ac 1 -ar 16000 ../mega/data/1202/송상훈_4.wav\n",
      "오상훈_3.m4a\n",
      "ffmpeg -i ../mega/data/1202/누락/오상훈_3.m4a -acodec pcm_s16le -ac 1 -ar 16000 ../mega/data/1202/오상훈_3.wav\n",
      "오상훈_4.m4a\n",
      "ffmpeg -i ../mega/data/1202/누락/오상훈_4.m4a -acodec pcm_s16le -ac 1 -ar 16000 ../mega/data/1202/오상훈_4.wav\n",
      "이건희_3.m4a\n",
      "ffmpeg -i ../mega/data/1202/누락/이건희_3.m4a -acodec pcm_s16le -ac 1 -ar 16000 ../mega/data/1202/이건희_3.wav\n",
      "이건희_4.m4a\n",
      "ffmpeg -i ../mega/data/1202/누락/이건희_4.m4a -acodec pcm_s16le -ac 1 -ar 16000 ../mega/data/1202/이건희_4.wav\n",
      "장석영_4.m4a\n",
      "ffmpeg -i ../mega/data/1202/누락/장석영_4.m4a -acodec pcm_s16le -ac 1 -ar 16000 ../mega/data/1202/장석영_4.wav\n",
      "전나영_4.m4a\n",
      "ffmpeg -i ../mega/data/1202/누락/전나영_4.m4a -acodec pcm_s16le -ac 1 -ar 16000 ../mega/data/1202/전나영_4.wav\n"
     ]
    }
   ],
   "source": [
    "path_in = '../mega/data/1202/누락/'\n",
    "path_out = '../mega/data/1202/'\n",
    "for file in os.scandir(path_in):\n",
    "    if file.name.endswith('m4a'):\n",
    "        print(file.name)\n",
    "        mts_path = os.path.join(path_in, file.name)\n",
    "        wav_path = os.path.join(path_out, file.name[:-3])\n",
    "        convert = 'ffmpeg -i ' + mts_path + ' -acodec pcm_s16le -ac 1 -ar 16000 ' + wav_path+'wav'\n",
    "        print(convert)\n",
    "        os.system(convert)"
   ]
  },
  {
   "cell_type": "code",
   "execution_count": 8,
   "metadata": {},
   "outputs": [
    {
     "data": {
      "text/plain": [
       "0"
      ]
     },
     "execution_count": 8,
     "metadata": {},
     "output_type": "execute_result"
    }
   ],
   "source": [
    "os.system('ffmpeg -i capture2.mp4 -ac 2 -f wav capture2.wav')"
   ]
  },
  {
   "cell_type": "code",
   "execution_count": 3,
   "metadata": {},
   "outputs": [
    {
     "data": {
      "text/plain": [
       "0"
      ]
     },
     "execution_count": 3,
     "metadata": {},
     "output_type": "execute_result"
    }
   ],
   "source": [
    "os.system('ffmpeg -i exti_test.m4a -acodec pcm_s16le -ac 1 -ar 16000 exti_test.wav')"
   ]
  },
  {
   "cell_type": "code",
   "execution_count": 4,
   "metadata": {},
   "outputs": [],
   "source": [
    "path_in = 'exit'\n",
    "path_out = 'exit2'\n",
    "for file in os.scandir(path_in):\n",
    "    if file.name.endswith('m4a'):\n",
    "        mts_path = os.path.join(path_in, file.name)\n",
    "        wav_path = os.path.join(path_out, file.name[:-3])\n",
    "        convert = 'ffmpeg -i ' + mts_path + ' -acodec pcm_s16le -ac 1 -ar 16000 ' + wav_path+'wav'\n",
    "        os.system(convert)"
   ]
  },
  {
   "cell_type": "code",
   "execution_count": 14,
   "metadata": {},
   "outputs": [],
   "source": [
    "\n",
    "file_sr = librosa.get_samplerate('STT_audiobook/wav/1.wav')"
   ]
  },
  {
   "cell_type": "code",
   "execution_count": 15,
   "metadata": {},
   "outputs": [
    {
     "data": {
      "text/plain": [
       "44100"
      ]
     },
     "execution_count": 15,
     "metadata": {},
     "output_type": "execute_result"
    }
   ],
   "source": [
    "file_sr"
   ]
  },
  {
   "cell_type": "code",
   "execution_count": 3,
   "metadata": {},
   "outputs": [
    {
     "data": {
      "text/plain": [
       "0"
      ]
     },
     "execution_count": 3,
     "metadata": {},
     "output_type": "execute_result"
    }
   ],
   "source": [
    "os.system('ffmpeg -i 000009.flac -ac 1 000009_1.flac')"
   ]
  },
  {
   "cell_type": "code",
   "execution_count": 11,
   "metadata": {},
   "outputs": [
    {
     "name": "stdout",
     "output_type": "stream",
     "text": [
      "sr:  16000\n",
      "wav shape:  (3389099,)\n",
      "length:  211.8186875 secs\n"
     ]
    }
   ],
   "source": [
    "wav = 'test_self.wav'\n",
    "file_sr = librosa.get_samplerate(wav)\n",
    "\n",
    "y, sr = librosa.load(wav, sr=file_sr)\n",
    "print('sr: ', sr)\n",
    "print('wav shape: ', y.shape)\n",
    "print('length: ', y.shape[0]/float(sr), 'secs')"
   ]
  },
  {
   "cell_type": "code",
   "execution_count": 24,
   "metadata": {},
   "outputs": [],
   "source": [
    "sf.write('test_self5.wav', y[sr*170:], sr, subtype='PCM_16')"
   ]
  },
  {
   "cell_type": "code",
   "execution_count": null,
   "metadata": {},
   "outputs": [],
   "source": []
  }
 ],
 "metadata": {
  "kernelspec": {
   "display_name": "Python 3",
   "language": "python",
   "name": "python3"
  },
  "language_info": {
   "codemirror_mode": {
    "name": "ipython",
    "version": 3
   },
   "file_extension": ".py",
   "mimetype": "text/x-python",
   "name": "python",
   "nbconvert_exporter": "python",
   "pygments_lexer": "ipython3",
   "version": "3.8.3"
  }
 },
 "nbformat": 4,
 "nbformat_minor": 4
}
