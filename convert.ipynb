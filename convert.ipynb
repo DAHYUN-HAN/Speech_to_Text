{
 "cells": [
  {
   "cell_type": "code",
   "execution_count": 7,
   "metadata": {},
   "outputs": [],
   "source": [
    "import subprocess\n",
    "import os, sys\n",
    "path_in = 'video'\n",
    "path_out = 'audio'\n",
    "for file in os.scandir(path_in):\n",
    "    if file.name.endswith('MTS'):\n",
    "        mts_path = os.path.join(path_in, file.name)\n",
    "        wav_path = os.path.join(path_out, file.name[:-3])\n",
    "        convert = 'ffmpeg -i ' + mts_path + ' -acodec pcm_s16le -ac 1 -ar 16000 ' + wav_path+'wav'\n",
    "        os.system(convert)"
   ]
  },
  {
   "cell_type": "code",
   "execution_count": null,
   "metadata": {},
   "outputs": [],
   "source": []
  }
 ],
 "metadata": {
  "kernelspec": {
   "display_name": "Python 3",
   "language": "python",
   "name": "python3"
  },
  "language_info": {
   "codemirror_mode": {
    "name": "ipython",
    "version": 3
   },
   "file_extension": ".py",
   "mimetype": "text/x-python",
   "name": "python",
   "nbconvert_exporter": "python",
   "pygments_lexer": "ipython3",
   "version": "3.8.3"
  }
 },
 "nbformat": 4,
 "nbformat_minor": 4
}
