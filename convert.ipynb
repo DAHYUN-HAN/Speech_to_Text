{
 "cells": [
  {
   "cell_type": "code",
   "execution_count": 2,
   "metadata": {},
   "outputs": [],
   "source": [
    "import subprocess\n",
    "import os, sys"
   ]
  },
  {
   "cell_type": "code",
   "execution_count": 8,
   "metadata": {},
   "outputs": [
    {
     "name": "stdout",
     "output_type": "stream",
     "text": [
      "00006.MTS\n",
      "00007.MTS\n",
      "00008.MTS\n",
      "00009.MTS\n"
     ]
    }
   ],
   "source": [
    "path_in = 'video'\n",
    "path_out = 'audio3'\n",
    "for file in os.scandir(path_in):\n",
    "    if file.name.endswith('MTS'):\n",
    "        print(file.name)\n",
    "        mts_path = os.path.join(path_in, file.name)\n",
    "        wav_path = os.path.join(path_out, file.name[:-3])\n",
    "        convert = 'ffmpeg -i ' + mts_path + ' output ' + wav_path+'flac'\n",
    "        os.system(convert)"
   ]
  },
  {
   "cell_type": "code",
   "execution_count": 3,
   "metadata": {},
   "outputs": [
    {
     "data": {
      "text/plain": [
       "0"
      ]
     },
     "execution_count": 3,
     "metadata": {},
     "output_type": "execute_result"
    }
   ],
   "source": [
    "os.system('ffmpeg -i 00009.MTS -acodec pcm_s16le -ac 1 -ar 16000 134.wav')"
   ]
  },
  {
   "cell_type": "code",
   "execution_count": 4,
   "metadata": {},
   "outputs": [],
   "source": [
    "path_in = 'exit'\n",
    "path_out = 'exit2'\n",
    "for file in os.scandir(path_in):\n",
    "    if file.name.endswith('m4a'):\n",
    "        mts_path = os.path.join(path_in, file.name)\n",
    "        wav_path = os.path.join(path_out, file.name[:-3])\n",
    "        convert = 'ffmpeg -i ' + mts_path + ' -acodec pcm_s16le -ac 1 -ar 16000 ' + wav_path+'wav'\n",
    "        os.system(convert)"
   ]
  },
  {
   "cell_type": "code",
   "execution_count": 14,
   "metadata": {},
   "outputs": [],
   "source": [
    "import librosa\n",
    "file_sr = librosa.get_samplerate('STT_audiobook/wav/1.wav')"
   ]
  },
  {
   "cell_type": "code",
   "execution_count": 15,
   "metadata": {},
   "outputs": [
    {
     "data": {
      "text/plain": [
       "44100"
      ]
     },
     "execution_count": 15,
     "metadata": {},
     "output_type": "execute_result"
    }
   ],
   "source": [
    "file_sr"
   ]
  },
  {
   "cell_type": "code",
   "execution_count": 3,
   "metadata": {},
   "outputs": [
    {
     "data": {
      "text/plain": [
       "0"
      ]
     },
     "execution_count": 3,
     "metadata": {},
     "output_type": "execute_result"
    }
   ],
   "source": [
    "os.system('ffmpeg -i 000009.flac -ac 1 000009_1.flac')"
   ]
  },
  {
   "cell_type": "code",
   "execution_count": null,
   "metadata": {},
   "outputs": [],
   "source": []
  }
 ],
 "metadata": {
  "kernelspec": {
   "display_name": "Python 3",
   "language": "python",
   "name": "python3"
  },
  "language_info": {
   "codemirror_mode": {
    "name": "ipython",
    "version": 3
   },
   "file_extension": ".py",
   "mimetype": "text/x-python",
   "name": "python",
   "nbconvert_exporter": "python",
   "pygments_lexer": "ipython3",
   "version": "3.8.3"
  }
 },
 "nbformat": 4,
 "nbformat_minor": 4
}
